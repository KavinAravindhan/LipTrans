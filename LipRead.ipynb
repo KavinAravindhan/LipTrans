{
 "cells": [
  {
   "cell_type": "markdown",
   "id": "a3573a47-3689-4668-b62f-5c8451b2b4e9",
   "metadata": {
    "tags": []
   },
   "source": [
    "# 0. Install and Import Dependencies"
   ]
  },
  {
   "cell_type": "code",
   "execution_count": 5,
   "id": "ddfbccbe-41ae-4c23-98b1-a13868e2b499",
   "metadata": {
    "scrolled": true,
    "tags": []
   },
   "outputs": [
    {
     "name": "stdout",
     "output_type": "stream",
     "text": [
      "Package                      Version\n",
      "---------------------------- --------\n",
      "absl-py                      2.1.0\n",
      "asttokens                    2.4.1\n",
      "astunparse                   1.6.3\n",
      "audioread                    3.0.1\n",
      "av                           9.2.0\n",
      "beautifulsoup4               4.12.3\n",
      "blobfile                     2.1.1\n",
      "cachetools                   5.3.2\n",
      "certifi                      2024.2.2\n",
      "cffi                         1.16.0\n",
      "charset-normalizer           3.3.2\n",
      "click                        8.1.7\n",
      "colorama                     0.4.6\n",
      "comm                         0.2.1\n",
      "contourpy                    1.2.0\n",
      "cycler                       0.12.1\n",
      "debugpy                      1.8.1\n",
      "decorator                    4.4.2\n",
      "dlib                         19.24.2\n",
      "exceptiongroup               1.2.0\n",
      "executing                    2.0.1\n",
      "filelock                     3.13.1\n",
      "flatbuffers                  23.5.26\n",
      "fonttools                    4.49.0\n",
      "fsspec                       2024.2.0\n",
      "gast                         0.4.0\n",
      "gdown                        5.1.0\n",
      "google-auth                  2.27.0\n",
      "google-auth-oauthlib         0.4.6\n",
      "google-pasta                 0.2.0\n",
      "grpcio                       1.60.1\n",
      "gTTS                         2.5.1\n",
      "h5py                         3.10.0\n",
      "idna                         3.6\n",
      "imageio                      2.23.0\n",
      "imageio-ffmpeg               0.4.9\n",
      "importlib-metadata           7.0.1\n",
      "importlib_resources          6.1.2\n",
      "ipykernel                    6.29.2\n",
      "ipython                      8.18.1\n",
      "jedi                         0.19.1\n",
      "Jinja2                       3.1.3\n",
      "joblib                       1.3.2\n",
      "jupyter_client               8.6.0\n",
      "jupyter_core                 5.7.1\n",
      "keras                        2.10.0\n",
      "Keras-Preprocessing          1.1.2\n",
      "kiwisolver                   1.4.5\n",
      "libclang                     16.0.6\n",
      "librosa                      0.9.2\n",
      "llvmlite                     0.42.0\n",
      "lxml                         4.9.4\n",
      "Markdown                     3.5.2\n",
      "MarkupSafe                   2.1.5\n",
      "matplotlib                   3.8.3\n",
      "matplotlib-inline            0.1.6\n",
      "ml-dtypes                    0.2.0\n",
      "moviepy                      1.0.3\n",
      "mpi4py-mpich                 3.1.2\n",
      "mpmath                       1.3.0\n",
      "nest_asyncio                 1.6.0\n",
      "networkx                     3.2.1\n",
      "numba                        0.59.0\n",
      "numpy                        1.26.4\n",
      "oauthlib                     3.2.2\n",
      "opencv-contrib-python        4.6.0.66\n",
      "opencv-python                4.5.5.64\n",
      "opt-einsum                   3.3.0\n",
      "packaging                    23.2\n",
      "parso                        0.8.3\n",
      "pickleshare                  0.7.5\n",
      "pillow                       10.2.0\n",
      "pip                          23.3.1\n",
      "platformdirs                 4.2.0\n",
      "pooch                        1.8.0\n",
      "proglog                      0.1.10\n",
      "prompt-toolkit               3.0.42\n",
      "protobuf                     3.19.6\n",
      "psutil                       5.9.8\n",
      "pure-eval                    0.2.2\n",
      "pyasn1                       0.5.1\n",
      "pyasn1-modules               0.3.0\n",
      "pycparser                    2.21\n",
      "pycryptodomex                3.20.0\n",
      "pydub                        0.25.1\n",
      "Pygments                     2.17.2\n",
      "pyparsing                    3.1.1\n",
      "PySocks                      1.7.1\n",
      "python-dateutil              2.8.2\n",
      "pywin32                      306\n",
      "pyzmq                        25.1.2\n",
      "requests                     2.31.0\n",
      "requests-oauthlib            1.3.1\n",
      "resampy                      0.4.2\n",
      "rsa                          4.9\n",
      "scikit-learn                 1.4.0\n",
      "scipy                        1.12.0\n",
      "setuptools                   68.2.2\n",
      "six                          1.16.0\n",
      "soundfile                    0.12.1\n",
      "soupsieve                    2.5\n",
      "stack-data                   0.6.2\n",
      "sympy                        1.12\n",
      "tensorboard                  2.10.1\n",
      "tensorboard-data-server      0.6.1\n",
      "tensorboard-plugin-wit       1.8.1\n",
      "tensorflow                   2.10.1\n",
      "tensorflow-estimator         2.10.0\n",
      "tensorflow-intel             2.15.0\n",
      "tensorflow-io-gcs-filesystem 0.31.0\n",
      "termcolor                    2.4.0\n",
      "threadpoolctl                3.2.0\n",
      "torch                        2.2.0\n",
      "torchaudio                   2.2.0\n",
      "torchvision                  0.17.0\n",
      "tornado                      6.4\n",
      "tqdm                         4.64.1\n",
      "traitlets                    5.14.1\n",
      "typing_extensions            4.10.0\n",
      "urllib3                      2.2.0\n",
      "wcwidth                      0.2.13\n",
      "Werkzeug                     3.0.1\n",
      "wheel                        0.41.2\n",
      "wrapt                        1.14.1\n",
      "zipp                         3.17.0\n"
     ]
    }
   ],
   "source": [
    "!pip list"
   ]
  },
  {
   "cell_type": "code",
   "execution_count": null,
   "id": "17e4d15e",
   "metadata": {},
   "outputs": [],
   "source": []
  },
  {
   "cell_type": "code",
   "execution_count": 2,
   "id": "02f907ea-f669-46c7-adcf-7f257e663448",
   "metadata": {
    "tags": []
   },
   "outputs": [
    {
     "name": "stdout",
     "output_type": "stream",
     "text": [
      "Requirement already satisfied: opencv-python in c:\\users\\kires\\anaconda3\\envs\\diff2lip\\lib\\site-packages (4.5.5.64)\n",
      "Collecting matplotlib\n",
      "  Downloading matplotlib-3.8.3-cp39-cp39-win_amd64.whl.metadata (5.9 kB)\n",
      "Requirement already satisfied: imageio in c:\\users\\kires\\anaconda3\\envs\\diff2lip\\lib\\site-packages (2.34.0)\n",
      "Collecting gdown\n",
      "  Downloading gdown-5.1.0-py3-none-any.whl.metadata (5.7 kB)\n",
      "Requirement already satisfied: tensorflow in c:\\users\\kires\\anaconda3\\envs\\diff2lip\\lib\\site-packages (2.15.0)\n",
      "Requirement already satisfied: numpy>=1.14.5 in c:\\users\\kires\\anaconda3\\envs\\diff2lip\\lib\\site-packages (from opencv-python) (1.26.4)\n",
      "Collecting contourpy>=1.0.1 (from matplotlib)\n",
      "  Downloading contourpy-1.2.0-cp39-cp39-win_amd64.whl.metadata (5.8 kB)\n",
      "Collecting cycler>=0.10 (from matplotlib)\n",
      "  Downloading cycler-0.12.1-py3-none-any.whl.metadata (3.8 kB)\n",
      "Collecting fonttools>=4.22.0 (from matplotlib)\n",
      "  Downloading fonttools-4.49.0-cp39-cp39-win_amd64.whl.metadata (162 kB)\n",
      "     ---------------------------------------- 0.0/162.3 kB ? eta -:--:--\n",
      "     -------------- ------------------------ 61.4/162.3 kB 1.7 MB/s eta 0:00:01\n",
      "     -------------------------------------- 162.3/162.3 kB 1.9 MB/s eta 0:00:00\n",
      "Collecting kiwisolver>=1.3.1 (from matplotlib)\n",
      "  Downloading kiwisolver-1.4.5-cp39-cp39-win_amd64.whl.metadata (6.5 kB)\n",
      "Requirement already satisfied: packaging>=20.0 in c:\\users\\kires\\anaconda3\\envs\\diff2lip\\lib\\site-packages (from matplotlib) (23.2)\n",
      "Requirement already satisfied: pillow>=8 in c:\\users\\kires\\anaconda3\\envs\\diff2lip\\lib\\site-packages (from matplotlib) (10.2.0)\n",
      "Collecting pyparsing>=2.3.1 (from matplotlib)\n",
      "  Downloading pyparsing-3.1.1-py3-none-any.whl.metadata (5.1 kB)\n",
      "Requirement already satisfied: python-dateutil>=2.7 in c:\\users\\kires\\anaconda3\\envs\\diff2lip\\lib\\site-packages (from matplotlib) (2.8.2)\n",
      "Collecting importlib-resources>=3.2.0 (from matplotlib)\n",
      "  Downloading importlib_resources-6.1.2-py3-none-any.whl.metadata (3.9 kB)\n",
      "Collecting beautifulsoup4 (from gdown)\n",
      "  Downloading beautifulsoup4-4.12.3-py3-none-any.whl.metadata (3.8 kB)\n",
      "Requirement already satisfied: filelock in c:\\users\\kires\\anaconda3\\envs\\diff2lip\\lib\\site-packages (from gdown) (3.13.1)\n",
      "Requirement already satisfied: requests[socks] in c:\\users\\kires\\anaconda3\\envs\\diff2lip\\lib\\site-packages (from gdown) (2.31.0)\n",
      "Requirement already satisfied: tqdm in c:\\users\\kires\\anaconda3\\envs\\diff2lip\\lib\\site-packages (from gdown) (4.64.1)\n",
      "Requirement already satisfied: tensorflow-intel==2.15.0 in c:\\users\\kires\\anaconda3\\envs\\diff2lip\\lib\\site-packages (from tensorflow) (2.15.0)\n",
      "Requirement already satisfied: absl-py>=1.0.0 in c:\\users\\kires\\anaconda3\\envs\\diff2lip\\lib\\site-packages (from tensorflow-intel==2.15.0->tensorflow) (2.1.0)\n",
      "Requirement already satisfied: astunparse>=1.6.0 in c:\\users\\kires\\anaconda3\\envs\\diff2lip\\lib\\site-packages (from tensorflow-intel==2.15.0->tensorflow) (1.6.3)\n",
      "Requirement already satisfied: flatbuffers>=23.5.26 in c:\\users\\kires\\anaconda3\\envs\\diff2lip\\lib\\site-packages (from tensorflow-intel==2.15.0->tensorflow) (23.5.26)\n",
      "Requirement already satisfied: gast!=0.5.0,!=0.5.1,!=0.5.2,>=0.2.1 in c:\\users\\kires\\anaconda3\\envs\\diff2lip\\lib\\site-packages (from tensorflow-intel==2.15.0->tensorflow) (0.5.4)\n",
      "Requirement already satisfied: google-pasta>=0.1.1 in c:\\users\\kires\\anaconda3\\envs\\diff2lip\\lib\\site-packages (from tensorflow-intel==2.15.0->tensorflow) (0.2.0)\n",
      "Requirement already satisfied: h5py>=2.9.0 in c:\\users\\kires\\anaconda3\\envs\\diff2lip\\lib\\site-packages (from tensorflow-intel==2.15.0->tensorflow) (3.10.0)\n",
      "Requirement already satisfied: libclang>=13.0.0 in c:\\users\\kires\\anaconda3\\envs\\diff2lip\\lib\\site-packages (from tensorflow-intel==2.15.0->tensorflow) (16.0.6)\n",
      "Requirement already satisfied: ml-dtypes~=0.2.0 in c:\\users\\kires\\anaconda3\\envs\\diff2lip\\lib\\site-packages (from tensorflow-intel==2.15.0->tensorflow) (0.2.0)\n",
      "Requirement already satisfied: opt-einsum>=2.3.2 in c:\\users\\kires\\anaconda3\\envs\\diff2lip\\lib\\site-packages (from tensorflow-intel==2.15.0->tensorflow) (3.3.0)\n",
      "Requirement already satisfied: protobuf!=4.21.0,!=4.21.1,!=4.21.2,!=4.21.3,!=4.21.4,!=4.21.5,<5.0.0dev,>=3.20.3 in c:\\users\\kires\\anaconda3\\envs\\diff2lip\\lib\\site-packages (from tensorflow-intel==2.15.0->tensorflow) (3.20.3)\n",
      "Requirement already satisfied: setuptools in c:\\users\\kires\\anaconda3\\envs\\diff2lip\\lib\\site-packages (from tensorflow-intel==2.15.0->tensorflow) (68.2.2)\n",
      "Requirement already satisfied: six>=1.12.0 in c:\\users\\kires\\anaconda3\\envs\\diff2lip\\lib\\site-packages (from tensorflow-intel==2.15.0->tensorflow) (1.16.0)\n",
      "Requirement already satisfied: termcolor>=1.1.0 in c:\\users\\kires\\anaconda3\\envs\\diff2lip\\lib\\site-packages (from tensorflow-intel==2.15.0->tensorflow) (2.4.0)\n",
      "Requirement already satisfied: typing-extensions>=3.6.6 in c:\\users\\kires\\anaconda3\\envs\\diff2lip\\lib\\site-packages (from tensorflow-intel==2.15.0->tensorflow) (4.10.0)\n",
      "Requirement already satisfied: wrapt<1.15,>=1.11.0 in c:\\users\\kires\\anaconda3\\envs\\diff2lip\\lib\\site-packages (from tensorflow-intel==2.15.0->tensorflow) (1.14.1)\n",
      "Requirement already satisfied: tensorflow-io-gcs-filesystem>=0.23.1 in c:\\users\\kires\\anaconda3\\envs\\diff2lip\\lib\\site-packages (from tensorflow-intel==2.15.0->tensorflow) (0.31.0)\n",
      "Requirement already satisfied: grpcio<2.0,>=1.24.3 in c:\\users\\kires\\anaconda3\\envs\\diff2lip\\lib\\site-packages (from tensorflow-intel==2.15.0->tensorflow) (1.60.1)\n",
      "Requirement already satisfied: tensorboard<2.16,>=2.15 in c:\\users\\kires\\anaconda3\\envs\\diff2lip\\lib\\site-packages (from tensorflow-intel==2.15.0->tensorflow) (2.15.2)\n",
      "Requirement already satisfied: tensorflow-estimator<2.16,>=2.15.0 in c:\\users\\kires\\anaconda3\\envs\\diff2lip\\lib\\site-packages (from tensorflow-intel==2.15.0->tensorflow) (2.15.0)\n",
      "Requirement already satisfied: keras<2.16,>=2.15.0 in c:\\users\\kires\\anaconda3\\envs\\diff2lip\\lib\\site-packages (from tensorflow-intel==2.15.0->tensorflow) (2.15.0)\n",
      "Requirement already satisfied: zipp>=3.1.0 in c:\\users\\kires\\anaconda3\\envs\\diff2lip\\lib\\site-packages (from importlib-resources>=3.2.0->matplotlib) (3.17.0)\n",
      "Collecting soupsieve>1.2 (from beautifulsoup4->gdown)\n",
      "  Downloading soupsieve-2.5-py3-none-any.whl.metadata (4.7 kB)\n",
      "Requirement already satisfied: charset-normalizer<4,>=2 in c:\\users\\kires\\anaconda3\\envs\\diff2lip\\lib\\site-packages (from requests[socks]->gdown) (3.3.2)\n",
      "Requirement already satisfied: idna<4,>=2.5 in c:\\users\\kires\\anaconda3\\envs\\diff2lip\\lib\\site-packages (from requests[socks]->gdown) (3.6)\n",
      "Requirement already satisfied: urllib3<3,>=1.21.1 in c:\\users\\kires\\anaconda3\\envs\\diff2lip\\lib\\site-packages (from requests[socks]->gdown) (2.2.0)\n",
      "Requirement already satisfied: certifi>=2017.4.17 in c:\\users\\kires\\anaconda3\\envs\\diff2lip\\lib\\site-packages (from requests[socks]->gdown) (2024.2.2)\n",
      "Collecting PySocks!=1.5.7,>=1.5.6 (from requests[socks]->gdown)\n",
      "  Downloading PySocks-1.7.1-py3-none-any.whl (16 kB)\n",
      "Requirement already satisfied: colorama in c:\\users\\kires\\anaconda3\\envs\\diff2lip\\lib\\site-packages (from tqdm->gdown) (0.4.6)\n",
      "Requirement already satisfied: wheel<1.0,>=0.23.0 in c:\\users\\kires\\anaconda3\\envs\\diff2lip\\lib\\site-packages (from astunparse>=1.6.0->tensorflow-intel==2.15.0->tensorflow) (0.41.2)\n",
      "Requirement already satisfied: google-auth<3,>=1.6.3 in c:\\users\\kires\\anaconda3\\envs\\diff2lip\\lib\\site-packages (from tensorboard<2.16,>=2.15->tensorflow-intel==2.15.0->tensorflow) (2.27.0)\n",
      "Requirement already satisfied: google-auth-oauthlib<2,>=0.5 in c:\\users\\kires\\anaconda3\\envs\\diff2lip\\lib\\site-packages (from tensorboard<2.16,>=2.15->tensorflow-intel==2.15.0->tensorflow) (1.2.0)\n",
      "Requirement already satisfied: markdown>=2.6.8 in c:\\users\\kires\\anaconda3\\envs\\diff2lip\\lib\\site-packages (from tensorboard<2.16,>=2.15->tensorflow-intel==2.15.0->tensorflow) (3.5.2)\n",
      "Requirement already satisfied: tensorboard-data-server<0.8.0,>=0.7.0 in c:\\users\\kires\\anaconda3\\envs\\diff2lip\\lib\\site-packages (from tensorboard<2.16,>=2.15->tensorflow-intel==2.15.0->tensorflow) (0.7.2)\n",
      "Requirement already satisfied: werkzeug>=1.0.1 in c:\\users\\kires\\anaconda3\\envs\\diff2lip\\lib\\site-packages (from tensorboard<2.16,>=2.15->tensorflow-intel==2.15.0->tensorflow) (3.0.1)\n",
      "Requirement already satisfied: cachetools<6.0,>=2.0.0 in c:\\users\\kires\\anaconda3\\envs\\diff2lip\\lib\\site-packages (from google-auth<3,>=1.6.3->tensorboard<2.16,>=2.15->tensorflow-intel==2.15.0->tensorflow) (5.3.2)\n",
      "Requirement already satisfied: pyasn1-modules>=0.2.1 in c:\\users\\kires\\anaconda3\\envs\\diff2lip\\lib\\site-packages (from google-auth<3,>=1.6.3->tensorboard<2.16,>=2.15->tensorflow-intel==2.15.0->tensorflow) (0.3.0)\n",
      "Requirement already satisfied: rsa<5,>=3.1.4 in c:\\users\\kires\\anaconda3\\envs\\diff2lip\\lib\\site-packages (from google-auth<3,>=1.6.3->tensorboard<2.16,>=2.15->tensorflow-intel==2.15.0->tensorflow) (4.9)\n",
      "Requirement already satisfied: requests-oauthlib>=0.7.0 in c:\\users\\kires\\anaconda3\\envs\\diff2lip\\lib\\site-packages (from google-auth-oauthlib<2,>=0.5->tensorboard<2.16,>=2.15->tensorflow-intel==2.15.0->tensorflow) (1.3.1)\n",
      "Requirement already satisfied: importlib-metadata>=4.4 in c:\\users\\kires\\anaconda3\\envs\\diff2lip\\lib\\site-packages (from markdown>=2.6.8->tensorboard<2.16,>=2.15->tensorflow-intel==2.15.0->tensorflow) (7.0.1)\n",
      "Requirement already satisfied: MarkupSafe>=2.1.1 in c:\\users\\kires\\anaconda3\\envs\\diff2lip\\lib\\site-packages (from werkzeug>=1.0.1->tensorboard<2.16,>=2.15->tensorflow-intel==2.15.0->tensorflow) (2.1.5)\n",
      "Requirement already satisfied: pyasn1<0.6.0,>=0.4.6 in c:\\users\\kires\\anaconda3\\envs\\diff2lip\\lib\\site-packages (from pyasn1-modules>=0.2.1->google-auth<3,>=1.6.3->tensorboard<2.16,>=2.15->tensorflow-intel==2.15.0->tensorflow) (0.5.1)\n",
      "Requirement already satisfied: oauthlib>=3.0.0 in c:\\users\\kires\\anaconda3\\envs\\diff2lip\\lib\\site-packages (from requests-oauthlib>=0.7.0->google-auth-oauthlib<2,>=0.5->tensorboard<2.16,>=2.15->tensorflow-intel==2.15.0->tensorflow) (3.2.2)\n",
      "Downloading matplotlib-3.8.3-cp39-cp39-win_amd64.whl (7.6 MB)\n",
      "   ---------------------------------------- 0.0/7.6 MB ? eta -:--:--\n",
      "   - -------------------------------------- 0.3/7.6 MB 9.9 MB/s eta 0:00:01\n",
      "   ---- ----------------------------------- 0.8/7.6 MB 10.0 MB/s eta 0:00:01\n",
      "   ------ --------------------------------- 1.3/7.6 MB 10.0 MB/s eta 0:00:01\n",
      "   --------- ------------------------------ 1.8/7.6 MB 10.2 MB/s eta 0:00:01\n",
      "   ----------- ---------------------------- 2.1/7.6 MB 10.5 MB/s eta 0:00:01\n",
      "   -------------- ------------------------- 2.7/7.6 MB 9.6 MB/s eta 0:00:01\n",
      "   ----------------- ---------------------- 3.3/7.6 MB 10.5 MB/s eta 0:00:01\n",
      "   -------------------- ------------------- 3.9/7.6 MB 10.8 MB/s eta 0:00:01\n",
      "   ----------------------- ---------------- 4.6/7.6 MB 11.3 MB/s eta 0:00:01\n",
      "   -------------------------- ------------- 5.0/7.6 MB 11.4 MB/s eta 0:00:01\n",
      "   ------------------------------ --------- 5.8/7.6 MB 11.6 MB/s eta 0:00:01\n",
      "   --------------------------------- ------ 6.3/7.6 MB 11.6 MB/s eta 0:00:01\n",
      "   ----------------------------------- ---- 6.8/7.6 MB 11.7 MB/s eta 0:00:01\n",
      "   ---------------------------------------  7.6/7.6 MB 12.1 MB/s eta 0:00:01\n",
      "   ---------------------------------------- 7.6/7.6 MB 11.9 MB/s eta 0:00:00\n",
      "Downloading gdown-5.1.0-py3-none-any.whl (17 kB)\n",
      "Downloading contourpy-1.2.0-cp39-cp39-win_amd64.whl (181 kB)\n",
      "   ---------------------------------------- 0.0/181.9 kB ? eta -:--:--\n",
      "   --------------------------------------- 181.9/181.9 kB 11.4 MB/s eta 0:00:00\n",
      "Downloading cycler-0.12.1-py3-none-any.whl (8.3 kB)\n",
      "Downloading fonttools-4.49.0-cp39-cp39-win_amd64.whl (2.2 MB)\n",
      "   ---------------------------------------- 0.0/2.2 MB ? eta -:--:--\n",
      "   --------------- ------------------------ 0.9/2.2 MB 53.8 MB/s eta 0:00:01\n",
      "   -------------------------------- ------- 1.8/2.2 MB 22.8 MB/s eta 0:00:01\n",
      "   ---------------------------------------- 2.2/2.2 MB 19.9 MB/s eta 0:00:00\n",
      "Downloading importlib_resources-6.1.2-py3-none-any.whl (34 kB)\n",
      "Downloading kiwisolver-1.4.5-cp39-cp39-win_amd64.whl (56 kB)\n",
      "   ---------------------------------------- 0.0/56.2 kB ? eta -:--:--\n",
      "   ---------------------------------------- 56.2/56.2 kB ? eta 0:00:00\n",
      "Downloading pyparsing-3.1.1-py3-none-any.whl (103 kB)\n",
      "   ---------------------------------------- 0.0/103.1 kB ? eta -:--:--\n",
      "   ---------------------------------------- 103.1/103.1 kB ? eta 0:00:00\n",
      "Downloading beautifulsoup4-4.12.3-py3-none-any.whl (147 kB)\n",
      "   ---------------------------------------- 0.0/147.9 kB ? eta -:--:--\n",
      "   ---------------------------------------- 147.9/147.9 kB 9.2 MB/s eta 0:00:00\n",
      "Downloading soupsieve-2.5-py3-none-any.whl (36 kB)\n",
      "Installing collected packages: soupsieve, PySocks, pyparsing, kiwisolver, importlib-resources, fonttools, cycler, contourpy, matplotlib, beautifulsoup4, gdown\n",
      "Successfully installed PySocks-1.7.1 beautifulsoup4-4.12.3 contourpy-1.2.0 cycler-0.12.1 fonttools-4.49.0 gdown-5.1.0 importlib-resources-6.1.2 kiwisolver-1.4.5 matplotlib-3.8.3 pyparsing-3.1.1 soupsieve-2.5\n"
     ]
    }
   ],
   "source": [
    "# !pip install opencv-python matplotlib imageio gdown tensorflow"
   ]
  },
  {
   "cell_type": "code",
   "execution_count": 2,
   "id": "b24af50c-20b8-409d-ad78-30a933fdd669",
   "metadata": {
    "tags": []
   },
   "outputs": [],
   "source": [
    "import os\n",
    "import cv2\n",
    "import tensorflow as tf\n",
    "import numpy as np\n",
    "from typing import List\n",
    "from matplotlib import pyplot as plt\n",
    "import imageio"
   ]
  },
  {
   "cell_type": "code",
   "execution_count": 3,
   "id": "1e3db0b0-e559-4ad6-91fd-e7414b7d75e6",
   "metadata": {},
   "outputs": [
    {
     "data": {
      "text/plain": [
       "[]"
      ]
     },
     "execution_count": 3,
     "metadata": {},
     "output_type": "execute_result"
    }
   ],
   "source": [
    "tf.config.list_physical_devices('GPU')"
   ]
  },
  {
   "cell_type": "code",
   "execution_count": 4,
   "id": "378d045a-3003-4f93-b7d2-a25a97774a68",
   "metadata": {
    "tags": []
   },
   "outputs": [],
   "source": [
    "physical_devices = tf.config.list_physical_devices('GPU')\n",
    "try:\n",
    "    tf.config.experimental.set_memory_growth(physical_devices[0], True)\n",
    "except:\n",
    "    pass"
   ]
  },
  {
   "cell_type": "markdown",
   "id": "7a19e88e-c7b9-45c1-ae1e-f2109329c71b",
   "metadata": {
    "tags": []
   },
   "source": [
    "# 1. Build Data Loading Functions"
   ]
  },
  {
   "cell_type": "code",
   "execution_count": 5,
   "id": "8fb99c90-e05a-437f-839d-6e772f8c1dd5",
   "metadata": {
    "tags": []
   },
   "outputs": [],
   "source": [
    "import gdown"
   ]
  },
  {
   "cell_type": "code",
   "execution_count": 6,
   "id": "c019e4c6-2af3-4160-99ea-5c8cb009f1a7",
   "metadata": {
    "tags": []
   },
   "outputs": [],
   "source": [
    "# url = 'https://drive.google.com/uc?id=1YlvpDLix3S-U8fd-gqRwPcWXAXm8JwjL'\n",
    "# output = 'data.zip'\n",
    "# gdown.download(url, output, quiet=False)\n",
    "# gdown.extractall('data.zip')"
   ]
  },
  {
   "cell_type": "code",
   "execution_count": 7,
   "id": "8548cc59-6dfc-4acc-abc3-3e65212db02e",
   "metadata": {
    "tags": []
   },
   "outputs": [],
   "source": [
    "def load_video(path:str) -> List[float]: \n",
    "\n",
    "    cap = cv2.VideoCapture(path)\n",
    "    frames = []\n",
    "    for _ in range(int(cap.get(cv2.CAP_PROP_FRAME_COUNT))): \n",
    "        ret, frame = cap.read()\n",
    "        frame = tf.image.rgb_to_grayscale(frame)\n",
    "        frames.append(frame[190:236,80:220,:])\n",
    "    cap.release()\n",
    "    \n",
    "    mean = tf.math.reduce_mean(frames)\n",
    "    std = tf.math.reduce_std(tf.cast(frames, tf.float32))\n",
    "    return tf.cast((frames - mean), tf.float32) / std"
   ]
  },
  {
   "cell_type": "code",
   "execution_count": 8,
   "id": "ec735e0b-ec98-4eb0-8f49-c35527d6670a",
   "metadata": {
    "tags": []
   },
   "outputs": [],
   "source": [
    "vocab = [x for x in \"abcdefghijklmnopqrstuvwxyz'?!123456789 \"]"
   ]
  },
  {
   "cell_type": "code",
   "execution_count": 9,
   "id": "be04e972-d7a5-4a72-82d8-a6bdde1f3ce6",
   "metadata": {
    "tags": []
   },
   "outputs": [
    {
     "name": "stdout",
     "output_type": "stream",
     "text": [
      "The vocabulary is: ['', 'a', 'b', 'c', 'd', 'e', 'f', 'g', 'h', 'i', 'j', 'k', 'l', 'm', 'n', 'o', 'p', 'q', 'r', 's', 't', 'u', 'v', 'w', 'x', 'y', 'z', \"'\", '?', '!', '1', '2', '3', '4', '5', '6', '7', '8', '9', ' '] (size =40)\n"
     ]
    }
   ],
   "source": [
    "char_to_num = tf.keras.layers.StringLookup(vocabulary=vocab, oov_token=\"\")\n",
    "num_to_char = tf.keras.layers.StringLookup(\n",
    "    vocabulary=char_to_num.get_vocabulary(), oov_token=\"\", invert=True\n",
    ")\n",
    "\n",
    "print(\n",
    "    f\"The vocabulary is: {char_to_num.get_vocabulary()} \"\n",
    "    f\"(size ={char_to_num.vocabulary_size()})\"\n",
    ")"
   ]
  },
  {
   "cell_type": "code",
   "execution_count": 10,
   "id": "559f7420-6802-45fa-9ca0-b1ff209b461c",
   "metadata": {
    "tags": []
   },
   "outputs": [
    {
     "data": {
      "text/plain": [
       "['',\n",
       " 'a',\n",
       " 'b',\n",
       " 'c',\n",
       " 'd',\n",
       " 'e',\n",
       " 'f',\n",
       " 'g',\n",
       " 'h',\n",
       " 'i',\n",
       " 'j',\n",
       " 'k',\n",
       " 'l',\n",
       " 'm',\n",
       " 'n',\n",
       " 'o',\n",
       " 'p',\n",
       " 'q',\n",
       " 'r',\n",
       " 's',\n",
       " 't',\n",
       " 'u',\n",
       " 'v',\n",
       " 'w',\n",
       " 'x',\n",
       " 'y',\n",
       " 'z',\n",
       " \"'\",\n",
       " '?',\n",
       " '!',\n",
       " '1',\n",
       " '2',\n",
       " '3',\n",
       " '4',\n",
       " '5',\n",
       " '6',\n",
       " '7',\n",
       " '8',\n",
       " '9',\n",
       " ' ']"
      ]
     },
     "execution_count": 10,
     "metadata": {},
     "output_type": "execute_result"
    }
   ],
   "source": [
    "char_to_num.get_vocabulary()"
   ]
  },
  {
   "cell_type": "code",
   "execution_count": 11,
   "id": "797ff78b-b48f-4e14-bb62-8cd0ebf9501a",
   "metadata": {
    "tags": []
   },
   "outputs": [
    {
     "data": {
      "text/plain": [
       "<tf.Tensor: shape=(4,), dtype=int64, numpy=array([14,  9,  3, 11], dtype=int64)>"
      ]
     },
     "execution_count": 11,
     "metadata": {},
     "output_type": "execute_result"
    }
   ],
   "source": [
    "char_to_num(['n','i','c','k'])"
   ]
  },
  {
   "cell_type": "code",
   "execution_count": 12,
   "id": "8cd7f4f4-ae77-4509-a4f4-c723787ebad1",
   "metadata": {},
   "outputs": [
    {
     "data": {
      "text/plain": [
       "<tf.Tensor: shape=(4,), dtype=string, numpy=array([b'n', b'i', b'c', b'k'], dtype=object)>"
      ]
     },
     "execution_count": 12,
     "metadata": {},
     "output_type": "execute_result"
    }
   ],
   "source": [
    "num_to_char([14,  9,  3, 11])"
   ]
  },
  {
   "cell_type": "code",
   "execution_count": 13,
   "id": "9491bab5-6a3c-4f79-879a-8f9fbe73ae2e",
   "metadata": {
    "tags": []
   },
   "outputs": [],
   "source": [
    "def load_alignments(path:str) -> List[str]: \n",
    "    with open(path, 'r') as f: \n",
    "        lines = f.readlines() \n",
    "    tokens = []\n",
    "    for line in lines:\n",
    "        line = line.split()\n",
    "        if line[2] != 'sil': \n",
    "            tokens = [*tokens,' ',line[2]]\n",
    "    return char_to_num(tf.reshape(tf.strings.unicode_split(tokens, input_encoding='UTF-8'), (-1)))[1:]"
   ]
  },
  {
   "cell_type": "code",
   "execution_count": 14,
   "id": "dd01ca9f-77fb-4643-a2aa-47dd82c5d66b",
   "metadata": {
    "tags": []
   },
   "outputs": [],
   "source": [
    "def load_data(path: str): \n",
    "    path = bytes.decode(path.numpy())\n",
    "    #file_name = path.split('/')[-1].split('.')[0]\n",
    "    # File name splitting for windows\n",
    "    file_name = path.split('\\\\')[-1].split('.')[0]\n",
    "    video_path = os.path.join('data','s1',f'{file_name}.mpg')\n",
    "    alignment_path = os.path.join('data','alignments','s1',f'{file_name}.align')\n",
    "    frames = load_video(video_path) \n",
    "    alignments = load_alignments(alignment_path)\n",
    "    \n",
    "    return frames, alignments"
   ]
  },
  {
   "cell_type": "code",
   "execution_count": 15,
   "id": "8cb7cc58-31ae-4904-a805-1177a82717d2",
   "metadata": {
    "tags": []
   },
   "outputs": [],
   "source": [
    "test_path = '.\\\\data\\\\s1\\\\bbal6n.mpg'"
   ]
  },
  {
   "cell_type": "code",
   "execution_count": 16,
   "id": "76aa964f-0c84-490d-897a-d00e3966e2c9",
   "metadata": {},
   "outputs": [
    {
     "data": {
      "text/plain": [
       "'bbal6n'"
      ]
     },
     "execution_count": 16,
     "metadata": {},
     "output_type": "execute_result"
    }
   ],
   "source": [
    "tf.convert_to_tensor(test_path).numpy().decode('utf-8').split('\\\\')[-1].split('.')[0]"
   ]
  },
  {
   "cell_type": "code",
   "execution_count": 17,
   "id": "eb602c71-8560-4f9e-b26b-08202febb937",
   "metadata": {
    "scrolled": true,
    "tags": []
   },
   "outputs": [],
   "source": [
    "frames, alignments = load_data(tf.convert_to_tensor(test_path))"
   ]
  },
  {
   "cell_type": "code",
   "execution_count": 18,
   "id": "0e3184a1-6b02-4b4f-84a8-a0a65f951ea2",
   "metadata": {},
   "outputs": [
    {
     "data": {
      "text/plain": [
       "<matplotlib.image.AxesImage at 0x25156f22370>"
      ]
     },
     "execution_count": 18,
     "metadata": {},
     "output_type": "execute_result"
    },
    {
     "data": {
      "image/png": "[encoded data removed]",
      "text/plain": [
       "<Figure size 640x480 with 1 Axes>"
      ]
     },
     "metadata": {},
     "output_type": "display_data"
    }
   ],
   "source": [
    "plt.imshow(frames[40])"
   ]
  },
  {
   "cell_type": "code",
   "execution_count": 19,
   "id": "d7ec0833-d54b-4073-84cf-92d011c60ec1",
   "metadata": {},
   "outputs": [
    {
     "data": {
      "text/plain": [
       "<tf.Tensor: shape=(21,), dtype=int64, numpy=\n",
       "array([ 2,  9, 14, 39,  2, 12, 21,  5, 39,  1, 20, 39, 12, 39, 19,  9, 24,\n",
       "       39, 14, 15, 23], dtype=int64)>"
      ]
     },
     "execution_count": 19,
     "metadata": {},
     "output_type": "execute_result"
    }
   ],
   "source": [
    "alignments"
   ]
  },
  {
   "cell_type": "code",
   "execution_count": 20,
   "id": "fe1ad370-b287-4b46-85a2-7c45b0bd9b10",
   "metadata": {},
   "outputs": [
    {
     "data": {
      "text/plain": [
       "<tf.Tensor: shape=(), dtype=string, numpy=b'bin blue at l six now'>"
      ]
     },
     "execution_count": 20,
     "metadata": {},
     "output_type": "execute_result"
    }
   ],
   "source": [
    "tf.strings.reduce_join([bytes.decode(x) for x in num_to_char(alignments.numpy()).numpy()])"
   ]
  },
  {
   "cell_type": "code",
   "execution_count": 21,
   "id": "6871031a-b0ba-4c76-a852-f6329b0f2606",
   "metadata": {
    "tags": []
   },
   "outputs": [],
   "source": [
    "def mappable_function(path:str) ->List[str]:\n",
    "    result = tf.py_function(load_data, [path], (tf.float32, tf.int64))\n",
    "    return result"
   ]
  },
  {
   "cell_type": "markdown",
   "id": "c40a7eb4-0c3e-4eab-9291-5611cb68ce08",
   "metadata": {
    "tags": []
   },
   "source": [
    "# 2. Create Data Pipeline"
   ]
  },
  {
   "cell_type": "code",
   "execution_count": 22,
   "id": "7686355d-45aa-4c85-ad9c-053e6a9b4d81",
   "metadata": {
    "tags": []
   },
   "outputs": [],
   "source": [
    "from matplotlib import pyplot as plt"
   ]
  },
  {
   "cell_type": "code",
   "execution_count": 23,
   "id": "f066fea2-91b1-42ed-a67d-00566a1a53ff",
   "metadata": {
    "tags": []
   },
   "outputs": [],
   "source": [
    "data = tf.data.Dataset.list_files('./data/s1/*.mpg')\n",
    "data = data.shuffle(500, reshuffle_each_iteration=False)\n",
    "data = data.map(mappable_function)\n",
    "data = data.padded_batch(2, padded_shapes=([75,None,None,None],[40]))\n",
    "data = data.prefetch(tf.data.AUTOTUNE)\n",
    "# Added for split \n",
    "train = data.take(450)\n",
    "test = data.skip(450)"
   ]
  },
  {
   "cell_type": "code",
   "execution_count": 24,
   "id": "6b1365bd-7742-41d1-95d4-247021751c3a",
   "metadata": {},
   "outputs": [
    {
     "data": {
      "text/plain": [
       "50"
      ]
     },
     "execution_count": 24,
     "metadata": {},
     "output_type": "execute_result"
    }
   ],
   "source": [
    "len(test)"
   ]
  },
  {
   "cell_type": "code",
   "execution_count": 25,
   "id": "5281bde8-fdc8-4da1-bd55-5a7929a9e80c",
   "metadata": {},
   "outputs": [],
   "source": [
    "frames, alignments = data.as_numpy_iterator().next()"
   ]
  },
  {
   "cell_type": "code",
   "execution_count": 26,
   "id": "cbebe683-6afd-47fd-bba4-c83b4b13bb32",
   "metadata": {},
   "outputs": [
    {
     "data": {
      "text/plain": [
       "2"
      ]
     },
     "execution_count": 26,
     "metadata": {},
     "output_type": "execute_result"
    }
   ],
   "source": [
    "len(frames)"
   ]
  },
  {
   "cell_type": "code",
   "execution_count": 27,
   "id": "5cf2d676-93a9-434c-b3c7-bdcc2577b2e7",
   "metadata": {
    "tags": []
   },
   "outputs": [],
   "source": [
    "sample = data.as_numpy_iterator()"
   ]
  },
  {
   "cell_type": "code",
   "execution_count": 28,
   "id": "efa6cd46-7079-46c0-b45b-832f339f6cb0",
   "metadata": {
    "scrolled": true,
    "tags": []
   },
   "outputs": [
    {
     "data": {
      "text/plain": [
       "array([[[[[ 1.3910496 ],\n",
       "          [ 1.3910496 ],\n",
       "          [ 1.3910496 ],\n",
       "          ...,\n",
       "          [ 9.660067  ],\n",
       "          [ 9.660067  ],\n",
       "          [ 9.041822  ]],\n",
       "\n",
       "         [[ 1.3910496 ],\n",
       "          [ 1.3910496 ],\n",
       "          [ 1.3910496 ],\n",
       "          ...,\n",
       "          [ 9.119103  ],\n",
       "          [ 9.235024  ],\n",
       "          [ 9.003182  ]],\n",
       "\n",
       "         [[ 1.2751288 ],\n",
       "          [ 1.2751288 ],\n",
       "          [ 1.2751288 ],\n",
       "          ...,\n",
       "          [ 9.3895855 ],\n",
       "          [ 9.621427  ],\n",
       "          [ 9.660067  ]],\n",
       "\n",
       "         ...,\n",
       "\n",
       "         [[ 0.8887262 ],\n",
       "          [ 0.8887262 ],\n",
       "          [ 0.8887262 ],\n",
       "          ...,\n",
       "          [ 9.775988  ],\n",
       "          [ 9.737348  ],\n",
       "          [ 9.698708  ]],\n",
       "\n",
       "         [[ 0.8887262 ],\n",
       "          [ 0.8887262 ],\n",
       "          [ 0.8887262 ],\n",
       "          ...,\n",
       "          [ 9.621427  ],\n",
       "          [ 9.698708  ],\n",
       "          [ 9.660067  ]],\n",
       "\n",
       "         [[ 0.8887262 ],\n",
       "          [ 0.8887262 ],\n",
       "          [ 0.8887262 ],\n",
       "          ...,\n",
       "          [ 9.660067  ],\n",
       "          [ 9.698708  ],\n",
       "          [ 9.621427  ]]],\n",
       "\n",
       "\n",
       "        [[[ 1.2364886 ],\n",
       "          [ 1.2364886 ],\n",
       "          [ 1.2364886 ],\n",
       "          ...,\n",
       "          [ 9.814628  ],\n",
       "          [ 9.660067  ],\n",
       "          [ 9.157743  ]],\n",
       "\n",
       "         [[ 1.2364886 ],\n",
       "          [ 1.2364886 ],\n",
       "          [ 1.2364886 ],\n",
       "          ...,\n",
       "          [ 8.925901  ],\n",
       "          [ 9.080462  ],\n",
       "          [ 9.080462  ]],\n",
       "\n",
       "         [[ 1.2364886 ],\n",
       "          [ 1.2364886 ],\n",
       "          [ 1.2364886 ],\n",
       "          ...,\n",
       "          [ 9.3123045 ],\n",
       "          [ 9.621427  ],\n",
       "          [ 9.660067  ]],\n",
       "\n",
       "         ...,\n",
       "\n",
       "         [[ 0.8887262 ],\n",
       "          [ 0.8887262 ],\n",
       "          [ 0.8887262 ],\n",
       "          ...,\n",
       "          [ 9.814628  ],\n",
       "          [ 9.737348  ],\n",
       "          [ 9.698708  ]],\n",
       "\n",
       "         [[ 0.8887262 ],\n",
       "          [ 0.8887262 ],\n",
       "          [ 0.8887262 ],\n",
       "          ...,\n",
       "          [ 9.737348  ],\n",
       "          [ 9.737348  ],\n",
       "          [ 9.737348  ]],\n",
       "\n",
       "         [[ 0.8887262 ],\n",
       "          [ 0.8887262 ],\n",
       "          [ 0.8887262 ],\n",
       "          ...,\n",
       "          [ 9.737348  ],\n",
       "          [ 9.737348  ],\n",
       "          [ 9.621427  ]]],\n",
       "\n",
       "\n",
       "        [[[ 1.3524094 ],\n",
       "          [ 1.3524094 ],\n",
       "          [ 1.3524094 ],\n",
       "          ...,\n",
       "          [ 9.814628  ],\n",
       "          [ 9.660067  ],\n",
       "          [ 9.235024  ]],\n",
       "\n",
       "         [[ 1.2751288 ],\n",
       "          [ 1.2751288 ],\n",
       "          [ 1.2751288 ],\n",
       "          ...,\n",
       "          [ 8.925901  ],\n",
       "          [ 9.080462  ],\n",
       "          [ 9.119103  ]],\n",
       "\n",
       "         [[ 1.2364886 ],\n",
       "          [ 1.2364886 ],\n",
       "          [ 1.2364886 ],\n",
       "          ...,\n",
       "          [ 9.196383  ],\n",
       "          [ 9.582787  ],\n",
       "          [ 9.621427  ]],\n",
       "\n",
       "         ...,\n",
       "\n",
       "         [[ 0.92736644],\n",
       "          [ 0.92736644],\n",
       "          [ 0.92736644],\n",
       "          ...,\n",
       "          [ 9.814628  ],\n",
       "          [ 9.698708  ],\n",
       "          [ 9.698708  ]],\n",
       "\n",
       "         [[ 0.8887262 ],\n",
       "          [ 0.8887262 ],\n",
       "          [ 0.8887262 ],\n",
       "          ...,\n",
       "          [ 9.660067  ],\n",
       "          [ 9.698708  ],\n",
       "          [ 9.737348  ]],\n",
       "\n",
       "         [[ 0.8887262 ],\n",
       "          [ 0.8887262 ],\n",
       "          [ 0.8887262 ],\n",
       "          ...,\n",
       "          [ 9.660067  ],\n",
       "          [ 9.737348  ],\n",
       "          [ 9.621427  ]]],\n",
       "\n",
       "\n",
       "        ...,\n",
       "\n",
       "\n",
       "        [[[ 1.3137691 ],\n",
       "          [ 1.3137691 ],\n",
       "          [ 1.3137691 ],\n",
       "          ...,\n",
       "          [ 0.1159208 ],\n",
       "          [ 0.46368322],\n",
       "          [ 9.621427  ]],\n",
       "\n",
       "         [[ 1.2751288 ],\n",
       "          [ 1.2751288 ],\n",
       "          [ 1.2751288 ],\n",
       "          ...,\n",
       "          [ 9.544147  ],\n",
       "          [ 9.814628  ],\n",
       "          [ 9.003182  ]],\n",
       "\n",
       "         [[ 1.2364886 ],\n",
       "          [ 1.2364886 ],\n",
       "          [ 1.2364886 ],\n",
       "          ...,\n",
       "          [ 9.273664  ],\n",
       "          [ 9.505506  ],\n",
       "          [ 9.3509445 ]],\n",
       "\n",
       "         ...,\n",
       "\n",
       "         [[ 0.9660067 ],\n",
       "          [ 0.92736644],\n",
       "          [ 0.8887262 ],\n",
       "          ...,\n",
       "          [ 9.660067  ],\n",
       "          [ 9.698708  ],\n",
       "          [ 9.698708  ]],\n",
       "\n",
       "         [[ 0.9660067 ],\n",
       "          [ 0.92736644],\n",
       "          [ 0.8887262 ],\n",
       "          ...,\n",
       "          [ 9.582787  ],\n",
       "          [ 9.698708  ],\n",
       "          [ 9.698708  ]],\n",
       "\n",
       "         [[ 0.9660067 ],\n",
       "          [ 0.92736644],\n",
       "          [ 0.8887262 ],\n",
       "          ...,\n",
       "          [ 9.582787  ],\n",
       "          [ 9.698708  ],\n",
       "          [ 9.660067  ]]],\n",
       "\n",
       "\n",
       "        [[[ 1.4296899 ],\n",
       "          [ 1.3910496 ],\n",
       "          [ 1.3910496 ],\n",
       "          ...,\n",
       "          [ 0.1159208 ],\n",
       "          [ 0.5023235 ],\n",
       "          [ 9.737348  ]],\n",
       "\n",
       "         [[ 1.3910496 ],\n",
       "          [ 1.3910496 ],\n",
       "          [ 1.3137691 ],\n",
       "          ...,\n",
       "          [ 9.698708  ],\n",
       "          [ 9.853269  ],\n",
       "          [ 9.041822  ]],\n",
       "\n",
       "         [[ 1.3137691 ],\n",
       "          [ 1.3137691 ],\n",
       "          [ 1.3137691 ],\n",
       "          ...,\n",
       "          [ 9.273664  ],\n",
       "          [ 9.544147  ],\n",
       "          [ 9.3509445 ]],\n",
       "\n",
       "         ...,\n",
       "\n",
       "         [[ 0.9660067 ],\n",
       "          [ 0.92736644],\n",
       "          [ 0.8887262 ],\n",
       "          ...,\n",
       "          [ 9.698708  ],\n",
       "          [ 9.775988  ],\n",
       "          [ 9.737348  ]],\n",
       "\n",
       "         [[ 0.9660067 ],\n",
       "          [ 0.92736644],\n",
       "          [ 0.8887262 ],\n",
       "          ...,\n",
       "          [ 9.621427  ],\n",
       "          [ 9.775988  ],\n",
       "          [ 9.698708  ]],\n",
       "\n",
       "         [[ 0.9660067 ],\n",
       "          [ 0.92736644],\n",
       "          [ 0.8887262 ],\n",
       "          ...,\n",
       "          [ 9.505506  ],\n",
       "          [ 9.737348  ],\n",
       "          [ 9.698708  ]]],\n",
       "\n",
       "\n",
       "        [[[ 1.4296899 ],\n",
       "          [ 1.3910496 ],\n",
       "          [ 1.3910496 ],\n",
       "          ...,\n",
       "          [ 0.1159208 ],\n",
       "          [ 0.5023235 ],\n",
       "          [ 9.737348  ]],\n",
       "\n",
       "         [[ 1.3910496 ],\n",
       "          [ 1.3910496 ],\n",
       "          [ 1.3137691 ],\n",
       "          ...,\n",
       "          [ 9.698708  ],\n",
       "          [ 9.814628  ],\n",
       "          [ 8.925901  ]],\n",
       "\n",
       "         [[ 1.3137691 ],\n",
       "          [ 1.3137691 ],\n",
       "          [ 1.3137691 ],\n",
       "          ...,\n",
       "          [ 9.273664  ],\n",
       "          [ 9.505506  ],\n",
       "          [ 9.273664  ]],\n",
       "\n",
       "         ...,\n",
       "\n",
       "         [[ 0.9660067 ],\n",
       "          [ 0.92736644],\n",
       "          [ 0.8887262 ],\n",
       "          ...,\n",
       "          [ 9.698708  ],\n",
       "          [ 9.775988  ],\n",
       "          [ 9.737348  ]],\n",
       "\n",
       "         [[ 0.9660067 ],\n",
       "          [ 0.92736644],\n",
       "          [ 0.8887262 ],\n",
       "          ...,\n",
       "          [ 9.621427  ],\n",
       "          [ 9.814628  ],\n",
       "          [ 9.737348  ]],\n",
       "\n",
       "         [[ 0.9660067 ],\n",
       "          [ 0.92736644],\n",
       "          [ 0.8887262 ],\n",
       "          ...,\n",
       "          [ 9.505506  ],\n",
       "          [ 9.775988  ],\n",
       "          [ 9.737348  ]]]],\n",
       "\n",
       "\n",
       "\n",
       "       [[[[ 1.414534  ],\n",
       "          [ 1.4538267 ],\n",
       "          [ 1.0216079 ],\n",
       "          ...,\n",
       "          [ 0.2750483 ],\n",
       "          [ 0.2750483 ],\n",
       "          [ 0.2750483 ]],\n",
       "\n",
       "         [[ 1.4538267 ],\n",
       "          [ 1.3752414 ],\n",
       "          [ 1.0216079 ],\n",
       "          ...,\n",
       "          [ 0.2750483 ],\n",
       "          [ 0.2750483 ],\n",
       "          [ 0.2750483 ]],\n",
       "\n",
       "         [[ 1.5324118 ],\n",
       "          [ 1.5324118 ],\n",
       "          [ 1.414534  ],\n",
       "          ...,\n",
       "          [ 0.2750483 ],\n",
       "          [ 0.23575567],\n",
       "          [ 0.23575567]],\n",
       "\n",
       "         ...,\n",
       "\n",
       "         [[ 1.0609006 ],\n",
       "          [ 1.0609006 ],\n",
       "          [ 1.0609006 ],\n",
       "          ...,\n",
       "          [ 0.        ],\n",
       "          [ 0.        ],\n",
       "          [ 0.        ]],\n",
       "\n",
       "         [[ 1.0609006 ],\n",
       "          [ 1.0609006 ],\n",
       "          [ 1.0609006 ],\n",
       "          ...,\n",
       "          [ 0.        ],\n",
       "          [ 0.        ],\n",
       "          [ 0.        ]],\n",
       "\n",
       "         [[ 1.0609006 ],\n",
       "          [ 1.0609006 ],\n",
       "          [ 1.0609006 ],\n",
       "          ...,\n",
       "          [ 0.        ],\n",
       "          [ 0.        ],\n",
       "          [10.019616  ]]],\n",
       "\n",
       "\n",
       "        [[[ 1.4538267 ],\n",
       "          [ 1.5324118 ],\n",
       "          [ 1.1394857 ],\n",
       "          ...,\n",
       "          [ 0.2750483 ],\n",
       "          [ 0.23575567],\n",
       "          [ 0.23575567]],\n",
       "\n",
       "         [[ 1.5717045 ],\n",
       "          [ 1.4538267 ],\n",
       "          [ 1.1787784 ],\n",
       "          ...,\n",
       "          [ 0.2750483 ],\n",
       "          [ 0.23575567],\n",
       "          [ 0.23575567]],\n",
       "\n",
       "         [[ 1.5717045 ],\n",
       "          [ 1.5717045 ],\n",
       "          [ 1.414534  ],\n",
       "          ...,\n",
       "          [ 0.2750483 ],\n",
       "          [ 0.23575567],\n",
       "          [ 0.23575567]],\n",
       "\n",
       "         ...,\n",
       "\n",
       "         [[ 1.1394857 ],\n",
       "          [ 1.1394857 ],\n",
       "          [ 1.1394857 ],\n",
       "          ...,\n",
       "          [10.019616  ],\n",
       "          [10.019616  ],\n",
       "          [ 9.980324  ]],\n",
       "\n",
       "         [[ 1.0609006 ],\n",
       "          [ 1.0609006 ],\n",
       "          [ 1.0609006 ],\n",
       "          ...,\n",
       "          [10.019616  ],\n",
       "          [ 9.980324  ],\n",
       "          [ 9.980324  ]],\n",
       "\n",
       "         [[ 1.0609006 ],\n",
       "          [ 1.0609006 ],\n",
       "          [ 1.0609006 ],\n",
       "          ...,\n",
       "          [ 9.980324  ],\n",
       "          [ 9.980324  ],\n",
       "          [ 9.980324  ]]],\n",
       "\n",
       "\n",
       "        [[[ 1.414534  ],\n",
       "          [ 1.4931192 ],\n",
       "          [ 1.1394857 ],\n",
       "          ...,\n",
       "          [ 0.2750483 ],\n",
       "          [ 0.23575567],\n",
       "          [ 0.23575567]],\n",
       "\n",
       "         [[ 1.5717045 ],\n",
       "          [ 1.414534  ],\n",
       "          [ 1.0216079 ],\n",
       "          ...,\n",
       "          [ 0.2750483 ],\n",
       "          [ 0.23575567],\n",
       "          [ 0.23575567]],\n",
       "\n",
       "         [[ 1.4931192 ],\n",
       "          [ 1.4931192 ],\n",
       "          [ 1.3752414 ],\n",
       "          ...,\n",
       "          [ 0.2750483 ],\n",
       "          [ 0.2750483 ],\n",
       "          [ 0.2750483 ]],\n",
       "\n",
       "         ...,\n",
       "\n",
       "         [[ 1.1394857 ],\n",
       "          [ 1.1394857 ],\n",
       "          [ 1.1001931 ],\n",
       "          ...,\n",
       "          [ 0.03929261],\n",
       "          [ 0.        ],\n",
       "          [10.019616  ]],\n",
       "\n",
       "         [[ 1.0609006 ],\n",
       "          [ 1.0609006 ],\n",
       "          [ 1.0609006 ],\n",
       "          ...,\n",
       "          [ 0.        ],\n",
       "          [10.019616  ],\n",
       "          [10.019616  ]],\n",
       "\n",
       "         [[ 1.0609006 ],\n",
       "          [ 1.0609006 ],\n",
       "          [ 1.0609006 ],\n",
       "          ...,\n",
       "          [ 0.        ],\n",
       "          [10.019616  ],\n",
       "          [ 9.980324  ]]],\n",
       "\n",
       "\n",
       "        ...,\n",
       "\n",
       "\n",
       "        [[[ 1.218071  ],\n",
       "          [ 1.1394857 ],\n",
       "          [ 0.8251448 ],\n",
       "          ...,\n",
       "          [ 0.23575567],\n",
       "          [ 0.23575567],\n",
       "          [ 0.23575567]],\n",
       "\n",
       "         [[ 1.1001931 ],\n",
       "          [ 1.218071  ],\n",
       "          [ 0.9037301 ],\n",
       "          ...,\n",
       "          [ 0.23575567],\n",
       "          [ 0.23575567],\n",
       "          [ 0.23575567]],\n",
       "\n",
       "         [[ 1.414534  ],\n",
       "          [ 1.414534  ],\n",
       "          [ 1.3752414 ],\n",
       "          ...,\n",
       "          [ 0.2750483 ],\n",
       "          [ 0.2750483 ],\n",
       "          [ 0.2750483 ]],\n",
       "\n",
       "         ...,\n",
       "\n",
       "         [[ 1.0609006 ],\n",
       "          [ 1.0609006 ],\n",
       "          [ 1.0609006 ],\n",
       "          ...,\n",
       "          [ 9.980324  ],\n",
       "          [ 9.980324  ],\n",
       "          [ 9.980324  ]],\n",
       "\n",
       "         [[ 1.0609006 ],\n",
       "          [ 1.0609006 ],\n",
       "          [ 1.0609006 ],\n",
       "          ...,\n",
       "          [ 9.980324  ],\n",
       "          [ 9.980324  ],\n",
       "          [ 9.980324  ]],\n",
       "\n",
       "         [[ 1.0609006 ],\n",
       "          [ 1.0609006 ],\n",
       "          [ 1.0216079 ],\n",
       "          ...,\n",
       "          [ 9.980324  ],\n",
       "          [ 9.980324  ],\n",
       "          [ 9.980324  ]]],\n",
       "\n",
       "\n",
       "        [[[ 1.218071  ],\n",
       "          [ 1.1787784 ],\n",
       "          [ 0.94302267],\n",
       "          ...,\n",
       "          [ 0.2750483 ],\n",
       "          [ 0.2750483 ],\n",
       "          [ 0.2750483 ]],\n",
       "\n",
       "         [[ 1.0609006 ],\n",
       "          [ 1.1394857 ],\n",
       "          [ 0.9037301 ],\n",
       "          ...,\n",
       "          [ 0.2750483 ],\n",
       "          [ 0.2750483 ],\n",
       "          [ 0.2750483 ]],\n",
       "\n",
       "         [[ 1.4931192 ],\n",
       "          [ 1.4931192 ],\n",
       "          [ 1.3359488 ],\n",
       "          ...,\n",
       "          [ 0.2750483 ],\n",
       "          [ 0.2750483 ],\n",
       "          [ 0.23575567]],\n",
       "\n",
       "         ...,\n",
       "\n",
       "         [[ 1.0609006 ],\n",
       "          [ 1.0609006 ],\n",
       "          [ 1.0609006 ],\n",
       "          ...,\n",
       "          [ 9.980324  ],\n",
       "          [ 9.980324  ],\n",
       "          [ 9.980324  ]],\n",
       "\n",
       "         [[ 1.0609006 ],\n",
       "          [ 1.0609006 ],\n",
       "          [ 1.0609006 ],\n",
       "          ...,\n",
       "          [ 9.980324  ],\n",
       "          [ 9.980324  ],\n",
       "          [ 9.980324  ]],\n",
       "\n",
       "         [[ 1.0609006 ],\n",
       "          [ 1.0609006 ],\n",
       "          [ 1.0216079 ],\n",
       "          ...,\n",
       "          [ 9.980324  ],\n",
       "          [ 9.980324  ],\n",
       "          [ 9.980324  ]]],\n",
       "\n",
       "\n",
       "        [[[ 1.1787784 ],\n",
       "          [ 1.218071  ],\n",
       "          [ 0.86443746],\n",
       "          ...,\n",
       "          [ 0.2750483 ],\n",
       "          [ 0.2750483 ],\n",
       "          [ 0.2750483 ]],\n",
       "\n",
       "         [[ 1.0609006 ],\n",
       "          [ 1.0609006 ],\n",
       "          [ 0.8251448 ],\n",
       "          ...,\n",
       "          [ 0.2750483 ],\n",
       "          [ 0.2750483 ],\n",
       "          [ 0.2750483 ]],\n",
       "\n",
       "         [[ 1.4931192 ],\n",
       "          [ 1.4931192 ],\n",
       "          [ 1.3752414 ],\n",
       "          ...,\n",
       "          [ 0.23575567],\n",
       "          [ 0.23575567],\n",
       "          [ 0.23575567]],\n",
       "\n",
       "         ...,\n",
       "\n",
       "         [[ 1.0609006 ],\n",
       "          [ 1.0609006 ],\n",
       "          [ 1.0609006 ],\n",
       "          ...,\n",
       "          [ 0.        ],\n",
       "          [10.019616  ],\n",
       "          [10.019616  ]],\n",
       "\n",
       "         [[ 1.0216079 ],\n",
       "          [ 1.0216079 ],\n",
       "          [ 1.0609006 ],\n",
       "          ...,\n",
       "          [ 0.        ],\n",
       "          [10.019616  ],\n",
       "          [10.019616  ]],\n",
       "\n",
       "         [[ 1.0216079 ],\n",
       "          [ 1.0216079 ],\n",
       "          [ 1.0609006 ],\n",
       "          ...,\n",
       "          [ 0.        ],\n",
       "          [10.019616  ],\n",
       "          [10.019616  ]]]]], dtype=float32)"
      ]
     },
     "execution_count": 28,
     "metadata": {},
     "output_type": "execute_result"
    }
   ],
   "source": [
    "val = sample.next(); val[0]"
   ]
  },
  {
   "cell_type": "code",
   "execution_count": 29,
   "id": "acf5eb4f-a0da-4a9a-bf24-af13e9cc2fbe",
   "metadata": {
    "tags": []
   },
   "outputs": [
    {
     "name": "stderr",
     "output_type": "stream",
     "text": [
      "Lossy conversion from float32 to uint8. Range [0.0, 9.85326862335205]. Convert image to uint8 prior to saving to suppress this warning.\n",
      "Lossy conversion from float32 to uint8. Range [0.0, 9.85326862335205]. Convert image to uint8 prior to saving to suppress this warning.\n",
      "Lossy conversion from float32 to uint8. Range [0.0, 9.85326862335205]. Convert image to uint8 prior to saving to suppress this warning.\n",
      "Lossy conversion from float32 to uint8. Range [0.0, 9.85326862335205]. Convert image to uint8 prior to saving to suppress this warning.\n",
      "Lossy conversion from float32 to uint8. Range [0.0, 9.85326862335205]. Convert image to uint8 prior to saving to suppress this warning.\n",
      "Lossy conversion from float32 to uint8. Range [0.0, 9.85326862335205]. Convert image to uint8 prior to saving to suppress this warning.\n",
      "Lossy conversion from float32 to uint8. Range [0.0, 9.85326862335205]. Convert image to uint8 prior to saving to suppress this warning.\n",
      "Lossy conversion from float32 to uint8. Range [0.0, 9.85326862335205]. Convert image to uint8 prior to saving to suppress this warning.\n",
      "Lossy conversion from float32 to uint8. Range [0.0, 9.85326862335205]. Convert image to uint8 prior to saving to suppress this warning.\n",
      "Lossy conversion from float32 to uint8. Range [0.0, 9.85326862335205]. Convert image to uint8 prior to saving to suppress this warning.\n"
     ]
    },
    {
     "name": "stderr",
     "output_type": "stream",
     "text": [
      "Lossy conversion from float32 to uint8. Range [0.0, 9.85326862335205]. Convert image to uint8 prior to saving to suppress this warning.\n",
      "Lossy conversion from float32 to uint8. Range [0.0, 9.85326862335205]. Convert image to uint8 prior to saving to suppress this warning.\n",
      "Lossy conversion from float32 to uint8. Range [0.0, 9.85326862335205]. Convert image to uint8 prior to saving to suppress this warning.\n",
      "Lossy conversion from float32 to uint8. Range [0.0, 9.85326862335205]. Convert image to uint8 prior to saving to suppress this warning.\n",
      "Lossy conversion from float32 to uint8. Range [0.0, 9.85326862335205]. Convert image to uint8 prior to saving to suppress this warning.\n",
      "Lossy conversion from float32 to uint8. Range [0.0, 9.85326862335205]. Convert image to uint8 prior to saving to suppress this warning.\n",
      "Lossy conversion from float32 to uint8. Range [0.0, 9.85326862335205]. Convert image to uint8 prior to saving to suppress this warning.\n",
      "Lossy conversion from float32 to uint8. Range [0.0, 9.85326862335205]. Convert image to uint8 prior to saving to suppress this warning.\n",
      "Lossy conversion from float32 to uint8. Range [0.0, 9.85326862335205]. Convert image to uint8 prior to saving to suppress this warning.\n",
      "Lossy conversion from float32 to uint8. Range [0.0, 9.85326862335205]. Convert image to uint8 prior to saving to suppress this warning.\n",
      "Lossy conversion from float32 to uint8. Range [0.0, 9.85326862335205]. Convert image to uint8 prior to saving to suppress this warning.\n",
      "Lossy conversion from float32 to uint8. Range [0.0, 9.85326862335205]. Convert image to uint8 prior to saving to suppress this warning.\n",
      "Lossy conversion from float32 to uint8. Range [0.0, 9.85326862335205]. Convert image to uint8 prior to saving to suppress this warning.\n",
      "Lossy conversion from float32 to uint8. Range [0.0, 9.85326862335205]. Convert image to uint8 prior to saving to suppress this warning.\n",
      "Lossy conversion from float32 to uint8. Range [0.0, 9.85326862335205]. Convert image to uint8 prior to saving to suppress this warning.\n",
      "Lossy conversion from float32 to uint8. Range [0.0, 9.85326862335205]. Convert image to uint8 prior to saving to suppress this warning.\n",
      "Lossy conversion from float32 to uint8. Range [0.0, 9.85326862335205]. Convert image to uint8 prior to saving to suppress this warning.\n",
      "Lossy conversion from float32 to uint8. Range [0.0, 9.85326862335205]. Convert image to uint8 prior to saving to suppress this warning.\n",
      "Lossy conversion from float32 to uint8. Range [0.0, 9.85326862335205]. Convert image to uint8 prior to saving to suppress this warning.\n",
      "Lossy conversion from float32 to uint8. Range [0.0, 9.85326862335205]. Convert image to uint8 prior to saving to suppress this warning.\n",
      "Lossy conversion from float32 to uint8. Range [0.0, 9.85326862335205]. Convert image to uint8 prior to saving to suppress this warning.\n",
      "Lossy conversion from float32 to uint8. Range [0.0, 9.85326862335205]. Convert image to uint8 prior to saving to suppress this warning.\n",
      "Lossy conversion from float32 to uint8. Range [0.0, 9.85326862335205]. Convert image to uint8 prior to saving to suppress this warning.\n",
      "Lossy conversion from float32 to uint8. Range [0.0, 9.85326862335205]. Convert image to uint8 prior to saving to suppress this warning.\n",
      "Lossy conversion from float32 to uint8. Range [0.0, 9.85326862335205]. Convert image to uint8 prior to saving to suppress this warning.\n",
      "Lossy conversion from float32 to uint8. Range [0.0, 9.85326862335205]. Convert image to uint8 prior to saving to suppress this warning.\n",
      "Lossy conversion from float32 to uint8. Range [0.0, 9.85326862335205]. Convert image to uint8 prior to saving to suppress this warning.\n",
      "Lossy conversion from float32 to uint8. Range [0.0, 9.85326862335205]. Convert image to uint8 prior to saving to suppress this warning.\n",
      "Lossy conversion from float32 to uint8. Range [0.0, 9.85326862335205]. Convert image to uint8 prior to saving to suppress this warning.\n",
      "Lossy conversion from float32 to uint8. Range [0.0, 9.85326862335205]. Convert image to uint8 prior to saving to suppress this warning.\n",
      "Lossy conversion from float32 to uint8. Range [0.0, 9.85326862335205]. Convert image to uint8 prior to saving to suppress this warning.\n",
      "Lossy conversion from float32 to uint8. Range [0.0, 9.85326862335205]. Convert image to uint8 prior to saving to suppress this warning.\n",
      "Lossy conversion from float32 to uint8. Range [0.0, 9.85326862335205]. Convert image to uint8 prior to saving to suppress this warning.\n",
      "Lossy conversion from float32 to uint8. Range [0.0, 9.85326862335205]. Convert image to uint8 prior to saving to suppress this warning.\n",
      "Lossy conversion from float32 to uint8. Range [0.0, 9.85326862335205]. Convert image to uint8 prior to saving to suppress this warning.\n",
      "Lossy conversion from float32 to uint8. Range [0.0, 9.85326862335205]. Convert image to uint8 prior to saving to suppress this warning.\n",
      "Lossy conversion from float32 to uint8. Range [0.0, 9.85326862335205]. Convert image to uint8 prior to saving to suppress this warning.\n",
      "Lossy conversion from float32 to uint8. Range [0.0, 9.85326862335205]. Convert image to uint8 prior to saving to suppress this warning.\n",
      "Lossy conversion from float32 to uint8. Range [0.0, 9.85326862335205]. Convert image to uint8 prior to saving to suppress this warning.\n",
      "Lossy conversion from float32 to uint8. Range [0.0, 9.85326862335205]. Convert image to uint8 prior to saving to suppress this warning.\n",
      "Lossy conversion from float32 to uint8. Range [0.0, 9.85326862335205]. Convert image to uint8 prior to saving to suppress this warning.\n",
      "Lossy conversion from float32 to uint8. Range [0.0, 9.85326862335205]. Convert image to uint8 prior to saving to suppress this warning.\n",
      "Lossy conversion from float32 to uint8. Range [0.0, 9.85326862335205]. Convert image to uint8 prior to saving to suppress this warning.\n",
      "Lossy conversion from float32 to uint8. Range [0.0, 9.85326862335205]. Convert image to uint8 prior to saving to suppress this warning.\n",
      "Lossy conversion from float32 to uint8. Range [0.0, 9.85326862335205]. Convert image to uint8 prior to saving to suppress this warning.\n",
      "Lossy conversion from float32 to uint8. Range [0.0, 9.85326862335205]. Convert image to uint8 prior to saving to suppress this warning.\n",
      "Lossy conversion from float32 to uint8. Range [0.0, 9.85326862335205]. Convert image to uint8 prior to saving to suppress this warning.\n",
      "Lossy conversion from float32 to uint8. Range [0.0, 9.85326862335205]. Convert image to uint8 prior to saving to suppress this warning.\n",
      "Lossy conversion from float32 to uint8. Range [0.0, 9.85326862335205]. Convert image to uint8 prior to saving to suppress this warning.\n",
      "Lossy conversion from float32 to uint8. Range [0.0, 9.85326862335205]. Convert image to uint8 prior to saving to suppress this warning.\n",
      "Lossy conversion from float32 to uint8. Range [0.0, 9.85326862335205]. Convert image to uint8 prior to saving to suppress this warning.\n",
      "Lossy conversion from float32 to uint8. Range [0.0, 9.85326862335205]. Convert image to uint8 prior to saving to suppress this warning.\n",
      "Lossy conversion from float32 to uint8. Range [0.0, 9.85326862335205]. Convert image to uint8 prior to saving to suppress this warning.\n",
      "Lossy conversion from float32 to uint8. Range [0.0, 9.85326862335205]. Convert image to uint8 prior to saving to suppress this warning.\n",
      "Lossy conversion from float32 to uint8. Range [0.0, 9.85326862335205]. Convert image to uint8 prior to saving to suppress this warning.\n",
      "Lossy conversion from float32 to uint8. Range [0.0, 9.85326862335205]. Convert image to uint8 prior to saving to suppress this warning.\n",
      "Lossy conversion from float32 to uint8. Range [0.0, 9.85326862335205]. Convert image to uint8 prior to saving to suppress this warning.\n",
      "Lossy conversion from float32 to uint8. Range [0.0, 9.85326862335205]. Convert image to uint8 prior to saving to suppress this warning.\n",
      "Lossy conversion from float32 to uint8. Range [0.0, 9.85326862335205]. Convert image to uint8 prior to saving to suppress this warning.\n",
      "Lossy conversion from float32 to uint8. Range [0.0, 9.85326862335205]. Convert image to uint8 prior to saving to suppress this warning.\n",
      "Lossy conversion from float32 to uint8. Range [0.0, 9.85326862335205]. Convert image to uint8 prior to saving to suppress this warning.\n",
      "Lossy conversion from float32 to uint8. Range [0.0, 9.85326862335205]. Convert image to uint8 prior to saving to suppress this warning.\n",
      "Lossy conversion from float32 to uint8. Range [0.0, 9.85326862335205]. Convert image to uint8 prior to saving to suppress this warning.\n",
      "Lossy conversion from float32 to uint8. Range [0.0, 9.85326862335205]. Convert image to uint8 prior to saving to suppress this warning.\n",
      "Lossy conversion from float32 to uint8. Range [0.0, 9.85326862335205]. Convert image to uint8 prior to saving to suppress this warning.\n"
     ]
    }
   ],
   "source": [
    "imageio.mimsave('./animation.gif', val[0][0], fps=10)"
   ]
  },
  {
   "cell_type": "code",
   "execution_count": 30,
   "id": "c33a87a2-d5e0-4ec9-b174-73ebf41bf03a",
   "metadata": {
    "tags": []
   },
   "outputs": [
    {
     "data": {
      "text/plain": [
       "<matplotlib.image.AxesImage at 0x25156ff3c70>"
      ]
     },
     "execution_count": 30,
     "metadata": {},
     "output_type": "execute_result"
    },
    {
     "data": {
      "image/png": "[encoded data removed]",
      "text/plain": [
       "<Figure size 640x480 with 1 Axes>"
      ]
     },
     "metadata": {},
     "output_type": "display_data"
    }
   ],
   "source": [
    "# 0:videos, 0: 1st video out of the batch,  0: return the first frame in the video \n",
    "plt.imshow(val[0][0][35])"
   ]
  },
  {
   "cell_type": "code",
   "execution_count": 31,
   "id": "84593332-133c-4205-b7a6-8e235d5e2b3b",
   "metadata": {
    "tags": []
   },
   "outputs": [
    {
     "data": {
      "text/plain": [
       "<tf.Tensor: shape=(), dtype=string, numpy=b'place white in j five again'>"
      ]
     },
     "execution_count": 31,
     "metadata": {},
     "output_type": "execute_result"
    }
   ],
   "source": [
    "tf.strings.reduce_join([num_to_char(word) for word in val[1][0]])"
   ]
  },
  {
   "cell_type": "markdown",
   "id": "0f47733c-83bc-465c-b118-b198b492ad37",
   "metadata": {
    "tags": []
   },
   "source": [
    "# 3. Design the Deep Neural Network"
   ]
  },
  {
   "cell_type": "code",
   "execution_count": 32,
   "id": "d8e9a497-191b-4842-afbd-26f5e13c43ba",
   "metadata": {
    "tags": []
   },
   "outputs": [],
   "source": [
    "from tensorflow.keras.models import Sequential \n",
    "from tensorflow.keras.layers import Conv3D, LSTM, Dense, Dropout, Bidirectional, MaxPool3D, Activation, Reshape, SpatialDropout3D, BatchNormalization, TimeDistributed, Flatten\n",
    "from tensorflow.keras.optimizers import Adam\n",
    "from tensorflow.keras.callbacks import ModelCheckpoint, LearningRateScheduler"
   ]
  },
  {
   "cell_type": "code",
   "execution_count": 33,
   "id": "3f753ed2-70b9-4236-8c1c-08ca065dc8bf",
   "metadata": {},
   "outputs": [
    {
     "data": {
      "text/plain": [
       "(75, 46, 140, 1)"
      ]
     },
     "execution_count": 33,
     "metadata": {},
     "output_type": "execute_result"
    }
   ],
   "source": [
    "data.as_numpy_iterator().next()[0][0].shape"
   ]
  },
  {
   "cell_type": "code",
   "execution_count": 34,
   "id": "f9171056-a352-491a-9ed9-92b28ced268e",
   "metadata": {
    "tags": []
   },
   "outputs": [],
   "source": [
    "model = Sequential()\n",
    "model.add(Conv3D(128, 3, input_shape=(75,46,140,1), padding='same'))\n",
    "model.add(Activation('relu'))\n",
    "model.add(MaxPool3D((1,2,2)))\n",
    "\n",
    "model.add(Conv3D(256, 3, padding='same'))\n",
    "model.add(Activation('relu'))\n",
    "model.add(MaxPool3D((1,2,2)))\n",
    "\n",
    "model.add(Conv3D(75, 3, padding='same'))\n",
    "model.add(Activation('relu'))\n",
    "model.add(MaxPool3D((1,2,2)))\n",
    "\n",
    "model.add(TimeDistributed(Flatten()))\n",
    "\n",
    "model.add(Bidirectional(LSTM(128, kernel_initializer='Orthogonal', return_sequences=True)))\n",
    "model.add(Dropout(.5))\n",
    "\n",
    "model.add(Bidirectional(LSTM(128, kernel_initializer='Orthogonal', return_sequences=True)))\n",
    "model.add(Dropout(.5))\n",
    "\n",
    "model.add(Dense(char_to_num.vocabulary_size()+1, kernel_initializer='he_normal', activation='softmax'))"
   ]
  },
  {
   "cell_type": "code",
   "execution_count": 35,
   "id": "78851825-2bcd-42a9-b7f2-28bb5a6bf43a",
   "metadata": {
    "collapsed": true,
    "jupyter": {
     "outputs_hidden": true
    },
    "tags": []
   },
   "outputs": [
    {
     "name": "stdout",
     "output_type": "stream",
     "text": [
      "Model: \"sequential\"\n",
      "_________________________________________________________________\n",
      " Layer (type)                Output Shape              Param #   \n",
      "=================================================================\n",
      " conv3d (Conv3D)             (None, 75, 46, 140, 128)  3584      \n",
      "                                                                 \n",
      " activation (Activation)     (None, 75, 46, 140, 128)  0         \n",
      "                                                                 \n",
      " max_pooling3d (MaxPooling3D  (None, 75, 23, 70, 128)  0         \n",
      " )                                                               \n",
      "                                                                 \n",
      " conv3d_1 (Conv3D)           (None, 75, 23, 70, 256)   884992    \n",
      "                                                                 \n",
      " activation_1 (Activation)   (None, 75, 23, 70, 256)   0         \n",
      "                                                                 \n",
      " max_pooling3d_1 (MaxPooling  (None, 75, 11, 35, 256)  0         \n",
      " 3D)                                                             \n",
      "                                                                 \n",
      " conv3d_2 (Conv3D)           (None, 75, 11, 35, 75)    518475    \n",
      "                                                                 \n",
      " activation_2 (Activation)   (None, 75, 11, 35, 75)    0         \n",
      "                                                                 \n",
      " max_pooling3d_2 (MaxPooling  (None, 75, 5, 17, 75)    0         \n",
      " 3D)                                                             \n",
      "                                                                 \n",
      " time_distributed (TimeDistr  (None, 75, 6375)         0         \n",
      " ibuted)                                                         \n",
      "                                                                 \n",
      " bidirectional (Bidirectiona  (None, 75, 256)          6660096   \n",
      " l)                                                              \n",
      "                                                                 \n",
      " dropout (Dropout)           (None, 75, 256)           0         \n",
      "                                                                 \n",
      " bidirectional_1 (Bidirectio  (None, 75, 256)          394240    \n",
      " nal)                                                            \n",
      "                                                                 \n",
      " dropout_1 (Dropout)         (None, 75, 256)           0         \n",
      "                                                                 \n",
      " dense (Dense)               (None, 75, 41)            10537     \n",
      "                                                                 \n",
      "=================================================================\n",
      "Total params: 8,471,924\n",
      "Trainable params: 8,471,924\n",
      "Non-trainable params: 0\n",
      "_________________________________________________________________\n"
     ]
    }
   ],
   "source": [
    "model.summary()"
   ]
  },
  {
   "cell_type": "code",
   "execution_count": 36,
   "id": "f4b4798c-a65a-4c47-9e2a-3b09dc98d320",
   "metadata": {},
   "outputs": [
    {
     "data": {
      "text/plain": [
       "6375"
      ]
     },
     "execution_count": 36,
     "metadata": {},
     "output_type": "execute_result"
    }
   ],
   "source": [
    "5*17*75"
   ]
  },
  {
   "cell_type": "code",
   "execution_count": 37,
   "id": "e5c2eae0-c359-41a4-97a0-75c44dccb7d1",
   "metadata": {
    "tags": []
   },
   "outputs": [
    {
     "name": "stdout",
     "output_type": "stream",
     "text": [
      "1/1 [==============================] - 3s 3s/step\n"
     ]
    }
   ],
   "source": [
    "yhat = model.predict(val[0])"
   ]
  },
  {
   "cell_type": "code",
   "execution_count": 38,
   "id": "ffdc7319-0d69-4f7e-a6d4-ce72deb81c0b",
   "metadata": {},
   "outputs": [
    {
     "data": {
      "text/plain": [
       "<tf.Tensor: shape=(), dtype=string, numpy=b'ddrrrrrrrrrrrrrrrrrrrrrrrrrrrrrrrrrrrrrrrrrrrrrrrrrrrrrrrrrrrrrrrrrrrrr    '>"
      ]
     },
     "execution_count": 38,
     "metadata": {},
     "output_type": "execute_result"
    }
   ],
   "source": [
    "tf.strings.reduce_join([num_to_char(x) for x in tf.argmax(yhat[0],axis=1)])"
   ]
  },
  {
   "cell_type": "code",
   "execution_count": 39,
   "id": "6ed47531-8317-4255-9a12-b757642258e6",
   "metadata": {
    "tags": []
   },
   "outputs": [
    {
     "data": {
      "text/plain": [
       "<tf.Tensor: shape=(), dtype=string, numpy=b'ddrrrrrrrrrrrrrrrrrrrrrrrrrrrrrrrrrrrrrrrrrrrrrrrrrrrrrrrrrrrrrrrrrrrrr    '>"
      ]
     },
     "execution_count": 39,
     "metadata": {},
     "output_type": "execute_result"
    }
   ],
   "source": [
    "tf.strings.reduce_join([num_to_char(tf.argmax(x)) for x in yhat[0]])"
   ]
  },
  {
   "cell_type": "code",
   "execution_count": 40,
   "id": "7c37b9b9-5298-4038-9c33-5031d1b457f0",
   "metadata": {
    "tags": []
   },
   "outputs": [
    {
     "data": {
      "text/plain": [
       "(None, 75, 46, 140, 1)"
      ]
     },
     "execution_count": 40,
     "metadata": {},
     "output_type": "execute_result"
    }
   ],
   "source": [
    "model.input_shape"
   ]
  },
  {
   "cell_type": "code",
   "execution_count": 41,
   "id": "98b316a4-5322-4782-8e36-4b3c1a696d85",
   "metadata": {
    "tags": []
   },
   "outputs": [
    {
     "data": {
      "text/plain": [
       "(None, 75, 41)"
      ]
     },
     "execution_count": 41,
     "metadata": {},
     "output_type": "execute_result"
    }
   ],
   "source": [
    "model.output_shape"
   ]
  },
  {
   "cell_type": "markdown",
   "id": "2ec02176-5c26-46c3-aff7-8352e6563c7d",
   "metadata": {
    "tags": []
   },
   "source": [
    "# 4. Setup Training Options and Train"
   ]
  },
  {
   "cell_type": "code",
   "execution_count": 42,
   "id": "ab015fd0-7fb4-4d5d-9fa2-30a05dbd515a",
   "metadata": {
    "tags": []
   },
   "outputs": [],
   "source": [
    "def scheduler(epoch, lr):\n",
    "    if epoch < 30:\n",
    "        return lr\n",
    "    else:\n",
    "        return lr * tf.math.exp(-0.1)"
   ]
  },
  {
   "cell_type": "code",
   "execution_count": 43,
   "id": "c564d5c9-db54-4e88-b311-9aeab7fb3e69",
   "metadata": {
    "tags": []
   },
   "outputs": [],
   "source": [
    "def CTCLoss(y_true, y_pred):\n",
    "    batch_len = tf.cast(tf.shape(y_true)[0], dtype=\"int64\")\n",
    "    input_length = tf.cast(tf.shape(y_pred)[1], dtype=\"int64\")\n",
    "    label_length = tf.cast(tf.shape(y_true)[1], dtype=\"int64\")\n",
    "\n",
    "    input_length = input_length * tf.ones(shape=(batch_len, 1), dtype=\"int64\")\n",
    "    label_length = label_length * tf.ones(shape=(batch_len, 1), dtype=\"int64\")\n",
    "\n",
    "    loss = tf.keras.backend.ctc_batch_cost(y_true, y_pred, input_length, label_length)\n",
    "    return loss"
   ]
  },
  {
   "cell_type": "code",
   "execution_count": 44,
   "id": "a26dc3fc-a19c-4378-bd8c-e2b597a1d15c",
   "metadata": {
    "tags": []
   },
   "outputs": [],
   "source": [
    "class ProduceExample(tf.keras.callbacks.Callback): \n",
    "    def __init__(self, dataset) -> None: \n",
    "        self.dataset = dataset.as_numpy_iterator()\n",
    "    \n",
    "    def on_epoch_end(self, epoch, logs=None) -> None:\n",
    "        data = self.dataset.next()\n",
    "        yhat = self.model.predict(data[0])\n",
    "        decoded = tf.keras.backend.ctc_decode(yhat, [75,75], greedy=False)[0][0].numpy()\n",
    "        for x in range(len(yhat)):           \n",
    "            print('Original:', tf.strings.reduce_join(num_to_char(data[1][x])).numpy().decode('utf-8'))\n",
    "            print('Prediction:', tf.strings.reduce_join(num_to_char(decoded[x])).numpy().decode('utf-8'))\n",
    "            print('~'*100)"
   ]
  },
  {
   "cell_type": "code",
   "execution_count": 45,
   "id": "04be90d8-2482-46f9-b513-d5f4f8001c7e",
   "metadata": {
    "tags": []
   },
   "outputs": [],
   "source": [
    "model.compile(optimizer=Adam(learning_rate=0.0001), loss=CTCLoss)"
   ]
  },
  {
   "cell_type": "code",
   "execution_count": 46,
   "id": "eab49367-3f1e-4464-ae76-dbd07549d97e",
   "metadata": {
    "tags": []
   },
   "outputs": [],
   "source": [
    "checkpoint_callback = ModelCheckpoint(os.path.join('models','checkpoint'), monitor='loss', save_weights_only=True) "
   ]
  },
  {
   "cell_type": "code",
   "execution_count": 47,
   "id": "e085a632-d464-46ef-8777-959cad4adb2c",
   "metadata": {
    "tags": []
   },
   "outputs": [],
   "source": [
    "schedule_callback = LearningRateScheduler(scheduler)"
   ]
  },
  {
   "cell_type": "code",
   "execution_count": 48,
   "id": "48eca991-90ab-4592-8a79-b50e9ca015b6",
   "metadata": {
    "tags": []
   },
   "outputs": [],
   "source": [
    "example_callback = ProduceExample(test)"
   ]
  },
  {
   "cell_type": "code",
   "execution_count": 49,
   "id": "8ffba483-aa61-4bbe-a15f-a73e1ddf097c",
   "metadata": {
    "tags": []
   },
   "outputs": [
    {
     "name": "stdout",
     "output_type": "stream",
     "text": [
      "Epoch 1/10\n",
      "1/1 [==============================] - 3s 3s/steps - loss: 85.670\n",
      "Original: bin green in n one soon\n",
      "Prediction: le e e e n o\n",
      "~~~~~~~~~~~~~~~~~~~~~~~~~~~~~~~~~~~~~~~~~~~~~~~~~~~~~~~~~~~~~~~~~~~~~~~~~~~~~~~~~~~~~~~~~~~~~~~~~~~~\n",
      "Original: lay green at m one again\n",
      "Prediction: le e e e n o\n",
      "~~~~~~~~~~~~~~~~~~~~~~~~~~~~~~~~~~~~~~~~~~~~~~~~~~~~~~~~~~~~~~~~~~~~~~~~~~~~~~~~~~~~~~~~~~~~~~~~~~~~\n",
      "450/450 [==============================] - 12847s 29s/step - loss: 85.6703 - val_loss: 68.8849 - lr: 1.0000e-04\n",
      "Epoch 2/10\n",
      "1/1 [==============================] - 2s 2s/steps - loss: 71.719\n",
      "Original: lay green at f four now\n",
      "Prediction: la e e e e n\n",
      "~~~~~~~~~~~~~~~~~~~~~~~~~~~~~~~~~~~~~~~~~~~~~~~~~~~~~~~~~~~~~~~~~~~~~~~~~~~~~~~~~~~~~~~~~~~~~~~~~~~~\n",
      "Original: set red in h one soon\n",
      "Prediction: la e e e e o\n",
      "~~~~~~~~~~~~~~~~~~~~~~~~~~~~~~~~~~~~~~~~~~~~~~~~~~~~~~~~~~~~~~~~~~~~~~~~~~~~~~~~~~~~~~~~~~~~~~~~~~~~\n",
      "450/450 [==============================] - 12764s 28s/step - loss: 71.7198 - val_loss: 66.2372 - lr: 1.0000e-04\n",
      "Epoch 3/10\n",
      "284/450 [=================>............] - ETA: 1:29:23 - loss: 68.1459"
     ]
    }
   ],
   "source": [
    "model.fit(train, validation_data=test, epochs=10, callbacks=[checkpoint_callback, schedule_callback, example_callback])"
   ]
  },
  {
   "cell_type": "markdown",
   "id": "fa8ee94b-89f7-4733-8a0c-a86f86ff590a",
   "metadata": {
    "tags": []
   },
   "source": [
    "# 5. Make a Prediction "
   ]
  },
  {
   "cell_type": "code",
   "execution_count": 51,
   "id": "01fa7204-ce0e-49a8-8dbd-14fe5dfead40",
   "metadata": {
    "tags": []
   },
   "outputs": [],
   "source": [
    "# url = 'https://drive.google.com/uc?id=1vWscXs4Vt0a_1IH1-ct2TCgXAZT-N3_Y'\n",
    "# output = 'checkpoints.zip'\n",
    "# gdown.download(url, output, quiet=False)\n",
    "# gdown.extractall('checkpoints.zip', 'models')"
   ]
  },
  {
   "cell_type": "code",
   "execution_count": 52,
   "id": "247f664d-3c87-4e96-946e-930dad0e1c2c",
   "metadata": {
    "tags": []
   },
   "outputs": [
    {
     "data": {
      "text/plain": [
       "<tensorflow.python.checkpoint.checkpoint.CheckpointLoadStatus at 0x1e4ea24c520>"
      ]
     },
     "execution_count": 52,
     "metadata": {},
     "output_type": "execute_result"
    }
   ],
   "source": [
    "model.load_weights('models/checkpoint')"
   ]
  },
  {
   "cell_type": "code",
   "execution_count": 53,
   "id": "7f8d689f-b7bb-443c-9b88-e40c1d800828",
   "metadata": {
    "tags": []
   },
   "outputs": [],
   "source": [
    "test_data = test.as_numpy_iterator()"
   ]
  },
  {
   "cell_type": "code",
   "execution_count": 54,
   "id": "38546dc2-bee9-4837-864b-8a884df40ad7",
   "metadata": {
    "tags": []
   },
   "outputs": [],
   "source": [
    "sample = test_data.next()"
   ]
  },
  {
   "cell_type": "code",
   "execution_count": 55,
   "id": "5b1400c5",
   "metadata": {},
   "outputs": [
    {
     "data": {
      "text/plain": [
       "(array([[[[[10.150797  ],\n",
       "           [10.150797  ],\n",
       "           [10.150797  ],\n",
       "           ...,\n",
       "           [10.150797  ],\n",
       "           [10.150797  ],\n",
       "           [10.150797  ]],\n",
       " \n",
       "          [[10.150797  ],\n",
       "           [10.150797  ],\n",
       "           [10.150797  ],\n",
       "           ...,\n",
       "           [10.150797  ],\n",
       "           [10.150797  ],\n",
       "           [10.150797  ]],\n",
       " \n",
       "          [[10.150797  ],\n",
       "           [10.150797  ],\n",
       "           [10.150797  ],\n",
       "           ...,\n",
       "           [10.150797  ],\n",
       "           [10.150797  ],\n",
       "           [10.150797  ]],\n",
       " \n",
       "          ...,\n",
       " \n",
       "          [[10.150797  ],\n",
       "           [10.150797  ],\n",
       "           [10.150797  ],\n",
       "           ...,\n",
       "           [10.150797  ],\n",
       "           [10.150797  ],\n",
       "           [10.150797  ]],\n",
       " \n",
       "          [[10.150797  ],\n",
       "           [10.150797  ],\n",
       "           [10.150797  ],\n",
       "           ...,\n",
       "           [10.150797  ],\n",
       "           [10.150797  ],\n",
       "           [10.150797  ]],\n",
       " \n",
       "          [[10.150797  ],\n",
       "           [10.150797  ],\n",
       "           [10.150797  ],\n",
       "           ...,\n",
       "           [10.150797  ],\n",
       "           [10.150797  ],\n",
       "           [10.150797  ]]],\n",
       " \n",
       " \n",
       "         [[[10.150797  ],\n",
       "           [10.150797  ],\n",
       "           [10.150797  ],\n",
       "           ...,\n",
       "           [10.150797  ],\n",
       "           [10.150797  ],\n",
       "           [10.150797  ]],\n",
       " \n",
       "          [[10.150797  ],\n",
       "           [10.150797  ],\n",
       "           [10.150797  ],\n",
       "           ...,\n",
       "           [10.150797  ],\n",
       "           [10.150797  ],\n",
       "           [10.150797  ]],\n",
       " \n",
       "          [[10.150797  ],\n",
       "           [10.150797  ],\n",
       "           [10.150797  ],\n",
       "           ...,\n",
       "           [10.150797  ],\n",
       "           [10.150797  ],\n",
       "           [10.150797  ]],\n",
       " \n",
       "          ...,\n",
       " \n",
       "          [[10.150797  ],\n",
       "           [10.150797  ],\n",
       "           [10.150797  ],\n",
       "           ...,\n",
       "           [10.150797  ],\n",
       "           [10.150797  ],\n",
       "           [10.150797  ]],\n",
       " \n",
       "          [[10.150797  ],\n",
       "           [10.150797  ],\n",
       "           [10.150797  ],\n",
       "           ...,\n",
       "           [10.150797  ],\n",
       "           [10.150797  ],\n",
       "           [10.150797  ]],\n",
       " \n",
       "          [[10.150797  ],\n",
       "           [10.150797  ],\n",
       "           [10.150797  ],\n",
       "           ...,\n",
       "           [10.150797  ],\n",
       "           [10.150797  ],\n",
       "           [10.150797  ]]],\n",
       " \n",
       " \n",
       "         [[[10.068604  ],\n",
       "           [10.068604  ],\n",
       "           [10.068604  ],\n",
       "           ...,\n",
       "           [10.068604  ],\n",
       "           [10.068604  ],\n",
       "           [10.068604  ]],\n",
       " \n",
       "          [[10.068604  ],\n",
       "           [10.068604  ],\n",
       "           [10.068604  ],\n",
       "           ...,\n",
       "           [10.068604  ],\n",
       "           [10.068604  ],\n",
       "           [10.068604  ]],\n",
       " \n",
       "          [[10.356278  ],\n",
       "           [10.356278  ],\n",
       "           [10.027508  ],\n",
       "           ...,\n",
       "           [10.027508  ],\n",
       "           [10.027508  ],\n",
       "           [10.027508  ]],\n",
       " \n",
       "          ...,\n",
       " \n",
       "          [[10.068604  ],\n",
       "           [10.068604  ],\n",
       "           [10.068604  ],\n",
       "           ...,\n",
       "           [10.150797  ],\n",
       "           [10.1097    ],\n",
       "           [10.1097    ]],\n",
       " \n",
       "          [[10.068604  ],\n",
       "           [10.068604  ],\n",
       "           [10.1097    ],\n",
       "           ...,\n",
       "           [10.1097    ],\n",
       "           [10.1097    ],\n",
       "           [10.1097    ]],\n",
       " \n",
       "          [[10.068604  ],\n",
       "           [10.068604  ],\n",
       "           [10.1097    ],\n",
       "           ...,\n",
       "           [10.1097    ],\n",
       "           [10.1097    ],\n",
       "           [10.1097    ]]],\n",
       " \n",
       " \n",
       "         ...,\n",
       " \n",
       " \n",
       "         [[[ 1.438372  ],\n",
       "           [ 1.438372  ],\n",
       "           [ 1.438372  ],\n",
       "           ...,\n",
       "           [ 0.7808305 ],\n",
       "           [ 0.8219269 ],\n",
       "           [10.191894  ]],\n",
       " \n",
       "          [[ 1.438372  ],\n",
       "           [ 1.438372  ],\n",
       "           [ 1.438372  ],\n",
       "           ...,\n",
       "           [ 0.6164451 ],\n",
       "           [ 0.2876744 ],\n",
       "           [ 9.575448  ]],\n",
       " \n",
       "          [[ 1.4794683 ],\n",
       "           [ 1.4794683 ],\n",
       "           [ 1.4794683 ],\n",
       "           ...,\n",
       "           [10.232989  ],\n",
       "           [10.150797  ],\n",
       "           [ 9.904219  ]],\n",
       " \n",
       "          ...,\n",
       " \n",
       "          [[ 1.0274086 ],\n",
       "           [ 1.0274086 ],\n",
       "           [ 1.0274086 ],\n",
       "           ...,\n",
       "           [ 0.12328903],\n",
       "           [ 0.04109634],\n",
       "           [ 0.        ]],\n",
       " \n",
       "          [[ 1.0274086 ],\n",
       "           [ 1.0274086 ],\n",
       "           [ 1.0274086 ],\n",
       "           ...,\n",
       "           [ 0.04109634],\n",
       "           [ 0.        ],\n",
       "           [10.479568  ]],\n",
       " \n",
       "          [[ 1.0274086 ],\n",
       "           [ 1.0274086 ],\n",
       "           [ 0.98631227],\n",
       "           ...,\n",
       "           [10.479568  ],\n",
       "           [10.479568  ],\n",
       "           [10.479568  ]]],\n",
       " \n",
       " \n",
       "         [[[ 1.5205647 ],\n",
       "           [ 1.5205647 ],\n",
       "           [ 1.5205647 ],\n",
       "           ...,\n",
       "           [ 0.7397342 ],\n",
       "           [ 0.8219269 ],\n",
       "           [10.027508  ]],\n",
       " \n",
       "          [[ 1.5205647 ],\n",
       "           [ 1.5205647 ],\n",
       "           [ 1.5205647 ],\n",
       "           ...,\n",
       "           [ 0.6575415 ],\n",
       "           [ 0.08219269],\n",
       "           [ 9.534351  ]],\n",
       " \n",
       "          [[ 1.4794683 ],\n",
       "           [ 1.4794683 ],\n",
       "           [ 1.4794683 ],\n",
       "           ...,\n",
       "           [10.274086  ],\n",
       "           [10.232989  ],\n",
       "           [10.027508  ]],\n",
       " \n",
       "          ...,\n",
       " \n",
       "          [[ 1.1506976 ],\n",
       "           [ 1.1096013 ],\n",
       "           [ 1.0274086 ],\n",
       "           ...,\n",
       "           [ 0.16438538],\n",
       "           [ 0.12328903],\n",
       "           [ 0.08219269]],\n",
       " \n",
       "          [[ 1.1096013 ],\n",
       "           [ 1.1096013 ],\n",
       "           [ 1.0274086 ],\n",
       "           ...,\n",
       "           [ 0.12328903],\n",
       "           [ 0.04109634],\n",
       "           [ 0.        ]],\n",
       " \n",
       "          [[ 1.1096013 ],\n",
       "           [ 1.1096013 ],\n",
       "           [ 1.0274086 ],\n",
       "           ...,\n",
       "           [ 0.04109634],\n",
       "           [ 0.        ],\n",
       "           [ 0.        ]]],\n",
       " \n",
       " \n",
       "         [[[ 1.5205647 ],\n",
       "           [ 1.5205647 ],\n",
       "           [ 1.561661  ],\n",
       "           ...,\n",
       "           [ 0.8219269 ],\n",
       "           [ 0.8630232 ],\n",
       "           [10.027508  ]],\n",
       " \n",
       "          [[ 1.5205647 ],\n",
       "           [ 1.5205647 ],\n",
       "           [ 1.561661  ],\n",
       "           ...,\n",
       "           [ 0.69863784],\n",
       "           [ 0.12328903],\n",
       "           [ 9.65764   ]],\n",
       " \n",
       "          [[ 1.5205647 ],\n",
       "           [ 1.4794683 ],\n",
       "           [ 1.4794683 ],\n",
       "           ...,\n",
       "           [10.274086  ],\n",
       "           [10.315183  ],\n",
       "           [10.1097    ]],\n",
       " \n",
       "          ...,\n",
       " \n",
       "          [[ 1.1506976 ],\n",
       "           [ 1.1096013 ],\n",
       "           [ 1.0274086 ],\n",
       "           ...,\n",
       "           [ 0.12328903],\n",
       "           [ 0.12328903],\n",
       "           [ 0.08219269]],\n",
       " \n",
       "          [[ 1.1096013 ],\n",
       "           [ 1.1096013 ],\n",
       "           [ 1.0274086 ],\n",
       "           ...,\n",
       "           [ 0.12328903],\n",
       "           [ 0.04109634],\n",
       "           [ 0.        ]],\n",
       " \n",
       "          [[ 1.1096013 ],\n",
       "           [ 1.1096013 ],\n",
       "           [ 1.0274086 ],\n",
       "           ...,\n",
       "           [ 0.04109634],\n",
       "           [ 0.        ],\n",
       "           [10.479568  ]]]],\n",
       " \n",
       " \n",
       " \n",
       "        [[[[ 1.5326781 ],\n",
       "           [ 1.5326781 ],\n",
       "           [ 1.4498307 ],\n",
       "           ...,\n",
       "           [ 0.        ],\n",
       "           [ 0.04142373],\n",
       "           [ 0.04142373]],\n",
       " \n",
       "          [[ 1.5326781 ],\n",
       "           [ 1.5326781 ],\n",
       "           [ 1.4498307 ],\n",
       "           ...,\n",
       "           [ 0.        ],\n",
       "           [ 0.04142373],\n",
       "           [ 0.04142373]],\n",
       " \n",
       "          [[ 1.4084069 ],\n",
       "           [ 1.4084069 ],\n",
       "           [ 1.4084069 ],\n",
       "           ...,\n",
       "           [10.563052  ],\n",
       "           [10.563052  ],\n",
       "           [10.563052  ]],\n",
       " \n",
       "          ...,\n",
       " \n",
       "          [[ 1.0355933 ],\n",
       "           [ 1.0355933 ],\n",
       "           [ 1.0355933 ],\n",
       "           ...,\n",
       "           [10.273086  ],\n",
       "           [10.273086  ],\n",
       "           [10.273086  ]],\n",
       " \n",
       "          [[ 1.0355933 ],\n",
       "           [ 1.0355933 ],\n",
       "           [ 1.0355933 ],\n",
       "           ...,\n",
       "           [10.273086  ],\n",
       "           [10.273086  ],\n",
       "           [10.273086  ]],\n",
       " \n",
       "          [[ 1.0355933 ],\n",
       "           [ 1.0355933 ],\n",
       "           [ 1.0355933 ],\n",
       "           ...,\n",
       "           [10.273086  ],\n",
       "           [10.273086  ],\n",
       "           [10.273086  ]]],\n",
       " \n",
       " \n",
       "         [[[ 1.5326781 ],\n",
       "           [ 1.5326781 ],\n",
       "           [ 1.4912543 ],\n",
       "           ...,\n",
       "           [ 0.04142373],\n",
       "           [ 0.        ],\n",
       "           [ 0.        ]],\n",
       " \n",
       "          [[ 1.5326781 ],\n",
       "           [ 1.5326781 ],\n",
       "           [ 1.4912543 ],\n",
       "           ...,\n",
       "           [ 0.04142373],\n",
       "           [ 0.        ],\n",
       "           [ 0.        ]],\n",
       " \n",
       "          [[ 1.3669832 ],\n",
       "           [ 1.3669832 ],\n",
       "           [ 1.3669832 ],\n",
       "           ...,\n",
       "           [10.563052  ],\n",
       "           [10.563052  ],\n",
       "           [10.563052  ]],\n",
       " \n",
       "          ...,\n",
       " \n",
       "          [[ 1.0355933 ],\n",
       "           [ 1.0355933 ],\n",
       "           [ 0.9941696 ],\n",
       "           ...,\n",
       "           [10.273086  ],\n",
       "           [10.314509  ],\n",
       "           [10.314509  ]],\n",
       " \n",
       "          [[ 1.0355933 ],\n",
       "           [ 1.0355933 ],\n",
       "           [ 0.9941696 ],\n",
       "           ...,\n",
       "           [10.273086  ],\n",
       "           [10.314509  ],\n",
       "           [10.314509  ]],\n",
       " \n",
       "          [[ 1.0355933 ],\n",
       "           [ 1.0355933 ],\n",
       "           [ 0.9941696 ],\n",
       "           ...,\n",
       "           [10.273086  ],\n",
       "           [10.314509  ],\n",
       "           [10.314509  ]]],\n",
       " \n",
       " \n",
       "         [[[ 1.5741018 ],\n",
       "           [ 1.5741018 ],\n",
       "           [ 1.4912543 ],\n",
       "           ...,\n",
       "           [ 0.        ],\n",
       "           [ 0.        ],\n",
       "           [ 0.        ]],\n",
       " \n",
       "          [[ 1.5741018 ],\n",
       "           [ 1.5741018 ],\n",
       "           [ 1.4912543 ],\n",
       "           ...,\n",
       "           [ 0.        ],\n",
       "           [ 0.        ],\n",
       "           [ 0.        ]],\n",
       " \n",
       "          [[ 1.4084069 ],\n",
       "           [ 1.4084069 ],\n",
       "           [ 1.4084069 ],\n",
       "           ...,\n",
       "           [ 0.        ],\n",
       "           [ 0.        ],\n",
       "           [10.563052  ]],\n",
       " \n",
       "          ...,\n",
       " \n",
       "          [[ 1.0355933 ],\n",
       "           [ 1.0355933 ],\n",
       "           [ 1.0355933 ],\n",
       "           ...,\n",
       "           [10.231662  ],\n",
       "           [10.273086  ],\n",
       "           [10.273086  ]],\n",
       " \n",
       "          [[ 1.0355933 ],\n",
       "           [ 1.0355933 ],\n",
       "           [ 1.0355933 ],\n",
       "           ...,\n",
       "           [10.231662  ],\n",
       "           [10.273086  ],\n",
       "           [10.273086  ]],\n",
       " \n",
       "          [[ 1.0355933 ],\n",
       "           [ 1.0355933 ],\n",
       "           [ 1.0355933 ],\n",
       "           ...,\n",
       "           [10.231662  ],\n",
       "           [10.273086  ],\n",
       "           [10.273086  ]]],\n",
       " \n",
       " \n",
       "         ...,\n",
       " \n",
       " \n",
       "         [[[ 1.4084069 ],\n",
       "           [ 1.4084069 ],\n",
       "           [ 1.4084069 ],\n",
       "           ...,\n",
       "           [10.521628  ],\n",
       "           [10.563052  ],\n",
       "           [10.563052  ]],\n",
       " \n",
       "          [[ 1.4084069 ],\n",
       "           [ 1.4084069 ],\n",
       "           [ 1.4084069 ],\n",
       "           ...,\n",
       "           [10.521628  ],\n",
       "           [10.563052  ],\n",
       "           [10.563052  ]],\n",
       " \n",
       "          [[ 1.4084069 ],\n",
       "           [ 1.4084069 ],\n",
       "           [ 1.4084069 ],\n",
       "           ...,\n",
       "           [10.521628  ],\n",
       "           [10.563052  ],\n",
       "           [10.563052  ]],\n",
       " \n",
       "          ...,\n",
       " \n",
       "          [[ 1.0355933 ],\n",
       "           [ 1.0355933 ],\n",
       "           [ 1.0355933 ],\n",
       "           ...,\n",
       "           [10.314509  ],\n",
       "           [10.314509  ],\n",
       "           [10.314509  ]],\n",
       " \n",
       "          [[ 1.0355933 ],\n",
       "           [ 1.0355933 ],\n",
       "           [ 1.0355933 ],\n",
       "           ...,\n",
       "           [10.314509  ],\n",
       "           [10.273086  ],\n",
       "           [10.231662  ]],\n",
       " \n",
       "          [[ 1.0355933 ],\n",
       "           [ 1.0355933 ],\n",
       "           [ 0.9941696 ],\n",
       "           ...,\n",
       "           [10.314509  ],\n",
       "           [10.231662  ],\n",
       "           [10.231662  ]]],\n",
       " \n",
       " \n",
       "         [[[ 1.4084069 ],\n",
       "           [ 1.4084069 ],\n",
       "           [ 1.3669832 ],\n",
       "           ...,\n",
       "           [ 0.        ],\n",
       "           [ 0.        ],\n",
       "           [ 0.        ]],\n",
       " \n",
       "          [[ 1.4084069 ],\n",
       "           [ 1.4084069 ],\n",
       "           [ 1.3669832 ],\n",
       "           ...,\n",
       "           [ 0.        ],\n",
       "           [ 0.        ],\n",
       "           [ 0.        ]],\n",
       " \n",
       "          [[ 1.4084069 ],\n",
       "           [ 1.4084069 ],\n",
       "           [ 1.4084069 ],\n",
       "           ...,\n",
       "           [10.563052  ],\n",
       "           [10.563052  ],\n",
       "           [10.563052  ]],\n",
       " \n",
       "          ...,\n",
       " \n",
       "          [[ 1.0355933 ],\n",
       "           [ 1.0355933 ],\n",
       "           [ 1.0355933 ],\n",
       "           ...,\n",
       "           [10.314509  ],\n",
       "           [10.231662  ],\n",
       "           [10.231662  ]],\n",
       " \n",
       "          [[ 1.0355933 ],\n",
       "           [ 1.0355933 ],\n",
       "           [ 1.0355933 ],\n",
       "           ...,\n",
       "           [10.273086  ],\n",
       "           [10.231662  ],\n",
       "           [10.231662  ]],\n",
       " \n",
       "          [[ 1.0355933 ],\n",
       "           [ 1.0355933 ],\n",
       "           [ 0.9941696 ],\n",
       "           ...,\n",
       "           [10.273086  ],\n",
       "           [10.231662  ],\n",
       "           [10.231662  ]]],\n",
       " \n",
       " \n",
       "         [[[ 1.4498307 ],\n",
       "           [ 1.4498307 ],\n",
       "           [ 1.4084069 ],\n",
       "           ...,\n",
       "           [ 0.        ],\n",
       "           [ 0.        ],\n",
       "           [ 0.        ]],\n",
       " \n",
       "          [[ 1.4498307 ],\n",
       "           [ 1.4498307 ],\n",
       "           [ 1.4084069 ],\n",
       "           ...,\n",
       "           [ 0.        ],\n",
       "           [ 0.        ],\n",
       "           [ 0.        ]],\n",
       " \n",
       "          [[ 1.4084069 ],\n",
       "           [ 1.4084069 ],\n",
       "           [ 1.4084069 ],\n",
       "           ...,\n",
       "           [10.563052  ],\n",
       "           [10.563052  ],\n",
       "           [10.563052  ]],\n",
       " \n",
       "          ...,\n",
       " \n",
       "          [[ 1.0355933 ],\n",
       "           [ 1.0355933 ],\n",
       "           [ 1.0355933 ],\n",
       "           ...,\n",
       "           [10.355933  ],\n",
       "           [10.273086  ],\n",
       "           [10.273086  ]],\n",
       " \n",
       "          [[ 1.0355933 ],\n",
       "           [ 1.0355933 ],\n",
       "           [ 1.0355933 ],\n",
       "           ...,\n",
       "           [10.314509  ],\n",
       "           [10.273086  ],\n",
       "           [10.273086  ]],\n",
       " \n",
       "          [[ 1.0355933 ],\n",
       "           [ 1.0355933 ],\n",
       "           [ 0.9941696 ],\n",
       "           ...,\n",
       "           [10.314509  ],\n",
       "           [10.273086  ],\n",
       "           [10.273086  ]]]]], dtype=float32),\n",
       " array([[19,  5, 20, 39, 18,  5,  4, 39,  1, 20, 39, 14, 39, 14,  9, 14,\n",
       "          5, 39, 19, 15, 15, 14,  0,  0,  0,  0,  0,  0,  0,  0,  0,  0,\n",
       "          0,  0,  0,  0,  0,  0,  0,  0],\n",
       "        [12,  1, 25, 39, 23,  8,  9, 20,  5, 39,  2, 25, 39,  6, 39,  6,\n",
       "         15, 21, 18, 39, 16, 12,  5,  1, 19,  5,  0,  0,  0,  0,  0,  0,\n",
       "          0,  0,  0,  0,  0,  0,  0,  0]], dtype=int64))"
      ]
     },
     "execution_count": 55,
     "metadata": {},
     "output_type": "execute_result"
    }
   ],
   "source": [
    "sample"
   ]
  },
  {
   "cell_type": "code",
   "execution_count": 56,
   "id": "a43621f0-229d-4c0d-9554-9c3a3da9c61a",
   "metadata": {
    "tags": []
   },
   "outputs": [
    {
     "name": "stdout",
     "output_type": "stream",
     "text": [
      "1/1 [==============================] - 3s 3s/step\n"
     ]
    }
   ],
   "source": [
    "yhat = model.predict(sample[0])"
   ]
  },
  {
   "cell_type": "code",
   "execution_count": 57,
   "id": "ea462999-f87e-4a7e-a057-5be7b6d8f7d5",
   "metadata": {
    "tags": []
   },
   "outputs": [
    {
     "name": "stdout",
     "output_type": "stream",
     "text": [
      "~~~~~~~~~~~~~~~~~~~~~~~~~~~~~~~~~~~~~~~~~~~~~~~~~~~~~~~~~~~~~~~~~~~~~~~~~~~~~~~~~~~~~~~~~~~~~~~~~~~~ REAL TEXT\n"
     ]
    },
    {
     "data": {
      "text/plain": [
       "[<tf.Tensor: shape=(), dtype=string, numpy=b'set red at n nine soon'>,\n",
       " <tf.Tensor: shape=(), dtype=string, numpy=b'lay white by f four please'>]"
      ]
     },
     "execution_count": 57,
     "metadata": {},
     "output_type": "execute_result"
    }
   ],
   "source": [
    "print('~'*100, 'REAL TEXT')\n",
    "[tf.strings.reduce_join([num_to_char(word) for word in sentence]) for sentence in sample[1]]"
   ]
  },
  {
   "cell_type": "code",
   "execution_count": 58,
   "id": "82bd4c10-dd6e-411e-834b-2a3b43fd12c5",
   "metadata": {
    "tags": []
   },
   "outputs": [],
   "source": [
    "decoded = tf.keras.backend.ctc_decode(yhat, input_length=[75,75], greedy=True)[0][0].numpy()"
   ]
  },
  {
   "cell_type": "code",
   "execution_count": 59,
   "id": "5d68ac46-c90b-4eab-a709-f19aee569ff5",
   "metadata": {
    "tags": []
   },
   "outputs": [
    {
     "name": "stdout",
     "output_type": "stream",
     "text": [
      "~~~~~~~~~~~~~~~~~~~~~~~~~~~~~~~~~~~~~~~~~~~~~~~~~~~~~~~~~~~~~~~~~~~~~~~~~~~~~~~~~~~~~~~~~~~~~~~~~~~~ PREDICTIONS\n"
     ]
    },
    {
     "data": {
      "text/plain": [
       "[<tf.Tensor: shape=(), dtype=string, numpy=b'la '>,\n",
       " <tf.Tensor: shape=(), dtype=string, numpy=b'le '>]"
      ]
     },
     "execution_count": 59,
     "metadata": {},
     "output_type": "execute_result"
    }
   ],
   "source": [
    "print('~'*100, 'PREDICTIONS')\n",
    "[tf.strings.reduce_join([num_to_char(word) for word in sentence]) for sentence in decoded]"
   ]
  },
  {
   "cell_type": "markdown",
   "id": "64622f98-e99b-4fed-a2cc-f0da82eb5431",
   "metadata": {},
   "source": [
    "# Test on a Video"
   ]
  },
  {
   "cell_type": "code",
   "execution_count": 60,
   "id": "a8b0c4d0-2031-4331-b91d-d87b1ae6f6e2",
   "metadata": {},
   "outputs": [],
   "source": [
    "# sample = load_data(tf.convert_to_tensor('.\\\\data\\\\s1\\\\bras9a.mpg'))\n",
    "sample = load_data(tf.convert_to_tensor('.\\\\data\\\\s1\\\\bbaf3s.mpg'))"
   ]
  },
  {
   "cell_type": "code",
   "execution_count": 61,
   "id": "0cca60e4-47a9-4683-8a75-48f4684f723d",
   "metadata": {},
   "outputs": [
    {
     "name": "stdout",
     "output_type": "stream",
     "text": [
      "~~~~~~~~~~~~~~~~~~~~~~~~~~~~~~~~~~~~~~~~~~~~~~~~~~~~~~~~~~~~~~~~~~~~~~~~~~~~~~~~~~~~~~~~~~~~~~~~~~~~ REAL TEXT\n"
     ]
    },
    {
     "data": {
      "text/plain": [
       "[<tf.Tensor: shape=(), dtype=string, numpy=b'bin blue at f three soon'>]"
      ]
     },
     "execution_count": 61,
     "metadata": {},
     "output_type": "execute_result"
    }
   ],
   "source": [
    "print('~'*100, 'REAL TEXT')\n",
    "[tf.strings.reduce_join([num_to_char(word) for word in sentence]) for sentence in [sample[1]]]"
   ]
  },
  {
   "cell_type": "code",
   "execution_count": 62,
   "id": "8cc5037c-1e32-435c-b0cc-01e1fb3b863c",
   "metadata": {},
   "outputs": [
    {
     "name": "stdout",
     "output_type": "stream",
     "text": [
      "1/1 [==============================] - 1s 806ms/step\n"
     ]
    }
   ],
   "source": [
    "yhat = model.predict(tf.expand_dims(sample[0], axis=0))"
   ]
  },
  {
   "cell_type": "code",
   "execution_count": 63,
   "id": "22c4f77d-715d-409f-bc5e-3ebe48704e8f",
   "metadata": {},
   "outputs": [],
   "source": [
    "decoded = tf.keras.backend.ctc_decode(yhat, input_length=[75], greedy=True)[0][0].numpy()"
   ]
  },
  {
   "cell_type": "code",
   "execution_count": 64,
   "id": "e4d12ecc-b634-499e-a4bc-db9f010835fb",
   "metadata": {},
   "outputs": [
    {
     "name": "stdout",
     "output_type": "stream",
     "text": [
      "~~~~~~~~~~~~~~~~~~~~~~~~~~~~~~~~~~~~~~~~~~~~~~~~~~~~~~~~~~~~~~~~~~~~~~~~~~~~~~~~~~~~~~~~~~~~~~~~~~~~ PREDICTIONS\n"
     ]
    },
    {
     "data": {
      "text/plain": [
       "[<tf.Tensor: shape=(), dtype=string, numpy=b'le '>]"
      ]
     },
     "execution_count": 64,
     "metadata": {},
     "output_type": "execute_result"
    }
   ],
   "source": [
    "print('~'*100, 'PREDICTIONS')\n",
    "[tf.strings.reduce_join([num_to_char(word) for word in sentence]) for sentence in decoded]"
   ]
  },
  {
   "cell_type": "code",
   "execution_count": null,
   "id": "551dfea2-de6b-4400-b71a-a17631529e3f",
   "metadata": {},
   "outputs": [],
   "source": []
  },
  {
   "cell_type": "code",
   "execution_count": null,
   "id": "fa95863d-3832-47bf-8a77-ebaa38054ace",
   "metadata": {},
   "outputs": [],
   "source": []
  }
 ],
 "metadata": {
  "kernelspec": {
   "display_name": "diff2lip",
   "language": "python",
   "name": "python3"
  },
  "language_info": {
   "codemirror_mode": {
    "name": "ipython",
    "version": 3
   },
   "file_extension": ".py",
   "mimetype": "text/x-python",
   "name": "python",
   "nbconvert_exporter": "python",
   "pygments_lexer": "ipython3",
   "version": "3.9.18"
  }
 },
 "nbformat": 4,
 "nbformat_minor": 5
}
