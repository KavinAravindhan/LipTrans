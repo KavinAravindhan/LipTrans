{
 "cells": [
  {
   "cell_type": "code",
   "execution_count": 3,
   "id": "b24af50c-20b8-409d-ad78-30a933fdd669",
   "metadata": {
    "tags": []
   },
   "outputs": [],
   "source": [
    "import os\n",
    "import cv2\n",
    "import tensorflow as tf\n",
    "import numpy as np\n",
    "from typing import List\n",
    "from matplotlib import pyplot as plt\n",
    "import imageio"
   ]
  },
  {
   "cell_type": "code",
   "execution_count": 4,
   "id": "1e3db0b0-e559-4ad6-91fd-e7414b7d75e6",
   "metadata": {},
   "outputs": [
    {
     "data": {
      "text/plain": [
       "[]"
      ]
     },
     "execution_count": 4,
     "metadata": {},
     "output_type": "execute_result"
    }
   ],
   "source": [
    "tf.config.list_physical_devices('GPU')"
   ]
  },
  {
   "cell_type": "code",
   "execution_count": 5,
   "id": "378d045a-3003-4f93-b7d2-a25a97774a68",
   "metadata": {
    "tags": []
   },
   "outputs": [],
   "source": [
    "physical_devices = tf.config.list_physical_devices('GPU')\n",
    "try:\n",
    "    tf.config.experimental.set_memory_growth(physical_devices[0], True)\n",
    "except:\n",
    "    pass"
   ]
  },
  {
   "cell_type": "markdown",
   "id": "7a19e88e-c7b9-45c1-ae1e-f2109329c71b",
   "metadata": {
    "tags": []
   },
   "source": [
    "# 1. Data Loading Functions"
   ]
  },
  {
   "cell_type": "code",
   "execution_count": 6,
   "id": "8548cc59-6dfc-4acc-abc3-3e65212db02e",
   "metadata": {
    "tags": []
   },
   "outputs": [],
   "source": [
    "def load_video(path:str) -> List[float]: \n",
    "\n",
    "    cap = cv2.VideoCapture(path)\n",
    "    frames = []\n",
    "    for _ in range(int(cap.get(cv2.CAP_PROP_FRAME_COUNT))): \n",
    "        ret, frame = cap.read()\n",
    "        frame = tf.image.rgb_to_grayscale(frame)\n",
    "        frames.append(frame[190:236,80:220,:])\n",
    "    cap.release()\n",
    "    \n",
    "    mean = tf.math.reduce_mean(frames)\n",
    "    std = tf.math.reduce_std(tf.cast(frames, tf.float32))\n",
    "    return tf.cast((frames - mean), tf.float32) / std"
   ]
  },
  {
   "cell_type": "code",
   "execution_count": 7,
   "id": "ec735e0b-ec98-4eb0-8f49-c35527d6670a",
   "metadata": {
    "tags": []
   },
   "outputs": [],
   "source": [
    "vocab = [x for x in \"abcdefghijklmnopqrstuvwxyz'?!123456789 \"]"
   ]
  },
  {
   "cell_type": "code",
   "execution_count": 8,
   "id": "be04e972-d7a5-4a72-82d8-a6bdde1f3ce6",
   "metadata": {
    "tags": []
   },
   "outputs": [
    {
     "name": "stdout",
     "output_type": "stream",
     "text": [
      "The vocabulary is: ['', 'a', 'b', 'c', 'd', 'e', 'f', 'g', 'h', 'i', 'j', 'k', 'l', 'm', 'n', 'o', 'p', 'q', 'r', 's', 't', 'u', 'v', 'w', 'x', 'y', 'z', \"'\", '?', '!', '1', '2', '3', '4', '5', '6', '7', '8', '9', ' '] (size =40)\n"
     ]
    }
   ],
   "source": [
    "char_to_num = tf.keras.layers.StringLookup(vocabulary=vocab, oov_token=\"\")\n",
    "num_to_char = tf.keras.layers.StringLookup(\n",
    "    vocabulary=char_to_num.get_vocabulary(), oov_token=\"\", invert=True\n",
    ")\n",
    "\n",
    "print(\n",
    "    f\"The vocabulary is: {char_to_num.get_vocabulary()} \"\n",
    "    f\"(size ={char_to_num.vocabulary_size()})\"\n",
    ")"
   ]
  },
  {
   "cell_type": "code",
   "execution_count": 9,
   "id": "559f7420-6802-45fa-9ca0-b1ff209b461c",
   "metadata": {
    "tags": []
   },
   "outputs": [
    {
     "data": {
      "text/plain": [
       "['',\n",
       " 'a',\n",
       " 'b',\n",
       " 'c',\n",
       " 'd',\n",
       " 'e',\n",
       " 'f',\n",
       " 'g',\n",
       " 'h',\n",
       " 'i',\n",
       " 'j',\n",
       " 'k',\n",
       " 'l',\n",
       " 'm',\n",
       " 'n',\n",
       " 'o',\n",
       " 'p',\n",
       " 'q',\n",
       " 'r',\n",
       " 's',\n",
       " 't',\n",
       " 'u',\n",
       " 'v',\n",
       " 'w',\n",
       " 'x',\n",
       " 'y',\n",
       " 'z',\n",
       " \"'\",\n",
       " '?',\n",
       " '!',\n",
       " '1',\n",
       " '2',\n",
       " '3',\n",
       " '4',\n",
       " '5',\n",
       " '6',\n",
       " '7',\n",
       " '8',\n",
       " '9',\n",
       " ' ']"
      ]
     },
     "execution_count": 9,
     "metadata": {},
     "output_type": "execute_result"
    }
   ],
   "source": [
    "char_to_num.get_vocabulary()"
   ]
  },
  {
   "cell_type": "code",
   "execution_count": 10,
   "id": "797ff78b-b48f-4e14-bb62-8cd0ebf9501a",
   "metadata": {
    "tags": []
   },
   "outputs": [
    {
     "data": {
      "text/plain": [
       "<tf.Tensor: shape=(4,), dtype=int64, numpy=array([14,  9,  3, 11], dtype=int64)>"
      ]
     },
     "execution_count": 10,
     "metadata": {},
     "output_type": "execute_result"
    }
   ],
   "source": [
    "char_to_num(['n','i','c','k'])"
   ]
  },
  {
   "cell_type": "code",
   "execution_count": 11,
   "id": "8cd7f4f4-ae77-4509-a4f4-c723787ebad1",
   "metadata": {},
   "outputs": [
    {
     "data": {
      "text/plain": [
       "<tf.Tensor: shape=(4,), dtype=string, numpy=array([b'n', b'i', b'c', b'k'], dtype=object)>"
      ]
     },
     "execution_count": 11,
     "metadata": {},
     "output_type": "execute_result"
    }
   ],
   "source": [
    "num_to_char([14,  9,  3, 11])"
   ]
  },
  {
   "cell_type": "code",
   "execution_count": 12,
   "id": "9491bab5-6a3c-4f79-879a-8f9fbe73ae2e",
   "metadata": {
    "tags": []
   },
   "outputs": [],
   "source": [
    "def load_alignments(path:str) -> List[str]: \n",
    "    with open(path, 'r') as f: \n",
    "        lines = f.readlines() \n",
    "    tokens = []\n",
    "    for line in lines:\n",
    "        line = line.split()\n",
    "        if line[2] != 'sil': \n",
    "            tokens = [*tokens,' ',line[2]]\n",
    "    return char_to_num(tf.reshape(tf.strings.unicode_split(tokens, input_encoding='UTF-8'), (-1)))[1:]"
   ]
  },
  {
   "cell_type": "code",
   "execution_count": 13,
   "id": "dd01ca9f-77fb-4643-a2aa-47dd82c5d66b",
   "metadata": {
    "tags": []
   },
   "outputs": [],
   "source": [
    "def load_data(path: str): \n",
    "    path = bytes.decode(path.numpy())\n",
    "    #file_name = path.split('/')[-1].split('.')[0]\n",
    "    # File name splitting for windows\n",
    "    file_name = path.split('\\\\')[-1].split('.')[0]\n",
    "    video_path = os.path.join('data','s1',f'{file_name}.mpg')\n",
    "    alignment_path = os.path.join('data','alignments','s1',f'{file_name}.align')\n",
    "    frames = load_video(video_path) \n",
    "    alignments = load_alignments(alignment_path)\n",
    "    \n",
    "    return frames, alignments"
   ]
  },
  {
   "cell_type": "code",
   "execution_count": 14,
   "id": "8cb7cc58-31ae-4904-a805-1177a82717d2",
   "metadata": {
    "tags": []
   },
   "outputs": [],
   "source": [
    "test_path = '.\\\\data\\\\s1\\\\bbal6n.mpg'"
   ]
  },
  {
   "cell_type": "code",
   "execution_count": 15,
   "id": "76aa964f-0c84-490d-897a-d00e3966e2c9",
   "metadata": {},
   "outputs": [
    {
     "data": {
      "text/plain": [
       "'bbal6n'"
      ]
     },
     "execution_count": 15,
     "metadata": {},
     "output_type": "execute_result"
    }
   ],
   "source": [
    "tf.convert_to_tensor(test_path).numpy().decode('utf-8').split('\\\\')[-1].split('.')[0]"
   ]
  },
  {
   "cell_type": "code",
   "execution_count": 16,
   "id": "eb602c71-8560-4f9e-b26b-08202febb937",
   "metadata": {
    "scrolled": true,
    "tags": []
   },
   "outputs": [],
   "source": [
    "frames, alignments = load_data(tf.convert_to_tensor(test_path))"
   ]
  },
  {
   "cell_type": "code",
   "execution_count": 17,
   "id": "0e3184a1-6b02-4b4f-84a8-a0a65f951ea2",
   "metadata": {},
   "outputs": [
    {
     "data": {
      "text/plain": [
       "<matplotlib.image.AxesImage at 0x2238040aa90>"
      ]
     },
     "execution_count": 17,
     "metadata": {},
     "output_type": "execute_result"
    },
    {
     "data": {
      "image/png": "[encoded data removed]",
      "text/plain": [
       "<Figure size 640x480 with 1 Axes>"
      ]
     },
     "metadata": {},
     "output_type": "display_data"
    }
   ],
   "source": [
    "plt.imshow(frames[40])"
   ]
  },
  {
   "cell_type": "code",
   "execution_count": 18,
   "id": "d7ec0833-d54b-4073-84cf-92d011c60ec1",
   "metadata": {},
   "outputs": [
    {
     "data": {
      "text/plain": [
       "<tf.Tensor: shape=(21,), dtype=int64, numpy=\n",
       "array([ 2,  9, 14, 39,  2, 12, 21,  5, 39,  1, 20, 39, 12, 39, 19,  9, 24,\n",
       "       39, 14, 15, 23], dtype=int64)>"
      ]
     },
     "execution_count": 18,
     "metadata": {},
     "output_type": "execute_result"
    }
   ],
   "source": [
    "alignments"
   ]
  },
  {
   "cell_type": "code",
   "execution_count": 19,
   "id": "fe1ad370-b287-4b46-85a2-7c45b0bd9b10",
   "metadata": {},
   "outputs": [
    {
     "data": {
      "text/plain": [
       "<tf.Tensor: shape=(), dtype=string, numpy=b'bin blue at l six now'>"
      ]
     },
     "execution_count": 19,
     "metadata": {},
     "output_type": "execute_result"
    }
   ],
   "source": [
    "tf.strings.reduce_join([bytes.decode(x) for x in num_to_char(alignments.numpy()).numpy()])"
   ]
  },
  {
   "cell_type": "code",
   "execution_count": 20,
   "id": "6871031a-b0ba-4c76-a852-f6329b0f2606",
   "metadata": {
    "tags": []
   },
   "outputs": [],
   "source": [
    "def mappable_function(path:str) ->List[str]:\n",
    "    result = tf.py_function(load_data, [path], (tf.float32, tf.int64))\n",
    "    return result"
   ]
  },
  {
   "cell_type": "markdown",
   "id": "c40a7eb4-0c3e-4eab-9291-5611cb68ce08",
   "metadata": {
    "tags": []
   },
   "source": [
    "# 2. Processing Data"
   ]
  },
  {
   "cell_type": "code",
   "execution_count": 21,
   "id": "7686355d-45aa-4c85-ad9c-053e6a9b4d81",
   "metadata": {
    "tags": []
   },
   "outputs": [],
   "source": [
    "from matplotlib import pyplot as plt"
   ]
  },
  {
   "cell_type": "code",
   "execution_count": 22,
   "id": "f066fea2-91b1-42ed-a67d-00566a1a53ff",
   "metadata": {
    "tags": []
   },
   "outputs": [],
   "source": [
    "data = tf.data.Dataset.list_files('./data/s1/*.mpg')\n",
    "data = data.shuffle(500, reshuffle_each_iteration=False)\n",
    "data = data.map(mappable_function)\n",
    "data = data.padded_batch(2, padded_shapes=([75,None,None,None],[40]))\n",
    "data = data.prefetch(tf.data.AUTOTUNE)\n",
    "# Added for split \n",
    "train = data.take(450)\n",
    "test = data.skip(450)"
   ]
  },
  {
   "cell_type": "code",
   "execution_count": 23,
   "id": "6b1365bd-7742-41d1-95d4-247021751c3a",
   "metadata": {},
   "outputs": [
    {
     "data": {
      "text/plain": [
       "50"
      ]
     },
     "execution_count": 23,
     "metadata": {},
     "output_type": "execute_result"
    }
   ],
   "source": [
    "len(test)"
   ]
  },
  {
   "cell_type": "code",
   "execution_count": 24,
   "id": "5281bde8-fdc8-4da1-bd55-5a7929a9e80c",
   "metadata": {},
   "outputs": [],
   "source": [
    "frames, alignments = data.as_numpy_iterator().next()"
   ]
  },
  {
   "cell_type": "code",
   "execution_count": 25,
   "id": "cbebe683-6afd-47fd-bba4-c83b4b13bb32",
   "metadata": {},
   "outputs": [
    {
     "data": {
      "text/plain": [
       "2"
      ]
     },
     "execution_count": 25,
     "metadata": {},
     "output_type": "execute_result"
    }
   ],
   "source": [
    "len(frames)"
   ]
  },
  {
   "cell_type": "code",
   "execution_count": 26,
   "id": "5cf2d676-93a9-434c-b3c7-bdcc2577b2e7",
   "metadata": {
    "tags": []
   },
   "outputs": [],
   "source": [
    "sample = data.as_numpy_iterator()"
   ]
  },
  {
   "cell_type": "code",
   "execution_count": 27,
   "id": "efa6cd46-7079-46c0-b45b-832f339f6cb0",
   "metadata": {
    "scrolled": true,
    "tags": []
   },
   "outputs": [
    {
     "data": {
      "text/plain": [
       "array([[[[[1.2460263 ],\n",
       "          [1.2460263 ],\n",
       "          [1.2816269 ],\n",
       "          ...,\n",
       "          [8.615381  ],\n",
       "          [9.04259   ],\n",
       "          [9.04259   ]],\n",
       "\n",
       "         [[1.2460263 ],\n",
       "          [1.2460263 ],\n",
       "          [1.2816269 ],\n",
       "          ...,\n",
       "          [8.615381  ],\n",
       "          [0.0712015 ],\n",
       "          [8.971389  ]],\n",
       "\n",
       "         [[1.2460263 ],\n",
       "          [1.2460263 ],\n",
       "          [1.2460263 ],\n",
       "          ...,\n",
       "          [8.971389  ],\n",
       "          [0.03560075],\n",
       "          [0.03560075]],\n",
       "\n",
       "         ...,\n",
       "\n",
       "         [[0.89001876],\n",
       "          [0.89001876],\n",
       "          [0.89001876],\n",
       "          ...,\n",
       "          [9.04259   ],\n",
       "          [9.04259   ],\n",
       "          [9.04259   ]],\n",
       "\n",
       "         [[0.89001876],\n",
       "          [0.89001876],\n",
       "          [0.89001876],\n",
       "          ...,\n",
       "          [9.0069895 ],\n",
       "          [9.04259   ],\n",
       "          [9.04259   ]],\n",
       "\n",
       "         [[0.89001876],\n",
       "          [0.89001876],\n",
       "          [0.89001876],\n",
       "          ...,\n",
       "          [9.0069895 ],\n",
       "          [9.04259   ],\n",
       "          [9.04259   ]]],\n",
       "\n",
       "\n",
       "        [[[1.2460263 ],\n",
       "          [1.2460263 ],\n",
       "          [1.2816269 ],\n",
       "          ...,\n",
       "          [8.508579  ],\n",
       "          [9.04259   ],\n",
       "          [8.935788  ]],\n",
       "\n",
       "         [[1.2460263 ],\n",
       "          [1.2460263 ],\n",
       "          [1.2816269 ],\n",
       "          ...,\n",
       "          [8.650982  ],\n",
       "          [9.04259   ],\n",
       "          [9.078191  ]],\n",
       "\n",
       "         [[1.2460263 ],\n",
       "          [1.2460263 ],\n",
       "          [1.2460263 ],\n",
       "          ...,\n",
       "          [9.0069895 ],\n",
       "          [0.03560075],\n",
       "          [0.03560075]],\n",
       "\n",
       "         ...,\n",
       "\n",
       "         [[0.89001876],\n",
       "          [0.89001876],\n",
       "          [0.89001876],\n",
       "          ...,\n",
       "          [9.04259   ],\n",
       "          [9.04259   ],\n",
       "          [9.04259   ]],\n",
       "\n",
       "         [[0.89001876],\n",
       "          [0.89001876],\n",
       "          [0.89001876],\n",
       "          ...,\n",
       "          [9.0069895 ],\n",
       "          [9.0069895 ],\n",
       "          [9.0069895 ]],\n",
       "\n",
       "         [[0.89001876],\n",
       "          [0.89001876],\n",
       "          [0.89001876],\n",
       "          ...,\n",
       "          [9.0069895 ],\n",
       "          [9.0069895 ],\n",
       "          [9.0069895 ]]],\n",
       "\n",
       "\n",
       "        [[[1.2460263 ],\n",
       "          [1.2460263 ],\n",
       "          [1.2816269 ],\n",
       "          ...,\n",
       "          [8.472979  ],\n",
       "          [9.078191  ],\n",
       "          [9.0069895 ]],\n",
       "\n",
       "         [[1.2460263 ],\n",
       "          [1.2460263 ],\n",
       "          [1.2816269 ],\n",
       "          ...,\n",
       "          [8.579781  ],\n",
       "          [9.0069895 ],\n",
       "          [0.0712015 ]],\n",
       "\n",
       "         [[1.2460263 ],\n",
       "          [1.2460263 ],\n",
       "          [1.2460263 ],\n",
       "          ...,\n",
       "          [9.04259   ],\n",
       "          [0.0712015 ],\n",
       "          [0.0712015 ]],\n",
       "\n",
       "         ...,\n",
       "\n",
       "         [[0.89001876],\n",
       "          [0.89001876],\n",
       "          [0.89001876],\n",
       "          ...,\n",
       "          [9.04259   ],\n",
       "          [9.078191  ],\n",
       "          [9.078191  ]],\n",
       "\n",
       "         [[0.89001876],\n",
       "          [0.89001876],\n",
       "          [0.89001876],\n",
       "          ...,\n",
       "          [9.04259   ],\n",
       "          [9.04259   ],\n",
       "          [9.04259   ]],\n",
       "\n",
       "         [[0.89001876],\n",
       "          [0.89001876],\n",
       "          [0.89001876],\n",
       "          ...,\n",
       "          [9.04259   ],\n",
       "          [9.04259   ],\n",
       "          [9.04259   ]]],\n",
       "\n",
       "\n",
       "        ...,\n",
       "\n",
       "\n",
       "        [[[1.2816269 ],\n",
       "          [1.2816269 ],\n",
       "          [1.2816269 ],\n",
       "          ...,\n",
       "          [0.14240299],\n",
       "          [0.14240299],\n",
       "          [0.14240299]],\n",
       "\n",
       "         [[1.2460263 ],\n",
       "          [1.2460263 ],\n",
       "          [1.2460263 ],\n",
       "          ...,\n",
       "          [0.14240299],\n",
       "          [0.14240299],\n",
       "          [0.14240299]],\n",
       "\n",
       "         [[1.2460263 ],\n",
       "          [1.2460263 ],\n",
       "          [1.2460263 ],\n",
       "          ...,\n",
       "          [0.14240299],\n",
       "          [0.14240299],\n",
       "          [0.14240299]],\n",
       "\n",
       "         ...,\n",
       "\n",
       "         [[0.9256195 ],\n",
       "          [0.9256195 ],\n",
       "          [0.9256195 ],\n",
       "          ...,\n",
       "          [8.722183  ],\n",
       "          [8.828986  ],\n",
       "          [8.971389  ]],\n",
       "\n",
       "         [[0.9256195 ],\n",
       "          [0.9256195 ],\n",
       "          [0.9256195 ],\n",
       "          ...,\n",
       "          [8.686583  ],\n",
       "          [8.722183  ],\n",
       "          [8.7933855 ]],\n",
       "\n",
       "         [[0.9256195 ],\n",
       "          [0.9256195 ],\n",
       "          [0.89001876],\n",
       "          ...,\n",
       "          [8.9001875 ],\n",
       "          [8.9001875 ],\n",
       "          [8.7933855 ]]],\n",
       "\n",
       "\n",
       "        [[[1.2460263 ],\n",
       "          [1.2460263 ],\n",
       "          [1.2816269 ],\n",
       "          ...,\n",
       "          [0.24920525],\n",
       "          [0.24920525],\n",
       "          [0.24920525]],\n",
       "\n",
       "         [[1.2104255 ],\n",
       "          [1.2104255 ],\n",
       "          [1.2460263 ],\n",
       "          ...,\n",
       "          [0.24920525],\n",
       "          [0.24920525],\n",
       "          [0.24920525]],\n",
       "\n",
       "         [[1.2460263 ],\n",
       "          [1.2460263 ],\n",
       "          [1.2460263 ],\n",
       "          ...,\n",
       "          [0.10680225],\n",
       "          [0.14240299],\n",
       "          [0.14240299]],\n",
       "\n",
       "         ...,\n",
       "\n",
       "         [[0.89001876],\n",
       "          [0.89001876],\n",
       "          [0.89001876],\n",
       "          ...,\n",
       "          [8.650982  ],\n",
       "          [8.828986  ],\n",
       "          [8.971389  ]],\n",
       "\n",
       "         [[0.89001876],\n",
       "          [0.89001876],\n",
       "          [0.89001876],\n",
       "          ...,\n",
       "          [8.650982  ],\n",
       "          [8.722183  ],\n",
       "          [8.828986  ]],\n",
       "\n",
       "         [[0.89001876],\n",
       "          [0.89001876],\n",
       "          [0.854418  ],\n",
       "          ...,\n",
       "          [8.9001875 ],\n",
       "          [8.9001875 ],\n",
       "          [8.722183  ]]],\n",
       "\n",
       "\n",
       "        [[[1.2460263 ],\n",
       "          [1.2460263 ],\n",
       "          [1.2816269 ],\n",
       "          ...,\n",
       "          [0.24920525],\n",
       "          [0.24920525],\n",
       "          [0.24920525]],\n",
       "\n",
       "         [[1.2104255 ],\n",
       "          [1.2104255 ],\n",
       "          [1.2460263 ],\n",
       "          ...,\n",
       "          [0.24920525],\n",
       "          [0.24920525],\n",
       "          [0.24920525]],\n",
       "\n",
       "         [[1.2460263 ],\n",
       "          [1.2460263 ],\n",
       "          [1.2460263 ],\n",
       "          ...,\n",
       "          [0.10680225],\n",
       "          [0.14240299],\n",
       "          [0.14240299]],\n",
       "\n",
       "         ...,\n",
       "\n",
       "         [[0.89001876],\n",
       "          [0.89001876],\n",
       "          [0.89001876],\n",
       "          ...,\n",
       "          [8.650982  ],\n",
       "          [8.828986  ],\n",
       "          [8.971389  ]],\n",
       "\n",
       "         [[0.89001876],\n",
       "          [0.89001876],\n",
       "          [0.89001876],\n",
       "          ...,\n",
       "          [8.650982  ],\n",
       "          [8.722183  ],\n",
       "          [8.828986  ]],\n",
       "\n",
       "         [[0.89001876],\n",
       "          [0.89001876],\n",
       "          [0.854418  ],\n",
       "          ...,\n",
       "          [8.9001875 ],\n",
       "          [8.9001875 ],\n",
       "          [8.722183  ]]]],\n",
       "\n",
       "\n",
       "\n",
       "       [[[[1.419351  ],\n",
       "          [1.419351  ],\n",
       "          [1.3819996 ],\n",
       "          ...,\n",
       "          [9.113728  ],\n",
       "          [0.03735134],\n",
       "          [0.03735134]],\n",
       "\n",
       "         [[1.419351  ],\n",
       "          [1.419351  ],\n",
       "          [1.3819996 ],\n",
       "          ...,\n",
       "          [9.151078  ],\n",
       "          [0.03735134],\n",
       "          [0.        ]],\n",
       "\n",
       "         [[1.307297  ],\n",
       "          [1.307297  ],\n",
       "          [1.307297  ],\n",
       "          ...,\n",
       "          [0.07470268],\n",
       "          [0.07470268],\n",
       "          [0.07470268]],\n",
       "\n",
       "         ...,\n",
       "\n",
       "         [[0.93378353],\n",
       "          [0.93378353],\n",
       "          [0.89643216],\n",
       "          ...,\n",
       "          [9.375187  ],\n",
       "          [9.375187  ],\n",
       "          [9.375187  ]],\n",
       "\n",
       "         [[0.93378353],\n",
       "          [0.93378353],\n",
       "          [0.89643216],\n",
       "          ...,\n",
       "          [9.375187  ],\n",
       "          [9.375187  ],\n",
       "          [9.375187  ]],\n",
       "\n",
       "         [[0.93378353],\n",
       "          [0.93378353],\n",
       "          [0.89643216],\n",
       "          ...,\n",
       "          [9.375187  ],\n",
       "          [9.375187  ],\n",
       "          [9.375187  ]]],\n",
       "\n",
       "\n",
       "        [[[1.3446482 ],\n",
       "          [1.3446482 ],\n",
       "          [1.307297  ],\n",
       "          ...,\n",
       "          [9.18843   ],\n",
       "          [0.07470268],\n",
       "          [0.        ]],\n",
       "\n",
       "         [[1.3446482 ],\n",
       "          [1.3446482 ],\n",
       "          [1.307297  ],\n",
       "          ...,\n",
       "          [9.18843   ],\n",
       "          [0.03735134],\n",
       "          [0.07470268]],\n",
       "\n",
       "         [[1.307297  ],\n",
       "          [1.307297  ],\n",
       "          [1.307297  ],\n",
       "          ...,\n",
       "          [0.07470268],\n",
       "          [0.07470268],\n",
       "          [0.07470268]],\n",
       "\n",
       "         ...,\n",
       "\n",
       "         [[0.97113484],\n",
       "          [0.93378353],\n",
       "          [0.93378353],\n",
       "          ...,\n",
       "          [9.300484  ],\n",
       "          [9.300484  ],\n",
       "          [9.300484  ]],\n",
       "\n",
       "         [[0.93378353],\n",
       "          [0.89643216],\n",
       "          [0.89643216],\n",
       "          ...,\n",
       "          [9.337835  ],\n",
       "          [9.337835  ],\n",
       "          [9.337835  ]],\n",
       "\n",
       "         [[0.93378353],\n",
       "          [0.89643216],\n",
       "          [0.89643216],\n",
       "          ...,\n",
       "          [9.337835  ],\n",
       "          [9.337835  ],\n",
       "          [9.337835  ]]],\n",
       "\n",
       "\n",
       "        [[[1.307297  ],\n",
       "          [1.307297  ],\n",
       "          [1.3446482 ],\n",
       "          ...,\n",
       "          [9.263133  ],\n",
       "          [0.07470268],\n",
       "          [0.        ]],\n",
       "\n",
       "         [[1.2699456 ],\n",
       "          [1.2699456 ],\n",
       "          [1.3446482 ],\n",
       "          ...,\n",
       "          [9.263133  ],\n",
       "          [0.14940536],\n",
       "          [0.03735134]],\n",
       "\n",
       "         [[1.307297  ],\n",
       "          [1.307297  ],\n",
       "          [1.307297  ],\n",
       "          ...,\n",
       "          [0.03735134],\n",
       "          [0.03735134],\n",
       "          [0.03735134]],\n",
       "\n",
       "         ...,\n",
       "\n",
       "         [[0.97113484],\n",
       "          [0.93378353],\n",
       "          [0.93378353],\n",
       "          ...,\n",
       "          [9.375187  ],\n",
       "          [9.412538  ],\n",
       "          [9.412538  ]],\n",
       "\n",
       "         [[0.93378353],\n",
       "          [0.89643216],\n",
       "          [0.89643216],\n",
       "          ...,\n",
       "          [9.337835  ],\n",
       "          [9.337835  ],\n",
       "          [9.337835  ]],\n",
       "\n",
       "         [[0.93378353],\n",
       "          [0.89643216],\n",
       "          [0.89643216],\n",
       "          ...,\n",
       "          [9.337835  ],\n",
       "          [9.337835  ],\n",
       "          [9.337835  ]]],\n",
       "\n",
       "\n",
       "        ...,\n",
       "\n",
       "\n",
       "        [[[1.3819996 ],\n",
       "          [1.3819996 ],\n",
       "          [1.3819996 ],\n",
       "          ...,\n",
       "          [0.07470268],\n",
       "          [0.14940536],\n",
       "          [0.03735134]],\n",
       "\n",
       "         [[1.307297  ],\n",
       "          [1.307297  ],\n",
       "          [1.307297  ],\n",
       "          ...,\n",
       "          [0.07470268],\n",
       "          [0.        ],\n",
       "          [0.03735134]],\n",
       "\n",
       "         [[1.307297  ],\n",
       "          [1.307297  ],\n",
       "          [1.307297  ],\n",
       "          ...,\n",
       "          [0.07470268],\n",
       "          [0.03735134],\n",
       "          [0.03735134]],\n",
       "\n",
       "         ...,\n",
       "\n",
       "         [[0.97113484],\n",
       "          [0.93378353],\n",
       "          [0.93378353],\n",
       "          ...,\n",
       "          [9.375187  ],\n",
       "          [9.375187  ],\n",
       "          [9.375187  ]],\n",
       "\n",
       "         [[0.93378353],\n",
       "          [0.93378353],\n",
       "          [0.93378353],\n",
       "          ...,\n",
       "          [9.337835  ],\n",
       "          [9.337835  ],\n",
       "          [9.337835  ]],\n",
       "\n",
       "         [[0.93378353],\n",
       "          [0.93378353],\n",
       "          [0.93378353],\n",
       "          ...,\n",
       "          [9.337835  ],\n",
       "          [9.337835  ],\n",
       "          [9.337835  ]]],\n",
       "\n",
       "\n",
       "        [[[1.3446482 ],\n",
       "          [1.3446482 ],\n",
       "          [1.3446482 ],\n",
       "          ...,\n",
       "          [0.03735134],\n",
       "          [0.11205402],\n",
       "          [0.11205402]],\n",
       "\n",
       "         [[1.3446482 ],\n",
       "          [1.3446482 ],\n",
       "          [1.3446482 ],\n",
       "          ...,\n",
       "          [0.03735134],\n",
       "          [0.11205402],\n",
       "          [0.03735134]],\n",
       "\n",
       "         [[1.307297  ],\n",
       "          [1.307297  ],\n",
       "          [1.307297  ],\n",
       "          ...,\n",
       "          [0.03735134],\n",
       "          [0.07470268],\n",
       "          [0.07470268]],\n",
       "\n",
       "         ...,\n",
       "\n",
       "         [[0.93378353],\n",
       "          [0.89643216],\n",
       "          [0.89643216],\n",
       "          ...,\n",
       "          [9.375187  ],\n",
       "          [9.375187  ],\n",
       "          [9.375187  ]],\n",
       "\n",
       "         [[0.89643216],\n",
       "          [0.89643216],\n",
       "          [0.89643216],\n",
       "          ...,\n",
       "          [9.375187  ],\n",
       "          [9.337835  ],\n",
       "          [9.337835  ]],\n",
       "\n",
       "         [[0.89643216],\n",
       "          [0.89643216],\n",
       "          [0.89643216],\n",
       "          ...,\n",
       "          [9.375187  ],\n",
       "          [9.337835  ],\n",
       "          [9.337835  ]]],\n",
       "\n",
       "\n",
       "        [[[1.419351  ],\n",
       "          [1.419351  ],\n",
       "          [1.419351  ],\n",
       "          ...,\n",
       "          [0.07470268],\n",
       "          [0.03735134],\n",
       "          [0.07470268]],\n",
       "\n",
       "         [[1.3446482 ],\n",
       "          [1.3446482 ],\n",
       "          [1.3446482 ],\n",
       "          ...,\n",
       "          [0.11205402],\n",
       "          [0.1867567 ],\n",
       "          [0.07470268]],\n",
       "\n",
       "         [[1.307297  ],\n",
       "          [1.307297  ],\n",
       "          [1.3446482 ],\n",
       "          ...,\n",
       "          [0.07470268],\n",
       "          [0.11205402],\n",
       "          [0.11205402]],\n",
       "\n",
       "         ...,\n",
       "\n",
       "         [[0.97113484],\n",
       "          [0.97113484],\n",
       "          [0.93378353],\n",
       "          ...,\n",
       "          [9.449889  ],\n",
       "          [9.449889  ],\n",
       "          [9.449889  ]],\n",
       "\n",
       "         [[0.97113484],\n",
       "          [0.93378353],\n",
       "          [0.93378353],\n",
       "          ...,\n",
       "          [9.449889  ],\n",
       "          [9.412538  ],\n",
       "          [9.412538  ]],\n",
       "\n",
       "         [[0.93378353],\n",
       "          [0.93378353],\n",
       "          [0.93378353],\n",
       "          ...,\n",
       "          [9.449889  ],\n",
       "          [9.412538  ],\n",
       "          [9.412538  ]]]]], dtype=float32)"
      ]
     },
     "execution_count": 27,
     "metadata": {},
     "output_type": "execute_result"
    }
   ],
   "source": [
    "val = sample.next(); val[0]"
   ]
  },
  {
   "cell_type": "code",
   "execution_count": 57,
   "id": "acf5eb4f-a0da-4a9a-bf24-af13e9cc2fbe",
   "metadata": {
    "tags": []
   },
   "outputs": [
    {
     "name": "stderr",
     "output_type": "stream",
     "text": [
      "Lossy conversion from float32 to uint8. Range [0.0, 9.078190803527832]. Convert image to uint8 prior to saving to suppress this warning.\n",
      "Lossy conversion from float32 to uint8. Range [0.0, 9.078190803527832]. Convert image to uint8 prior to saving to suppress this warning.\n",
      "Lossy conversion from float32 to uint8. Range [0.0, 9.078190803527832]. Convert image to uint8 prior to saving to suppress this warning.\n",
      "Lossy conversion from float32 to uint8. Range [0.0, 9.078190803527832]. Convert image to uint8 prior to saving to suppress this warning.\n",
      "Lossy conversion from float32 to uint8. Range [0.0, 9.078190803527832]. Convert image to uint8 prior to saving to suppress this warning.\n",
      "Lossy conversion from float32 to uint8. Range [0.0, 9.078190803527832]. Convert image to uint8 prior to saving to suppress this warning.\n",
      "Lossy conversion from float32 to uint8. Range [0.0, 9.078190803527832]. Convert image to uint8 prior to saving to suppress this warning.\n",
      "Lossy conversion from float32 to uint8. Range [0.0, 9.078190803527832]. Convert image to uint8 prior to saving to suppress this warning.\n",
      "Lossy conversion from float32 to uint8. Range [0.0, 9.078190803527832]. Convert image to uint8 prior to saving to suppress this warning.\n",
      "Lossy conversion from float32 to uint8. Range [0.0, 9.078190803527832]. Convert image to uint8 prior to saving to suppress this warning.\n",
      "Lossy conversion from float32 to uint8. Range [0.0, 9.078190803527832]. Convert image to uint8 prior to saving to suppress this warning.\n",
      "Lossy conversion from float32 to uint8. Range [0.0, 9.078190803527832]. Convert image to uint8 prior to saving to suppress this warning.\n",
      "Lossy conversion from float32 to uint8. Range [0.0, 9.078190803527832]. Convert image to uint8 prior to saving to suppress this warning.\n",
      "Lossy conversion from float32 to uint8. Range [0.0, 9.078190803527832]. Convert image to uint8 prior to saving to suppress this warning.\n",
      "Lossy conversion from float32 to uint8. Range [0.0, 9.078190803527832]. Convert image to uint8 prior to saving to suppress this warning.\n",
      "Lossy conversion from float32 to uint8. Range [0.0, 9.078190803527832]. Convert image to uint8 prior to saving to suppress this warning.\n",
      "Lossy conversion from float32 to uint8. Range [0.0, 9.078190803527832]. Convert image to uint8 prior to saving to suppress this warning.\n",
      "Lossy conversion from float32 to uint8. Range [0.0, 9.078190803527832]. Convert image to uint8 prior to saving to suppress this warning.\n",
      "Lossy conversion from float32 to uint8. Range [0.0, 9.078190803527832]. Convert image to uint8 prior to saving to suppress this warning.\n",
      "Lossy conversion from float32 to uint8. Range [0.0, 9.078190803527832]. Convert image to uint8 prior to saving to suppress this warning.\n",
      "Lossy conversion from float32 to uint8. Range [0.0, 9.078190803527832]. Convert image to uint8 prior to saving to suppress this warning.\n",
      "Lossy conversion from float32 to uint8. Range [0.0, 9.078190803527832]. Convert image to uint8 prior to saving to suppress this warning.\n",
      "Lossy conversion from float32 to uint8. Range [0.0, 9.078190803527832]. Convert image to uint8 prior to saving to suppress this warning.\n",
      "Lossy conversion from float32 to uint8. Range [0.0, 9.078190803527832]. Convert image to uint8 prior to saving to suppress this warning.\n",
      "Lossy conversion from float32 to uint8. Range [0.0, 9.078190803527832]. Convert image to uint8 prior to saving to suppress this warning.\n",
      "Lossy conversion from float32 to uint8. Range [0.0, 9.078190803527832]. Convert image to uint8 prior to saving to suppress this warning.\n",
      "Lossy conversion from float32 to uint8. Range [0.0, 9.078190803527832]. Convert image to uint8 prior to saving to suppress this warning.\n",
      "Lossy conversion from float32 to uint8. Range [0.0, 9.078190803527832]. Convert image to uint8 prior to saving to suppress this warning.\n",
      "Lossy conversion from float32 to uint8. Range [0.0, 9.078190803527832]. Convert image to uint8 prior to saving to suppress this warning.\n",
      "Lossy conversion from float32 to uint8. Range [0.0, 9.078190803527832]. Convert image to uint8 prior to saving to suppress this warning.\n",
      "Lossy conversion from float32 to uint8. Range [0.0, 9.078190803527832]. Convert image to uint8 prior to saving to suppress this warning.\n",
      "Lossy conversion from float32 to uint8. Range [0.0, 9.078190803527832]. Convert image to uint8 prior to saving to suppress this warning.\n",
      "Lossy conversion from float32 to uint8. Range [0.0, 9.078190803527832]. Convert image to uint8 prior to saving to suppress this warning.\n",
      "Lossy conversion from float32 to uint8. Range [0.0, 9.078190803527832]. Convert image to uint8 prior to saving to suppress this warning.\n",
      "Lossy conversion from float32 to uint8. Range [0.0, 9.078190803527832]. Convert image to uint8 prior to saving to suppress this warning.\n",
      "Lossy conversion from float32 to uint8. Range [0.0, 9.078190803527832]. Convert image to uint8 prior to saving to suppress this warning.\n",
      "Lossy conversion from float32 to uint8. Range [0.0, 9.078190803527832]. Convert image to uint8 prior to saving to suppress this warning.\n",
      "Lossy conversion from float32 to uint8. Range [0.0, 9.078190803527832]. Convert image to uint8 prior to saving to suppress this warning.\n",
      "Lossy conversion from float32 to uint8. Range [0.0, 9.078190803527832]. Convert image to uint8 prior to saving to suppress this warning.\n",
      "Lossy conversion from float32 to uint8. Range [0.0, 9.078190803527832]. Convert image to uint8 prior to saving to suppress this warning.\n",
      "Lossy conversion from float32 to uint8. Range [0.0, 9.078190803527832]. Convert image to uint8 prior to saving to suppress this warning.\n",
      "Lossy conversion from float32 to uint8. Range [0.0, 9.078190803527832]. Convert image to uint8 prior to saving to suppress this warning.\n",
      "Lossy conversion from float32 to uint8. Range [0.0, 9.078190803527832]. Convert image to uint8 prior to saving to suppress this warning.\n",
      "Lossy conversion from float32 to uint8. Range [0.0, 9.078190803527832]. Convert image to uint8 prior to saving to suppress this warning.\n",
      "Lossy conversion from float32 to uint8. Range [0.0, 9.078190803527832]. Convert image to uint8 prior to saving to suppress this warning.\n",
      "Lossy conversion from float32 to uint8. Range [0.0, 9.078190803527832]. Convert image to uint8 prior to saving to suppress this warning.\n",
      "Lossy conversion from float32 to uint8. Range [0.0, 9.078190803527832]. Convert image to uint8 prior to saving to suppress this warning.\n",
      "Lossy conversion from float32 to uint8. Range [0.0, 9.078190803527832]. Convert image to uint8 prior to saving to suppress this warning.\n",
      "Lossy conversion from float32 to uint8. Range [0.0, 9.078190803527832]. Convert image to uint8 prior to saving to suppress this warning.\n",
      "Lossy conversion from float32 to uint8. Range [0.0, 9.078190803527832]. Convert image to uint8 prior to saving to suppress this warning.\n",
      "Lossy conversion from float32 to uint8. Range [0.0, 9.078190803527832]. Convert image to uint8 prior to saving to suppress this warning.\n",
      "Lossy conversion from float32 to uint8. Range [0.0, 9.078190803527832]. Convert image to uint8 prior to saving to suppress this warning.\n",
      "Lossy conversion from float32 to uint8. Range [0.0, 9.078190803527832]. Convert image to uint8 prior to saving to suppress this warning.\n",
      "Lossy conversion from float32 to uint8. Range [0.0, 9.078190803527832]. Convert image to uint8 prior to saving to suppress this warning.\n",
      "Lossy conversion from float32 to uint8. Range [0.0, 9.078190803527832]. Convert image to uint8 prior to saving to suppress this warning.\n",
      "Lossy conversion from float32 to uint8. Range [0.0, 9.078190803527832]. Convert image to uint8 prior to saving to suppress this warning.\n",
      "Lossy conversion from float32 to uint8. Range [0.0, 9.078190803527832]. Convert image to uint8 prior to saving to suppress this warning.\n",
      "Lossy conversion from float32 to uint8. Range [0.0, 9.078190803527832]. Convert image to uint8 prior to saving to suppress this warning.\n",
      "Lossy conversion from float32 to uint8. Range [0.0, 9.078190803527832]. Convert image to uint8 prior to saving to suppress this warning.\n",
      "Lossy conversion from float32 to uint8. Range [0.0, 9.078190803527832]. Convert image to uint8 prior to saving to suppress this warning.\n",
      "Lossy conversion from float32 to uint8. Range [0.0, 9.078190803527832]. Convert image to uint8 prior to saving to suppress this warning.\n",
      "Lossy conversion from float32 to uint8. Range [0.0, 9.078190803527832]. Convert image to uint8 prior to saving to suppress this warning.\n",
      "Lossy conversion from float32 to uint8. Range [0.0, 9.078190803527832]. Convert image to uint8 prior to saving to suppress this warning.\n",
      "Lossy conversion from float32 to uint8. Range [0.0, 9.078190803527832]. Convert image to uint8 prior to saving to suppress this warning.\n",
      "Lossy conversion from float32 to uint8. Range [0.0, 9.078190803527832]. Convert image to uint8 prior to saving to suppress this warning.\n",
      "Lossy conversion from float32 to uint8. Range [0.0, 9.078190803527832]. Convert image to uint8 prior to saving to suppress this warning.\n",
      "Lossy conversion from float32 to uint8. Range [0.0, 9.078190803527832]. Convert image to uint8 prior to saving to suppress this warning.\n",
      "Lossy conversion from float32 to uint8. Range [0.0, 9.078190803527832]. Convert image to uint8 prior to saving to suppress this warning.\n",
      "Lossy conversion from float32 to uint8. Range [0.0, 9.078190803527832]. Convert image to uint8 prior to saving to suppress this warning.\n",
      "Lossy conversion from float32 to uint8. Range [0.0, 9.078190803527832]. Convert image to uint8 prior to saving to suppress this warning.\n",
      "Lossy conversion from float32 to uint8. Range [0.0, 9.078190803527832]. Convert image to uint8 prior to saving to suppress this warning.\n",
      "Lossy conversion from float32 to uint8. Range [0.0, 9.078190803527832]. Convert image to uint8 prior to saving to suppress this warning.\n",
      "Lossy conversion from float32 to uint8. Range [0.0, 9.078190803527832]. Convert image to uint8 prior to saving to suppress this warning.\n",
      "Lossy conversion from float32 to uint8. Range [0.0, 9.078190803527832]. Convert image to uint8 prior to saving to suppress this warning.\n",
      "Lossy conversion from float32 to uint8. Range [0.0, 9.078190803527832]. Convert image to uint8 prior to saving to suppress this warning.\n"
     ]
    }
   ],
   "source": [
    "imageio.mimsave('./animation.gif', val[0][0], fps=10)"
   ]
  },
  {
   "cell_type": "code",
   "execution_count": 29,
   "id": "c33a87a2-d5e0-4ec9-b174-73ebf41bf03a",
   "metadata": {
    "tags": []
   },
   "outputs": [
    {
     "data": {
      "text/plain": [
       "<matplotlib.image.AxesImage at 0x223819bd640>"
      ]
     },
     "execution_count": 29,
     "metadata": {},
     "output_type": "execute_result"
    },
    {
     "data": {
      "image/png": "[encoded data removed]",
      "text/plain": [
       "<Figure size 640x480 with 1 Axes>"
      ]
     },
     "metadata": {},
     "output_type": "display_data"
    }
   ],
   "source": [
    "# 0:videos, 0: 1st video out of the batch,  0: return the first frame in the video \n",
    "plt.imshow(val[0][0][35])"
   ]
  },
  {
   "cell_type": "code",
   "execution_count": 30,
   "id": "84593332-133c-4205-b7a6-8e235d5e2b3b",
   "metadata": {
    "tags": []
   },
   "outputs": [
    {
     "data": {
      "text/plain": [
       "<tf.Tensor: shape=(), dtype=string, numpy=b'set red in h zero now'>"
      ]
     },
     "execution_count": 30,
     "metadata": {},
     "output_type": "execute_result"
    }
   ],
   "source": [
    "tf.strings.reduce_join([num_to_char(word) for word in val[1][0]])"
   ]
  },
  {
   "cell_type": "markdown",
   "id": "0f47733c-83bc-465c-b118-b198b492ad37",
   "metadata": {
    "tags": []
   },
   "source": [
    "# 3. Design the Deep Neural Network"
   ]
  },
  {
   "cell_type": "code",
   "execution_count": 31,
   "id": "d8e9a497-191b-4842-afbd-26f5e13c43ba",
   "metadata": {
    "tags": []
   },
   "outputs": [],
   "source": [
    "from tensorflow.keras.models import Sequential \n",
    "from tensorflow.keras.layers import Conv3D, LSTM, Dense, Dropout, Bidirectional, MaxPool3D, Activation, Reshape, SpatialDropout3D, BatchNormalization, TimeDistributed, Flatten\n",
    "from tensorflow.keras.optimizers import Adam\n",
    "from tensorflow.keras.callbacks import ModelCheckpoint, LearningRateScheduler"
   ]
  },
  {
   "cell_type": "code",
   "execution_count": 32,
   "id": "3f753ed2-70b9-4236-8c1c-08ca065dc8bf",
   "metadata": {},
   "outputs": [
    {
     "data": {
      "text/plain": [
       "(75, 46, 140, 1)"
      ]
     },
     "execution_count": 32,
     "metadata": {},
     "output_type": "execute_result"
    }
   ],
   "source": [
    "data.as_numpy_iterator().next()[0][0].shape"
   ]
  },
  {
   "cell_type": "code",
   "execution_count": 33,
   "id": "f9171056-a352-491a-9ed9-92b28ced268e",
   "metadata": {
    "tags": []
   },
   "outputs": [],
   "source": [
    "model = Sequential()\n",
    "model.add(Conv3D(128, 3, input_shape=(75,46,140,1), padding='same'))\n",
    "model.add(Activation('relu'))\n",
    "model.add(MaxPool3D((1,2,2)))\n",
    "\n",
    "model.add(Conv3D(256, 3, padding='same'))\n",
    "model.add(Activation('relu'))\n",
    "model.add(MaxPool3D((1,2,2)))\n",
    "\n",
    "model.add(Conv3D(75, 3, padding='same'))\n",
    "model.add(Activation('relu'))\n",
    "model.add(MaxPool3D((1,2,2)))\n",
    "\n",
    "model.add(TimeDistributed(Flatten()))\n",
    "\n",
    "model.add(Bidirectional(LSTM(128, kernel_initializer='Orthogonal', return_sequences=True)))\n",
    "model.add(Dropout(.5))\n",
    "\n",
    "model.add(Bidirectional(LSTM(128, kernel_initializer='Orthogonal', return_sequences=True)))\n",
    "model.add(Dropout(.5))\n",
    "\n",
    "model.add(Dense(char_to_num.vocabulary_size()+1, kernel_initializer='he_normal', activation='softmax'))"
   ]
  },
  {
   "cell_type": "code",
   "execution_count": 34,
   "id": "78851825-2bcd-42a9-b7f2-28bb5a6bf43a",
   "metadata": {
    "collapsed": true,
    "jupyter": {
     "outputs_hidden": true
    },
    "tags": []
   },
   "outputs": [
    {
     "name": "stdout",
     "output_type": "stream",
     "text": [
      "Model: \"sequential\"\n",
      "_________________________________________________________________\n",
      " Layer (type)                Output Shape              Param #   \n",
      "=================================================================\n",
      " conv3d (Conv3D)             (None, 75, 46, 140, 128)  3584      \n",
      "                                                                 \n",
      " activation (Activation)     (None, 75, 46, 140, 128)  0         \n",
      "                                                                 \n",
      " max_pooling3d (MaxPooling3D  (None, 75, 23, 70, 128)  0         \n",
      " )                                                               \n",
      "                                                                 \n",
      " conv3d_1 (Conv3D)           (None, 75, 23, 70, 256)   884992    \n",
      "                                                                 \n",
      " activation_1 (Activation)   (None, 75, 23, 70, 256)   0         \n",
      "                                                                 \n",
      " max_pooling3d_1 (MaxPooling  (None, 75, 11, 35, 256)  0         \n",
      " 3D)                                                             \n",
      "                                                                 \n",
      " conv3d_2 (Conv3D)           (None, 75, 11, 35, 75)    518475    \n",
      "                                                                 \n",
      " activation_2 (Activation)   (None, 75, 11, 35, 75)    0         \n",
      "                                                                 \n",
      " max_pooling3d_2 (MaxPooling  (None, 75, 5, 17, 75)    0         \n",
      " 3D)                                                             \n",
      "                                                                 \n",
      " time_distributed (TimeDistr  (None, 75, 6375)         0         \n",
      " ibuted)                                                         \n",
      "                                                                 \n",
      " bidirectional (Bidirectiona  (None, 75, 256)          6660096   \n",
      " l)                                                              \n",
      "                                                                 \n",
      " dropout (Dropout)           (None, 75, 256)           0         \n",
      "                                                                 \n",
      " bidirectional_1 (Bidirectio  (None, 75, 256)          394240    \n",
      " nal)                                                            \n",
      "                                                                 \n",
      " dropout_1 (Dropout)         (None, 75, 256)           0         \n",
      "                                                                 \n",
      " dense (Dense)               (None, 75, 41)            10537     \n",
      "                                                                 \n",
      "=================================================================\n",
      "Total params: 8,471,924\n",
      "Trainable params: 8,471,924\n",
      "Non-trainable params: 0\n",
      "_________________________________________________________________\n"
     ]
    }
   ],
   "source": [
    "model.summary()"
   ]
  },
  {
   "cell_type": "code",
   "execution_count": 35,
   "id": "f4b4798c-a65a-4c47-9e2a-3b09dc98d320",
   "metadata": {},
   "outputs": [
    {
     "data": {
      "text/plain": [
       "6375"
      ]
     },
     "execution_count": 35,
     "metadata": {},
     "output_type": "execute_result"
    }
   ],
   "source": [
    "5*17*75"
   ]
  },
  {
   "cell_type": "code",
   "execution_count": 36,
   "id": "e5c2eae0-c359-41a4-97a0-75c44dccb7d1",
   "metadata": {
    "tags": []
   },
   "outputs": [
    {
     "name": "stdout",
     "output_type": "stream",
     "text": [
      "1/1 [==============================] - 4s 4s/step\n"
     ]
    }
   ],
   "source": [
    "yhat = model.predict(val[0])"
   ]
  },
  {
   "cell_type": "code",
   "execution_count": 37,
   "id": "ffdc7319-0d69-4f7e-a6d4-ce72deb81c0b",
   "metadata": {},
   "outputs": [
    {
     "data": {
      "text/plain": [
       "<tf.Tensor: shape=(), dtype=string, numpy=b\"nnnqqnnnnnnnnnnnnnnnnnnnnnnnnnnnnnnnnnnnnnnnnnnnnnnnnnnnnnnnnnnnnnnnn'nnrrr\">"
      ]
     },
     "execution_count": 37,
     "metadata": {},
     "output_type": "execute_result"
    }
   ],
   "source": [
    "tf.strings.reduce_join([num_to_char(x) for x in tf.argmax(yhat[0],axis=1)])"
   ]
  },
  {
   "cell_type": "code",
   "execution_count": 38,
   "id": "6ed47531-8317-4255-9a12-b757642258e6",
   "metadata": {
    "tags": []
   },
   "outputs": [
    {
     "data": {
      "text/plain": [
       "<tf.Tensor: shape=(), dtype=string, numpy=b\"nnnqqnnnnnnnnnnnnnnnnnnnnnnnnnnnnnnnnnnnnnnnnnnnnnnnnnnnnnnnnnnnnnnnn'nnrrr\">"
      ]
     },
     "execution_count": 38,
     "metadata": {},
     "output_type": "execute_result"
    }
   ],
   "source": [
    "tf.strings.reduce_join([num_to_char(tf.argmax(x)) for x in yhat[0]])"
   ]
  },
  {
   "cell_type": "code",
   "execution_count": 39,
   "id": "7c37b9b9-5298-4038-9c33-5031d1b457f0",
   "metadata": {
    "tags": []
   },
   "outputs": [
    {
     "data": {
      "text/plain": [
       "(None, 75, 46, 140, 1)"
      ]
     },
     "execution_count": 39,
     "metadata": {},
     "output_type": "execute_result"
    }
   ],
   "source": [
    "model.input_shape"
   ]
  },
  {
   "cell_type": "code",
   "execution_count": 40,
   "id": "98b316a4-5322-4782-8e36-4b3c1a696d85",
   "metadata": {
    "tags": []
   },
   "outputs": [
    {
     "data": {
      "text/plain": [
       "(None, 75, 41)"
      ]
     },
     "execution_count": 40,
     "metadata": {},
     "output_type": "execute_result"
    }
   ],
   "source": [
    "model.output_shape"
   ]
  },
  {
   "cell_type": "markdown",
   "id": "2ec02176-5c26-46c3-aff7-8352e6563c7d",
   "metadata": {
    "tags": []
   },
   "source": [
    "# 4. Model Training"
   ]
  },
  {
   "cell_type": "code",
   "execution_count": 41,
   "id": "ab015fd0-7fb4-4d5d-9fa2-30a05dbd515a",
   "metadata": {
    "tags": []
   },
   "outputs": [],
   "source": [
    "def scheduler(epoch, lr):\n",
    "    if epoch < 30:\n",
    "        return lr\n",
    "    else:\n",
    "        return lr * tf.math.exp(-0.1)"
   ]
  },
  {
   "cell_type": "code",
   "execution_count": 42,
   "id": "c564d5c9-db54-4e88-b311-9aeab7fb3e69",
   "metadata": {
    "tags": []
   },
   "outputs": [],
   "source": [
    "def CTCLoss(y_true, y_pred):\n",
    "    batch_len = tf.cast(tf.shape(y_true)[0], dtype=\"int64\")\n",
    "    input_length = tf.cast(tf.shape(y_pred)[1], dtype=\"int64\")\n",
    "    label_length = tf.cast(tf.shape(y_true)[1], dtype=\"int64\")\n",
    "\n",
    "    input_length = input_length * tf.ones(shape=(batch_len, 1), dtype=\"int64\")\n",
    "    label_length = label_length * tf.ones(shape=(batch_len, 1), dtype=\"int64\")\n",
    "\n",
    "    loss = tf.keras.backend.ctc_batch_cost(y_true, y_pred, input_length, label_length)\n",
    "    return loss"
   ]
  },
  {
   "cell_type": "code",
   "execution_count": 43,
   "id": "a26dc3fc-a19c-4378-bd8c-e2b597a1d15c",
   "metadata": {
    "tags": []
   },
   "outputs": [],
   "source": [
    "class ProduceExample(tf.keras.callbacks.Callback): \n",
    "    def __init__(self, dataset) -> None: \n",
    "        self.dataset = dataset.as_numpy_iterator()\n",
    "    \n",
    "    def on_epoch_end(self, epoch, logs=None) -> None:\n",
    "        data = self.dataset.next()\n",
    "        yhat = self.model.predict(data[0])\n",
    "        decoded = tf.keras.backend.ctc_decode(yhat, [75,75], greedy=False)[0][0].numpy()\n",
    "        for x in range(len(yhat)):           \n",
    "            print('Original:', tf.strings.reduce_join(num_to_char(data[1][x])).numpy().decode('utf-8'))\n",
    "            print('Prediction:', tf.strings.reduce_join(num_to_char(decoded[x])).numpy().decode('utf-8'))\n",
    "            print('~'*100)"
   ]
  },
  {
   "cell_type": "code",
   "execution_count": 44,
   "id": "04be90d8-2482-46f9-b513-d5f4f8001c7e",
   "metadata": {
    "tags": []
   },
   "outputs": [],
   "source": [
    "model.compile(optimizer=Adam(learning_rate=0.0001), loss=CTCLoss)"
   ]
  },
  {
   "cell_type": "code",
   "execution_count": 45,
   "id": "eab49367-3f1e-4464-ae76-dbd07549d97e",
   "metadata": {
    "tags": []
   },
   "outputs": [],
   "source": [
    "checkpoint_callback = ModelCheckpoint(os.path.join('models','checkpoint'), monitor='loss', save_weights_only=True) "
   ]
  },
  {
   "cell_type": "code",
   "execution_count": 46,
   "id": "e085a632-d464-46ef-8777-959cad4adb2c",
   "metadata": {
    "tags": []
   },
   "outputs": [],
   "source": [
    "schedule_callback = LearningRateScheduler(scheduler)"
   ]
  },
  {
   "cell_type": "code",
   "execution_count": 47,
   "id": "48eca991-90ab-4592-8a79-b50e9ca015b6",
   "metadata": {
    "tags": []
   },
   "outputs": [],
   "source": [
    "example_callback = ProduceExample(test)"
   ]
  },
  {
   "cell_type": "code",
   "execution_count": 49,
   "id": "8ffba483-aa61-4bbe-a15f-a73e1ddf097c",
   "metadata": {
    "tags": []
   },
   "outputs": [
    {
     "name": "stdout",
     "output_type": "stream",
     "text": [
      "Epoch 1/10\n",
      "1/1 [==============================] - 3s 3s/steps - loss: 85.670\n",
      "Original: bin green in n one soon\n",
      "Prediction: le e e e n o\n",
      "~~~~~~~~~~~~~~~~~~~~~~~~~~~~~~~~~~~~~~~~~~~~~~~~~~~~~~~~~~~~~~~~~~~~~~~~~~~~~~~~~~~~~~~~~~~~~~~~~~~~\n",
      "Original: lay green at m one again\n",
      "Prediction: le e e e n o\n",
      "~~~~~~~~~~~~~~~~~~~~~~~~~~~~~~~~~~~~~~~~~~~~~~~~~~~~~~~~~~~~~~~~~~~~~~~~~~~~~~~~~~~~~~~~~~~~~~~~~~~~\n",
      "450/450 [==============================] - 12847s 29s/step - loss: 85.6703 - val_loss: 68.8849 - lr: 1.0000e-04\n",
      "Epoch 2/10\n",
      "1/1 [==============================] - 2s 2s/steps - loss: 71.719\n",
      "Original: lay green at f four now\n",
      "Prediction: la e e e e n\n",
      "~~~~~~~~~~~~~~~~~~~~~~~~~~~~~~~~~~~~~~~~~~~~~~~~~~~~~~~~~~~~~~~~~~~~~~~~~~~~~~~~~~~~~~~~~~~~~~~~~~~~\n",
      "Original: set red in h one soon\n",
      "Prediction: la e e e e o\n",
      "~~~~~~~~~~~~~~~~~~~~~~~~~~~~~~~~~~~~~~~~~~~~~~~~~~~~~~~~~~~~~~~~~~~~~~~~~~~~~~~~~~~~~~~~~~~~~~~~~~~~\n",
      "450/450 [==============================] - 12764s 28s/step - loss: 71.7198 - val_loss: 66.2372 - lr: 1.0000e-04\n",
      "Epoch 3/10\n",
      "284/450 [=================>............] - ETA: 1:29:23 - loss: 68.1459"
     ]
    }
   ],
   "source": [
    "model.fit(train, validation_data=test, epochs=10, callbacks=[checkpoint_callback, schedule_callback, example_callback])"
   ]
  },
  {
   "cell_type": "markdown",
   "id": "fa8ee94b-89f7-4733-8a0c-a86f86ff590a",
   "metadata": {
    "tags": []
   },
   "source": [
    "# 5. Predicting the model"
   ]
  },
  {
   "cell_type": "code",
   "execution_count": 48,
   "id": "247f664d-3c87-4e96-946e-930dad0e1c2c",
   "metadata": {
    "tags": []
   },
   "outputs": [
    {
     "data": {
      "text/plain": [
       "<tensorflow.python.checkpoint.checkpoint.CheckpointLoadStatus at 0x223870df0a0>"
      ]
     },
     "execution_count": 48,
     "metadata": {},
     "output_type": "execute_result"
    }
   ],
   "source": [
    "model.load_weights('models/checkpoint')"
   ]
  },
  {
   "cell_type": "code",
   "execution_count": 49,
   "id": "7f8d689f-b7bb-443c-9b88-e40c1d800828",
   "metadata": {
    "tags": []
   },
   "outputs": [],
   "source": [
    "test_data = test.as_numpy_iterator()"
   ]
  },
  {
   "cell_type": "code",
   "execution_count": 50,
   "id": "38546dc2-bee9-4837-864b-8a884df40ad7",
   "metadata": {
    "tags": []
   },
   "outputs": [],
   "source": [
    "sample = test_data.next()"
   ]
  },
  {
   "cell_type": "code",
   "execution_count": 51,
   "id": "5b1400c5",
   "metadata": {},
   "outputs": [
    {
     "data": {
      "text/plain": [
       "(array([[[[[1.4940101 ],\n",
       "           [1.3819593 ],\n",
       "           [1.3819593 ],\n",
       "           ...,\n",
       "           [0.11205076],\n",
       "           [0.4108528 ],\n",
       "           [0.37350252]],\n",
       " \n",
       "          [[1.3819593 ],\n",
       "           [1.4566599 ],\n",
       "           [1.4193096 ],\n",
       "           ...,\n",
       "           [0.18675126],\n",
       "           [0.44820303],\n",
       "           [0.4108528 ]],\n",
       " \n",
       "          [[1.4193096 ],\n",
       "           [1.4193096 ],\n",
       "           [1.3819593 ],\n",
       "           ...,\n",
       "           [0.26145178],\n",
       "           [0.29880202],\n",
       "           [0.29880202]],\n",
       " \n",
       "          ...,\n",
       " \n",
       "          [[1.0458071 ],\n",
       "           [1.0084568 ],\n",
       "           [0.9711066 ],\n",
       "           ...,\n",
       "           [0.03735025],\n",
       "           [0.03735025],\n",
       "           [0.03735025]],\n",
       " \n",
       "          [[1.0458071 ],\n",
       "           [1.0084568 ],\n",
       "           [0.9711066 ],\n",
       "           ...,\n",
       "           [0.03735025],\n",
       "           [0.03735025],\n",
       "           [0.03735025]],\n",
       " \n",
       "          [[1.0084568 ],\n",
       "           [1.0084568 ],\n",
       "           [0.9711066 ],\n",
       "           ...,\n",
       "           [0.03735025],\n",
       "           [0.03735025],\n",
       "           [0.        ]]],\n",
       " \n",
       " \n",
       "         [[[1.4940101 ],\n",
       "           [1.3819593 ],\n",
       "           [1.3819593 ],\n",
       "           ...,\n",
       "           [0.14940101],\n",
       "           [0.37350252],\n",
       "           [0.3361523 ]],\n",
       " \n",
       "          [[1.4193096 ],\n",
       "           [1.3819593 ],\n",
       "           [1.3819593 ],\n",
       "           ...,\n",
       "           [0.18675126],\n",
       "           [0.37350252],\n",
       "           [0.37350252]],\n",
       " \n",
       "          [[1.4566599 ],\n",
       "           [1.4566599 ],\n",
       "           [1.3819593 ],\n",
       "           ...,\n",
       "           [0.26145178],\n",
       "           [0.29880202],\n",
       "           [0.29880202]],\n",
       " \n",
       "          ...,\n",
       " \n",
       "          [[1.0458071 ],\n",
       "           [1.0084568 ],\n",
       "           [0.9711066 ],\n",
       "           ...,\n",
       "           [0.03735025],\n",
       "           [0.03735025],\n",
       "           [0.03735025]],\n",
       " \n",
       "          [[1.0458071 ],\n",
       "           [1.0084568 ],\n",
       "           [0.9711066 ],\n",
       "           ...,\n",
       "           [0.03735025],\n",
       "           [0.03735025],\n",
       "           [0.        ]],\n",
       " \n",
       "          [[1.0084568 ],\n",
       "           [1.0084568 ],\n",
       "           [0.9711066 ],\n",
       "           ...,\n",
       "           [0.03735025],\n",
       "           [0.        ],\n",
       "           [0.        ]]],\n",
       " \n",
       " \n",
       "         [[[1.4566599 ],\n",
       "           [1.3446091 ],\n",
       "           [1.3446091 ],\n",
       "           ...,\n",
       "           [0.14940101],\n",
       "           [0.3361523 ],\n",
       "           [0.29880202]],\n",
       " \n",
       "          [[1.4566599 ],\n",
       "           [1.3819593 ],\n",
       "           [1.3819593 ],\n",
       "           ...,\n",
       "           [0.18675126],\n",
       "           [0.29880202],\n",
       "           [0.29880202]],\n",
       " \n",
       "          [[1.5313604 ],\n",
       "           [1.5313604 ],\n",
       "           [1.4566599 ],\n",
       "           ...,\n",
       "           [0.26145178],\n",
       "           [0.29880202],\n",
       "           [0.29880202]],\n",
       " \n",
       "          ...,\n",
       " \n",
       "          [[1.0084568 ],\n",
       "           [1.0084568 ],\n",
       "           [0.9711066 ],\n",
       "           ...,\n",
       "           [0.03735025],\n",
       "           [0.03735025],\n",
       "           [0.03735025]],\n",
       " \n",
       "          [[1.0084568 ],\n",
       "           [1.0084568 ],\n",
       "           [0.9711066 ],\n",
       "           ...,\n",
       "           [0.03735025],\n",
       "           [0.03735025],\n",
       "           [0.03735025]],\n",
       " \n",
       "          [[0.9711066 ],\n",
       "           [1.0084568 ],\n",
       "           [0.9711066 ],\n",
       "           ...,\n",
       "           [0.03735025],\n",
       "           [0.03735025],\n",
       "           [0.        ]]],\n",
       " \n",
       " \n",
       "         ...,\n",
       " \n",
       " \n",
       "         [[[1.4940101 ],\n",
       "           [1.3446091 ],\n",
       "           [1.4566599 ],\n",
       "           ...,\n",
       "           [0.26145178],\n",
       "           [0.26145178],\n",
       "           [0.26145178]],\n",
       " \n",
       "          [[1.5313604 ],\n",
       "           [1.3819593 ],\n",
       "           [1.3819593 ],\n",
       "           ...,\n",
       "           [0.18675126],\n",
       "           [0.18675126],\n",
       "           [0.18675126]],\n",
       " \n",
       "          [[1.4566599 ],\n",
       "           [1.4566599 ],\n",
       "           [1.4940101 ],\n",
       "           ...,\n",
       "           [0.29880202],\n",
       "           [0.22410151],\n",
       "           [0.22410151]],\n",
       " \n",
       "          ...,\n",
       " \n",
       "          [[1.0458071 ],\n",
       "           [1.0458071 ],\n",
       "           [1.0458071 ],\n",
       "           ...,\n",
       "           [0.11205076],\n",
       "           [0.11205076],\n",
       "           [0.0747005 ]],\n",
       " \n",
       "          [[1.0458071 ],\n",
       "           [1.0458071 ],\n",
       "           [1.0458071 ],\n",
       "           ...,\n",
       "           [0.11205076],\n",
       "           [0.0747005 ],\n",
       "           [0.0747005 ]],\n",
       " \n",
       "          [[1.0458071 ],\n",
       "           [1.0458071 ],\n",
       "           [1.0084568 ],\n",
       "           ...,\n",
       "           [0.0747005 ],\n",
       "           [0.0747005 ],\n",
       "           [0.03735025]]],\n",
       " \n",
       " \n",
       "         [[[1.5313604 ],\n",
       "           [1.4566599 ],\n",
       "           [1.3819593 ],\n",
       "           ...,\n",
       "           [0.26145178],\n",
       "           [0.22410151],\n",
       "           [0.22410151]],\n",
       " \n",
       "          [[1.4566599 ],\n",
       "           [1.5687106 ],\n",
       "           [1.4566599 ],\n",
       "           ...,\n",
       "           [0.18675126],\n",
       "           [0.14940101],\n",
       "           [0.14940101]],\n",
       " \n",
       "          [[1.4193096 ],\n",
       "           [1.4193096 ],\n",
       "           [1.4193096 ],\n",
       "           ...,\n",
       "           [0.29880202],\n",
       "           [0.26145178],\n",
       "           [0.26145178]],\n",
       " \n",
       "          ...,\n",
       " \n",
       "          [[1.0458071 ],\n",
       "           [1.0458071 ],\n",
       "           [1.0458071 ],\n",
       "           ...,\n",
       "           [0.0747005 ],\n",
       "           [0.0747005 ],\n",
       "           [0.03735025]],\n",
       " \n",
       "          [[1.0458071 ],\n",
       "           [1.0458071 ],\n",
       "           [1.0084568 ],\n",
       "           ...,\n",
       "           [0.0747005 ],\n",
       "           [0.03735025],\n",
       "           [0.03735025]],\n",
       " \n",
       "          [[1.0458071 ],\n",
       "           [1.0084568 ],\n",
       "           [1.0084568 ],\n",
       "           ...,\n",
       "           [0.03735025],\n",
       "           [0.03735025],\n",
       "           [0.        ]]],\n",
       " \n",
       " \n",
       "         [[[1.4940101 ],\n",
       "           [1.4193096 ],\n",
       "           [1.3819593 ],\n",
       "           ...,\n",
       "           [0.26145178],\n",
       "           [0.22410151],\n",
       "           [0.22410151]],\n",
       " \n",
       "          [[1.4193096 ],\n",
       "           [1.5313604 ],\n",
       "           [1.4566599 ],\n",
       "           ...,\n",
       "           [0.18675126],\n",
       "           [0.14940101],\n",
       "           [0.14940101]],\n",
       " \n",
       "          [[1.4193096 ],\n",
       "           [1.4193096 ],\n",
       "           [1.4193096 ],\n",
       "           ...,\n",
       "           [0.29880202],\n",
       "           [0.29880202],\n",
       "           [0.29880202]],\n",
       " \n",
       "          ...,\n",
       " \n",
       "          [[1.0458071 ],\n",
       "           [1.0458071 ],\n",
       "           [1.0084568 ],\n",
       "           ...,\n",
       "           [0.0747005 ],\n",
       "           [0.0747005 ],\n",
       "           [0.03735025]],\n",
       " \n",
       "          [[1.0458071 ],\n",
       "           [1.0084568 ],\n",
       "           [1.0084568 ],\n",
       "           ...,\n",
       "           [0.0747005 ],\n",
       "           [0.03735025],\n",
       "           [0.03735025]],\n",
       " \n",
       "          [[1.0084568 ],\n",
       "           [1.0084568 ],\n",
       "           [1.0084568 ],\n",
       "           ...,\n",
       "           [0.03735025],\n",
       "           [0.03735025],\n",
       "           [0.        ]]]],\n",
       " \n",
       " \n",
       " \n",
       "        [[[[1.5730433 ],\n",
       "           [1.6114101 ],\n",
       "           [1.266108  ],\n",
       "           ...,\n",
       "           [0.30693528],\n",
       "           [0.30693528],\n",
       "           [0.30693528]],\n",
       " \n",
       "          [[1.6114101 ],\n",
       "           [1.4579426 ],\n",
       "           [1.1510073 ],\n",
       "           ...,\n",
       "           [0.30693528],\n",
       "           [0.30693528],\n",
       "           [0.30693528]],\n",
       " \n",
       "          [[1.5730433 ],\n",
       "           [1.5730433 ],\n",
       "           [1.4963095 ],\n",
       "           ...,\n",
       "           [0.30693528],\n",
       "           [0.26856837],\n",
       "           [0.26856837]],\n",
       " \n",
       "          ...,\n",
       " \n",
       "          [[1.0742735 ],\n",
       "           [1.0742735 ],\n",
       "           [1.0742735 ],\n",
       "           ...,\n",
       "           [0.03836691],\n",
       "           [0.        ],\n",
       "           [0.        ]],\n",
       " \n",
       "          [[1.0742735 ],\n",
       "           [1.0742735 ],\n",
       "           [1.0742735 ],\n",
       "           ...,\n",
       "           [0.03836691],\n",
       "           [0.        ],\n",
       "           [0.        ]],\n",
       " \n",
       "          [[1.0742735 ],\n",
       "           [1.0742735 ],\n",
       "           [1.0742735 ],\n",
       "           ...,\n",
       "           [0.03836691],\n",
       "           [0.        ],\n",
       "           [0.        ]]],\n",
       " \n",
       " \n",
       "         [[[1.5346764 ],\n",
       "           [1.5730433 ],\n",
       "           [1.3428419 ],\n",
       "           ...,\n",
       "           [0.30693528],\n",
       "           [0.26856837],\n",
       "           [0.26856837]],\n",
       " \n",
       "          [[1.4963095 ],\n",
       "           [1.4963095 ],\n",
       "           [1.3428419 ],\n",
       "           ...,\n",
       "           [0.30693528],\n",
       "           [0.26856837],\n",
       "           [0.26856837]],\n",
       " \n",
       "          [[1.5346764 ],\n",
       "           [1.5346764 ],\n",
       "           [1.4579426 ],\n",
       "           ...,\n",
       "           [0.30693528],\n",
       "           [0.26856837],\n",
       "           [0.26856837]],\n",
       " \n",
       "          ...,\n",
       " \n",
       "          [[1.0359066 ],\n",
       "           [1.0359066 ],\n",
       "           [1.0359066 ],\n",
       "           ...,\n",
       "           [0.03836691],\n",
       "           [0.        ],\n",
       "           [0.        ]],\n",
       " \n",
       "          [[0.99753964],\n",
       "           [0.99753964],\n",
       "           [0.99753964],\n",
       "           ...,\n",
       "           [0.03836691],\n",
       "           [0.        ],\n",
       "           [0.        ]],\n",
       " \n",
       "          [[0.99753964],\n",
       "           [0.99753964],\n",
       "           [0.99753964],\n",
       "           ...,\n",
       "           [0.03836691],\n",
       "           [0.        ],\n",
       "           [0.        ]]],\n",
       " \n",
       " \n",
       "         [[[1.5730433 ],\n",
       "           [1.649777  ],\n",
       "           [1.4195757 ],\n",
       "           ...,\n",
       "           [0.3453022 ],\n",
       "           [0.30693528],\n",
       "           [0.30693528]],\n",
       " \n",
       "          [[1.4963095 ],\n",
       "           [1.4963095 ],\n",
       "           [1.3428419 ],\n",
       "           ...,\n",
       "           [0.3453022 ],\n",
       "           [0.30693528],\n",
       "           [0.30693528]],\n",
       " \n",
       "          [[1.5730433 ],\n",
       "           [1.5730433 ],\n",
       "           [1.4963095 ],\n",
       "           ...,\n",
       "           [0.26856837],\n",
       "           [0.19183455],\n",
       "           [0.19183455]],\n",
       " \n",
       "          ...,\n",
       " \n",
       "          [[1.0359066 ],\n",
       "           [1.0359066 ],\n",
       "           [1.0359066 ],\n",
       "           ...,\n",
       "           [0.03836691],\n",
       "           [0.03836691],\n",
       "           [0.        ]],\n",
       " \n",
       "          [[0.99753964],\n",
       "           [0.99753964],\n",
       "           [0.99753964],\n",
       "           ...,\n",
       "           [0.03836691],\n",
       "           [0.03836691],\n",
       "           [0.        ]],\n",
       " \n",
       "          [[0.99753964],\n",
       "           [0.99753964],\n",
       "           [0.99753964],\n",
       "           ...,\n",
       "           [0.03836691],\n",
       "           [0.03836691],\n",
       "           [0.        ]]],\n",
       " \n",
       " \n",
       "         ...,\n",
       " \n",
       " \n",
       "         [[[1.4963095 ],\n",
       "           [1.4963095 ],\n",
       "           [1.304475  ],\n",
       "           ...,\n",
       "           [0.30693528],\n",
       "           [0.26856837],\n",
       "           [0.26856837]],\n",
       " \n",
       "          [[1.3812088 ],\n",
       "           [1.5346764 ],\n",
       "           [1.266108  ],\n",
       "           ...,\n",
       "           [0.30693528],\n",
       "           [0.26856837],\n",
       "           [0.26856837]],\n",
       " \n",
       "          [[1.4579426 ],\n",
       "           [1.4579426 ],\n",
       "           [1.3812088 ],\n",
       "           ...,\n",
       "           [0.30693528],\n",
       "           [0.30693528],\n",
       "           [0.3453022 ]],\n",
       " \n",
       "          ...,\n",
       " \n",
       "          [[1.1126404 ],\n",
       "           [1.1126404 ],\n",
       "           [1.1126404 ],\n",
       "           ...,\n",
       "           [0.        ],\n",
       "           [0.        ],\n",
       "           [0.        ]],\n",
       " \n",
       "          [[1.1126404 ],\n",
       "           [1.1126404 ],\n",
       "           [1.1126404 ],\n",
       "           ...,\n",
       "           [0.        ],\n",
       "           [0.        ],\n",
       "           [0.        ]],\n",
       " \n",
       "          [[1.1126404 ],\n",
       "           [1.1126404 ],\n",
       "           [1.0742735 ],\n",
       "           ...,\n",
       "           [0.        ],\n",
       "           [0.        ],\n",
       "           [0.        ]]],\n",
       " \n",
       " \n",
       "         [[[1.4195757 ],\n",
       "           [1.4579426 ],\n",
       "           [1.3428419 ],\n",
       "           ...,\n",
       "           [0.30693528],\n",
       "           [0.26856837],\n",
       "           [0.26856837]],\n",
       " \n",
       "          [[1.304475  ],\n",
       "           [1.3428419 ],\n",
       "           [1.1893742 ],\n",
       "           ...,\n",
       "           [0.30693528],\n",
       "           [0.26856837],\n",
       "           [0.30693528]],\n",
       " \n",
       "          [[1.304475  ],\n",
       "           [1.3428419 ],\n",
       "           [1.304475  ],\n",
       "           ...,\n",
       "           [0.30693528],\n",
       "           [0.3453022 ],\n",
       "           [0.3453022 ]],\n",
       " \n",
       "          ...,\n",
       " \n",
       "          [[1.0742735 ],\n",
       "           [1.0742735 ],\n",
       "           [1.0742735 ],\n",
       "           ...,\n",
       "           [0.03836691],\n",
       "           [0.        ],\n",
       "           [0.        ]],\n",
       " \n",
       "          [[1.0742735 ],\n",
       "           [1.0742735 ],\n",
       "           [1.0742735 ],\n",
       "           ...,\n",
       "           [0.03836691],\n",
       "           [0.        ],\n",
       "           [0.        ]],\n",
       " \n",
       "          [[1.0742735 ],\n",
       "           [1.0742735 ],\n",
       "           [1.0359066 ],\n",
       "           ...,\n",
       "           [0.03836691],\n",
       "           [0.        ],\n",
       "           [0.        ]]],\n",
       " \n",
       " \n",
       "         [[[1.4579426 ],\n",
       "           [1.4579426 ],\n",
       "           [1.266108  ],\n",
       "           ...,\n",
       "           [0.3453022 ],\n",
       "           [0.30693528],\n",
       "           [0.3453022 ]],\n",
       " \n",
       "          [[1.3428419 ],\n",
       "           [1.304475  ],\n",
       "           [1.0359066 ],\n",
       "           ...,\n",
       "           [0.3453022 ],\n",
       "           [0.3453022 ],\n",
       "           [0.3453022 ]],\n",
       " \n",
       "          [[1.3812088 ],\n",
       "           [1.4195757 ],\n",
       "           [1.304475  ],\n",
       "           ...,\n",
       "           [0.30693528],\n",
       "           [0.30693528],\n",
       "           [0.3453022 ]],\n",
       " \n",
       "          ...,\n",
       " \n",
       "          [[1.1126404 ],\n",
       "           [1.0742735 ],\n",
       "           [1.0742735 ],\n",
       "           ...,\n",
       "           [0.        ],\n",
       "           [9.783562  ],\n",
       "           [9.783562  ]],\n",
       " \n",
       "          [[1.1126404 ],\n",
       "           [1.0742735 ],\n",
       "           [1.0742735 ],\n",
       "           ...,\n",
       "           [0.        ],\n",
       "           [9.783562  ],\n",
       "           [9.783562  ]],\n",
       " \n",
       "          [[1.1126404 ],\n",
       "           [1.0742735 ],\n",
       "           [1.0742735 ],\n",
       "           ...,\n",
       "           [0.        ],\n",
       "           [9.783562  ],\n",
       "           [9.783562  ]]]]], dtype=float32),\n",
       " array([[19,  5, 20, 39, 23,  8,  9, 20,  5, 39, 23,  9, 20,  8, 39, 22,\n",
       "         39, 19,  5, 22,  5, 14, 39, 19, 15, 15, 14,  0,  0,  0,  0,  0,\n",
       "          0,  0,  0,  0,  0,  0,  0,  0],\n",
       "        [19,  5, 20, 39, 23,  8,  9, 20,  5, 39, 23,  9, 20,  8, 39, 22,\n",
       "         39, 19,  9, 24, 39, 14, 15, 23,  0,  0,  0,  0,  0,  0,  0,  0,\n",
       "          0,  0,  0,  0,  0,  0,  0,  0]], dtype=int64))"
      ]
     },
     "execution_count": 51,
     "metadata": {},
     "output_type": "execute_result"
    }
   ],
   "source": [
    "sample"
   ]
  },
  {
   "cell_type": "code",
   "execution_count": 52,
   "id": "a43621f0-229d-4c0d-9554-9c3a3da9c61a",
   "metadata": {
    "tags": []
   },
   "outputs": [
    {
     "name": "stdout",
     "output_type": "stream",
     "text": [
      "1/1 [==============================] - 9s 9s/step\n"
     ]
    }
   ],
   "source": [
    "yhat = model.predict(sample[0])"
   ]
  },
  {
   "cell_type": "code",
   "execution_count": 53,
   "id": "ea462999-f87e-4a7e-a057-5be7b6d8f7d5",
   "metadata": {
    "tags": []
   },
   "outputs": [
    {
     "name": "stdout",
     "output_type": "stream",
     "text": [
      "~~~~~~~~~~~~~~~~~~~~~~~~~~~~~~~~~~~~~~~~~~~~~~~~~~~~~~~~~~~~~~~~~~~~~~~~~~~~~~~~~~~~~~~~~~~~~~~~~~~~ REAL TEXT\n"
     ]
    },
    {
     "data": {
      "text/plain": [
       "[<tf.Tensor: shape=(), dtype=string, numpy=b'set white with v seven soon'>,\n",
       " <tf.Tensor: shape=(), dtype=string, numpy=b'set white with v six now'>]"
      ]
     },
     "execution_count": 53,
     "metadata": {},
     "output_type": "execute_result"
    }
   ],
   "source": [
    "print('~'*100, 'REAL TEXT')\n",
    "[tf.strings.reduce_join([num_to_char(word) for word in sentence]) for sentence in sample[1]]"
   ]
  },
  {
   "cell_type": "code",
   "execution_count": 58,
   "id": "82bd4c10-dd6e-411e-834b-2a3b43fd12c5",
   "metadata": {
    "tags": []
   },
   "outputs": [],
   "source": [
    "decoded = tf.keras.backend.ctc_decode(yhat, input_length=[75,75], greedy=True)[0][0].numpy()"
   ]
  },
  {
   "cell_type": "code",
   "execution_count": 59,
   "id": "5d68ac46-c90b-4eab-a709-f19aee569ff5",
   "metadata": {
    "tags": []
   },
   "outputs": [
    {
     "name": "stdout",
     "output_type": "stream",
     "text": [
      "~~~~~~~~~~~~~~~~~~~~~~~~~~~~~~~~~~~~~~~~~~~~~~~~~~~~~~~~~~~~~~~~~~~~~~~~~~~~~~~~~~~~~~~~~~~~~~~~~~~~ PREDICTIONS\n"
     ]
    },
    {
     "data": {
      "text/plain": [
       "[<tf.Tensor: shape=(), dtype=string, numpy=b'la '>,\n",
       " <tf.Tensor: shape=(), dtype=string, numpy=b'le '>]"
      ]
     },
     "execution_count": 59,
     "metadata": {},
     "output_type": "execute_result"
    }
   ],
   "source": [
    "print('~'*100, 'PREDICTIONS')\n",
    "[tf.strings.reduce_join([num_to_char(word) for word in sentence]) for sentence in decoded]"
   ]
  },
  {
   "cell_type": "markdown",
   "id": "64622f98-e99b-4fed-a2cc-f0da82eb5431",
   "metadata": {},
   "source": [
    "# 6. Testing on a Video"
   ]
  },
  {
   "cell_type": "code",
   "execution_count": 60,
   "id": "a8b0c4d0-2031-4331-b91d-d87b1ae6f6e2",
   "metadata": {},
   "outputs": [],
   "source": [
    "# sample = load_data(tf.convert_to_tensor('.\\\\data\\\\s1\\\\bras9a.mpg'))\n",
    "sample = load_data(tf.convert_to_tensor('.\\\\data\\\\s1\\\\bbaf3s.mpg'))"
   ]
  },
  {
   "cell_type": "code",
   "execution_count": 61,
   "id": "0cca60e4-47a9-4683-8a75-48f4684f723d",
   "metadata": {},
   "outputs": [
    {
     "name": "stdout",
     "output_type": "stream",
     "text": [
      "~~~~~~~~~~~~~~~~~~~~~~~~~~~~~~~~~~~~~~~~~~~~~~~~~~~~~~~~~~~~~~~~~~~~~~~~~~~~~~~~~~~~~~~~~~~~~~~~~~~~ REAL TEXT\n"
     ]
    },
    {
     "data": {
      "text/plain": [
       "[<tf.Tensor: shape=(), dtype=string, numpy=b'bin blue at f three soon'>]"
      ]
     },
     "execution_count": 61,
     "metadata": {},
     "output_type": "execute_result"
    }
   ],
   "source": [
    "print('~'*100, 'REAL TEXT')\n",
    "[tf.strings.reduce_join([num_to_char(word) for word in sentence]) for sentence in [sample[1]]]"
   ]
  },
  {
   "cell_type": "code",
   "execution_count": 62,
   "id": "8cc5037c-1e32-435c-b0cc-01e1fb3b863c",
   "metadata": {},
   "outputs": [
    {
     "name": "stdout",
     "output_type": "stream",
     "text": [
      "1/1 [==============================] - 1s 806ms/step\n"
     ]
    }
   ],
   "source": [
    "yhat = model.predict(tf.expand_dims(sample[0], axis=0))"
   ]
  },
  {
   "cell_type": "code",
   "execution_count": 63,
   "id": "22c4f77d-715d-409f-bc5e-3ebe48704e8f",
   "metadata": {},
   "outputs": [],
   "source": [
    "decoded = tf.keras.backend.ctc_decode(yhat, input_length=[75], greedy=True)[0][0].numpy()"
   ]
  },
  {
   "cell_type": "code",
   "execution_count": 64,
   "id": "e4d12ecc-b634-499e-a4bc-db9f010835fb",
   "metadata": {},
   "outputs": [
    {
     "name": "stdout",
     "output_type": "stream",
     "text": [
      "~~~~~~~~~~~~~~~~~~~~~~~~~~~~~~~~~~~~~~~~~~~~~~~~~~~~~~~~~~~~~~~~~~~~~~~~~~~~~~~~~~~~~~~~~~~~~~~~~~~~ PREDICTIONS\n"
     ]
    },
    {
     "data": {
      "text/plain": [
       "[<tf.Tensor: shape=(), dtype=string, numpy=b'le '>]"
      ]
     },
     "execution_count": 64,
     "metadata": {},
     "output_type": "execute_result"
    }
   ],
   "source": [
    "print('~'*100, 'PREDICTIONS')\n",
    "[tf.strings.reduce_join([num_to_char(word) for word in sentence]) for sentence in decoded]"
   ]
  },
  {
   "cell_type": "code",
   "execution_count": null,
   "id": "551dfea2-de6b-4400-b71a-a17631529e3f",
   "metadata": {},
   "outputs": [],
   "source": []
  },
  {
   "cell_type": "code",
   "execution_count": null,
   "id": "fa95863d-3832-47bf-8a77-ebaa38054ace",
   "metadata": {},
   "outputs": [],
   "source": []
  }
 ],
 "metadata": {
  "kernelspec": {
   "display_name": "diff2lip",
   "language": "python",
   "name": "python3"
  },
  "language_info": {
   "codemirror_mode": {
    "name": "ipython",
    "version": 3
   },
   "file_extension": ".py",
   "mimetype": "text/x-python",
   "name": "python",
   "nbconvert_exporter": "python",
   "pygments_lexer": "ipython3",
   "version": "3.9.18"
  }
 },
 "nbformat": 4,
 "nbformat_minor": 5
}
