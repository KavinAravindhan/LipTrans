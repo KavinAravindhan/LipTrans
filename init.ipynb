{
 "cells": [
  {
   "cell_type": "markdown",
   "metadata": {},
   "source": [
    "# Installing Libraries"
   ]
  },
  {
   "cell_type": "code",
   "execution_count": 1,
   "metadata": {},
   "outputs": [
    {
     "name": "stdout",
     "output_type": "stream",
     "text": [
      "Package                      Version"
     ]
    },
    {
     "name": "stderr",
     "output_type": "stream",
     "text": [
      "WARNING: You are using pip version 22.0.4; however, version 24.0 is available.\n",
      "You should consider upgrading via the 'E:\\KIRESH_Projects\\LipRead\\lipReadVenv\\Scripts\\python.exe -m pip install --upgrade pip' command.\n"
     ]
    },
    {
     "name": "stdout",
     "output_type": "stream",
     "text": [
      "\n",
      "---------------------------- --------\n",
      "absl-py                      2.1.0\n",
      "asttokens                    2.4.1\n",
      "astunparse                   1.6.3\n",
      "cachetools                   5.3.3\n",
      "certifi                      2024.2.2\n",
      "charset-normalizer           3.3.2\n",
      "colorama                     0.4.6\n",
      "comm                         0.2.1\n",
      "debugpy                      1.8.1\n",
      "decorator                    5.1.1\n",
      "exceptiongroup               1.2.0\n",
      "executing                    2.0.1\n",
      "flatbuffers                  23.5.26\n",
      "gast                         0.4.0\n",
      "google-auth                  2.28.1\n",
      "google-auth-oauthlib         0.4.6\n",
      "google-pasta                 0.2.0\n",
      "grpcio                       1.62.0\n",
      "h5py                         3.10.0\n",
      "idna                         3.6\n",
      "ipykernel                    6.29.3\n",
      "ipython                      8.22.1\n",
      "jedi                         0.19.1\n",
      "jupyter_client               8.6.0\n",
      "jupyter_core                 5.7.1\n",
      "keras                        2.10.0\n",
      "Keras-Preprocessing          1.1.2\n",
      "libclang                     16.0.6\n",
      "Markdown                     3.5.2\n",
      "MarkupSafe                   2.1.5\n",
      "matplotlib-inline            0.1.6\n",
      "nest-asyncio                 1.6.0\n",
      "numpy                        1.26.4\n",
      "oauthlib                     3.2.2\n",
      "opt-einsum                   3.3.0\n",
      "packaging                    23.2\n",
      "parso                        0.8.3\n",
      "pillow                       10.2.0\n",
      "pip                          22.0.4\n",
      "platformdirs                 4.2.0\n",
      "prompt-toolkit               3.0.43\n",
      "protobuf                     3.19.6\n",
      "psutil                       5.9.8\n",
      "pure-eval                    0.2.2\n",
      "pyasn1                       0.5.1\n",
      "pyasn1-modules               0.3.0\n",
      "Pygments                     2.17.2\n",
      "python-dateutil              2.8.2\n",
      "pywin32                      306\n",
      "pyzmq                        25.1.2\n",
      "requests                     2.31.0\n",
      "requests-oauthlib            1.3.1\n",
      "rsa                          4.9\n",
      "setuptools                   58.1.0\n",
      "six                          1.16.0\n",
      "stack-data                   0.6.3\n",
      "tensorboard                  2.10.1\n",
      "tensorboard-data-server      0.6.1\n",
      "tensorboard-plugin-wit       1.8.1\n",
      "tensorflow-estimator         2.10.0\n",
      "tensorflow-io-gcs-filesystem 0.31.0\n",
      "termcolor                    2.4.0\n",
      "tornado                      6.4\n",
      "traitlets                    5.14.1\n",
      "typing_extensions            4.10.0\n",
      "urllib3                      2.2.1\n",
      "wcwidth                      0.2.13\n",
      "Werkzeug                     3.0.1\n",
      "wheel                        0.42.0\n",
      "wrapt                        1.16.0\n"
     ]
    }
   ],
   "source": [
    "!pip list"
   ]
  },
  {
   "cell_type": "code",
   "execution_count": 2,
   "metadata": {},
   "outputs": [
    {
     "name": "stdout",
     "output_type": "stream",
     "text": [
      "Collecting opencv-python\n",
      "  Downloading opencv_python-4.9.0.80-cp37-abi3-win_amd64.whl (38.6 MB)\n",
      "     ---------------------------------------- 38.6/38.6 MB 9.9 MB/s eta 0:00:00\n",
      "Collecting matplotlib\n",
      "  Downloading matplotlib-3.8.3-cp310-cp310-win_amd64.whl (7.6 MB)\n",
      "     ---------------------------------------- 7.6/7.6 MB 10.6 MB/s eta 0:00:00\n",
      "Collecting gdown\n",
      "  Downloading gdown-5.1.0-py3-none-any.whl (17 kB)\n",
      "Requirement already satisfied: numpy>=1.21.2 in e:\\kiresh_projects\\lipread\\lipreadvenv\\lib\\site-packages (from opencv-python) (1.26.4)\n",
      "Collecting contourpy>=1.0.1\n",
      "  Downloading contourpy-1.2.0-cp310-cp310-win_amd64.whl (186 kB)\n",
      "     ---------------------------------------- 186.7/186.7 KB ? eta 0:00:00\n",
      "Collecting pyparsing>=2.3.1\n",
      "  Downloading pyparsing-3.1.1-py3-none-any.whl (103 kB)\n",
      "     -------------------------------------- 103.1/103.1 KB 1.5 MB/s eta 0:00:00\n",
      "Collecting cycler>=0.10\n",
      "  Downloading cycler-0.12.1-py3-none-any.whl (8.3 kB)\n",
      "Requirement already satisfied: python-dateutil>=2.7 in e:\\kiresh_projects\\lipread\\lipreadvenv\\lib\\site-packages (from matplotlib) (2.8.2)\n",
      "Requirement already satisfied: packaging>=20.0 in e:\\kiresh_projects\\lipread\\lipreadvenv\\lib\\site-packages (from matplotlib) (23.2)\n",
      "Collecting kiwisolver>=1.3.1\n",
      "  Downloading kiwisolver-1.4.5-cp310-cp310-win_amd64.whl (56 kB)\n",
      "     ---------------------------------------- 56.1/56.1 KB 1.5 MB/s eta 0:00:00\n",
      "Requirement already satisfied: pillow>=8 in e:\\kiresh_projects\\lipread\\lipreadvenv\\lib\\site-packages (from matplotlib) (10.2.0)\n",
      "Collecting fonttools>=4.22.0\n",
      "  Downloading fonttools-4.49.0-cp310-cp310-win_amd64.whl (2.2 MB)\n",
      "     ---------------------------------------- 2.2/2.2 MB 10.7 MB/s eta 0:00:00\n",
      "Requirement already satisfied: requests[socks] in e:\\kiresh_projects\\lipread\\lipreadvenv\\lib\\site-packages (from gdown) (2.31.0)\n",
      "Collecting beautifulsoup4\n",
      "  Downloading beautifulsoup4-4.12.3-py3-none-any.whl (147 kB)\n",
      "     -------------------------------------- 147.9/147.9 KB 8.6 MB/s eta 0:00:00\n",
      "Collecting filelock\n",
      "  Downloading filelock-3.13.1-py3-none-any.whl (11 kB)\n",
      "Collecting tqdm\n",
      "  Downloading tqdm-4.66.2-py3-none-any.whl (78 kB)\n",
      "     -------------------------------------- 78.3/78.3 KB 197.8 kB/s eta 0:00:00\n",
      "Requirement already satisfied: six>=1.5 in e:\\kiresh_projects\\lipread\\lipreadvenv\\lib\\site-packages (from python-dateutil>=2.7->matplotlib) (1.16.0)\n",
      "Collecting soupsieve>1.2\n",
      "  Downloading soupsieve-2.5-py3-none-any.whl (36 kB)\n",
      "Requirement already satisfied: idna<4,>=2.5 in e:\\kiresh_projects\\lipread\\lipreadvenv\\lib\\site-packages (from requests[socks]->gdown) (3.6)\n",
      "Requirement already satisfied: urllib3<3,>=1.21.1 in e:\\kiresh_projects\\lipread\\lipreadvenv\\lib\\site-packages (from requests[socks]->gdown) (2.2.1)\n",
      "Requirement already satisfied: charset-normalizer<4,>=2 in e:\\kiresh_projects\\lipread\\lipreadvenv\\lib\\site-packages (from requests[socks]->gdown) (3.3.2)\n",
      "Requirement already satisfied: certifi>=2017.4.17 in e:\\kiresh_projects\\lipread\\lipreadvenv\\lib\\site-packages (from requests[socks]->gdown) (2024.2.2)\n",
      "Collecting PySocks!=1.5.7,>=1.5.6\n",
      "  Using cached PySocks-1.7.1-py3-none-any.whl (16 kB)\n",
      "Requirement already satisfied: colorama in e:\\kiresh_projects\\lipread\\lipreadvenv\\lib\\site-packages (from tqdm->gdown) (0.4.6)\n",
      "Installing collected packages: tqdm, soupsieve, PySocks, pyparsing, opencv-python, kiwisolver, fonttools, filelock, cycler, contourpy, matplotlib, beautifulsoup4, gdown\n",
      "Successfully installed PySocks-1.7.1 beautifulsoup4-4.12.3 contourpy-1.2.0 cycler-0.12.1 filelock-3.13.1 fonttools-4.49.0 gdown-5.1.0 kiwisolver-1.4.5 matplotlib-3.8.3 opencv-python-4.9.0.80 pyparsing-3.1.1 soupsieve-2.5 tqdm-4.66.2\n"
     ]
    },
    {
     "name": "stderr",
     "output_type": "stream",
     "text": [
      "WARNING: You are using pip version 22.0.4; however, version 24.0 is available.\n",
      "You should consider upgrading via the 'E:\\KIRESH_Projects\\LipRead\\lipReadVenv\\Scripts\\python.exe -m pip install --upgrade pip' command.\n"
     ]
    }
   ],
   "source": [
    "!pip install opencv-python matplotlib gdown "
   ]
  },
  {
   "cell_type": "code",
   "execution_count": 3,
   "metadata": {},
   "outputs": [
    {
     "name": "stdout",
     "output_type": "stream",
     "text": [
      "Collecting imageio==2.23.0"
     ]
    },
    {
     "name": "stderr",
     "output_type": "stream",
     "text": [
      "WARNING: You are using pip version 22.0.4; however, version 24.0 is available.\n",
      "You should consider upgrading via the 'E:\\KIRESH_Projects\\LipRead\\lipReadVenv\\Scripts\\python.exe -m pip install --upgrade pip' command.\n"
     ]
    },
    {
     "name": "stdout",
     "output_type": "stream",
     "text": [
      "\n",
      "  Using cached imageio-2.23.0-py3-none-any.whl (3.4 MB)\n",
      "Requirement already satisfied: pillow>=8.3.2 in e:\\kiresh_projects\\lipread\\lipreadvenv\\lib\\site-packages (from imageio==2.23.0) (10.2.0)\n",
      "Requirement already satisfied: numpy in e:\\kiresh_projects\\lipread\\lipreadvenv\\lib\\site-packages (from imageio==2.23.0) (1.26.4)\n",
      "Installing collected packages: imageio\n",
      "Successfully installed imageio-2.23.0\n"
     ]
    }
   ],
   "source": [
    "!pip install imageio==2.23.0"
   ]
  },
  {
   "cell_type": "code",
   "execution_count": 4,
   "metadata": {},
   "outputs": [
    {
     "name": "stdout",
     "output_type": "stream",
     "text": [
      "Collecting tensorflow==2.10.1\n",
      "  Using cached tensorflow-2.10.1-cp310-cp310-win_amd64.whl (455.9 MB)\n",
      "Requirement already satisfied: opt-einsum>=2.3.2 in e:\\kiresh_projects\\lipread\\lipreadvenv\\lib\\site-packages (from tensorflow==2.10.1) (3.3.0)\n",
      "Requirement already satisfied: six>=1.12.0 in e:\\kiresh_projects\\lipread\\lipreadvenv\\lib\\site-packages (from tensorflow==2.10.1) (1.16.0)\n",
      "Requirement already satisfied: termcolor>=1.1.0 in e:\\kiresh_projects\\lipread\\lipreadvenv\\lib\\site-packages (from tensorflow==2.10.1) (2.4.0)\n",
      "Requirement already satisfied: wrapt>=1.11.0 in e:\\kiresh_projects\\lipread\\lipreadvenv\\lib\\site-packages (from tensorflow==2.10.1) (1.16.0)\n",
      "Requirement already satisfied: google-pasta>=0.1.1 in e:\\kiresh_projects\\lipread\\lipreadvenv\\lib\\site-packages (from tensorflow==2.10.1) (0.2.0)\n",
      "Requirement already satisfied: flatbuffers>=2.0 in e:\\kiresh_projects\\lipread\\lipreadvenv\\lib\\site-packages (from tensorflow==2.10.1) (23.5.26)\n",
      "Requirement already satisfied: gast<=0.4.0,>=0.2.1 in e:\\kiresh_projects\\lipread\\lipreadvenv\\lib\\site-packages (from tensorflow==2.10.1) (0.4.0)\n",
      "Requirement already satisfied: protobuf<3.20,>=3.9.2 in e:\\kiresh_projects\\lipread\\lipreadvenv\\lib\\site-packages (from tensorflow==2.10.1) (3.19.6)\n",
      "Requirement already satisfied: setuptools in e:\\kiresh_projects\\lipread\\lipreadvenv\\lib\\site-packages (from tensorflow==2.10.1) (58.1.0)\n",
      "Requirement already satisfied: grpcio<2.0,>=1.24.3 in e:\\kiresh_projects\\lipread\\lipreadvenv\\lib\\site-packages (from tensorflow==2.10.1) (1.62.0)\n",
      "Requirement already satisfied: keras<2.11,>=2.10.0 in e:\\kiresh_projects\\lipread\\lipreadvenv\\lib\\site-packages (from tensorflow==2.10.1) (2.10.0)\n",
      "Requirement already satisfied: libclang>=13.0.0 in e:\\kiresh_projects\\lipread\\lipreadvenv\\lib\\site-packages (from tensorflow==2.10.1) (16.0.6)\n",
      "Requirement already satisfied: tensorflow-io-gcs-filesystem>=0.23.1 in e:\\kiresh_projects\\lipread\\lipreadvenv\\lib\\site-packages (from tensorflow==2.10.1) (0.31.0)\n",
      "Requirement already satisfied: astunparse>=1.6.0 in e:\\kiresh_projects\\lipread\\lipreadvenv\\lib\\site-packages (from tensorflow==2.10.1) (1.6.3)\n",
      "Requirement already satisfied: tensorboard<2.11,>=2.10 in e:\\kiresh_projects\\lipread\\lipreadvenv\\lib\\site-packages (from tensorflow==2.10.1) (2.10.1)\n",
      "Requirement already satisfied: typing-extensions>=3.6.6 in e:\\kiresh_projects\\lipread\\lipreadvenv\\lib\\site-packages (from tensorflow==2.10.1) (4.10.0)\n",
      "Requirement already satisfied: tensorflow-estimator<2.11,>=2.10.0 in e:\\kiresh_projects\\lipread\\lipreadvenv\\lib\\site-packages (from tensorflow==2.10.1) (2.10.0)\n",
      "Requirement already satisfied: keras-preprocessing>=1.1.1 in e:\\kiresh_projects\\lipread\\lipreadvenv\\lib\\site-packages (from tensorflow==2.10.1) (1.1.2)\n",
      "Requirement already satisfied: absl-py>=1.0.0 in e:\\kiresh_projects\\lipread\\lipreadvenv\\lib\\site-packages (from tensorflow==2.10.1) (2.1.0)\n",
      "Requirement already satisfied: h5py>=2.9.0 in e:\\kiresh_projects\\lipread\\lipreadvenv\\lib\\site-packages (from tensorflow==2.10.1) (3.10.0)\n",
      "Requirement already satisfied: numpy>=1.20 in e:\\kiresh_projects\\lipread\\lipreadvenv\\lib\\site-packages (from tensorflow==2.10.1) (1.26.4)\n",
      "Requirement already satisfied: packaging in e:\\kiresh_projects\\lipread\\lipreadvenv\\lib\\site-packages (from tensorflow==2.10.1) (23.2)\n",
      "Requirement already satisfied: wheel<1.0,>=0.23.0 in e:\\kiresh_projects\\lipread\\lipreadvenv\\lib\\site-packages (from astunparse>=1.6.0->tensorflow==2.10.1) (0.42.0)\n",
      "Requirement already satisfied: tensorboard-data-server<0.7.0,>=0.6.0 in e:\\kiresh_projects\\lipread\\lipreadvenv\\lib\\site-packages (from tensorboard<2.11,>=2.10->tensorflow==2.10.1) (0.6.1)\n",
      "Requirement already satisfied: tensorboard-plugin-wit>=1.6.0 in e:\\kiresh_projects\\lipread\\lipreadvenv\\lib\\site-packages (from tensorboard<2.11,>=2.10->tensorflow==2.10.1) (1.8.1)\n",
      "Requirement already satisfied: google-auth-oauthlib<0.5,>=0.4.1 in e:\\kiresh_projects\\lipread\\lipreadvenv\\lib\\site-packages (from tensorboard<2.11,>=2.10->tensorflow==2.10.1) (0.4.6)\n",
      "Requirement already satisfied: werkzeug>=1.0.1 in e:\\kiresh_projects\\lipread\\lipreadvenv\\lib\\site-packages (from tensorboard<2.11,>=2.10->tensorflow==2.10.1) (3.0.1)\n",
      "Requirement already satisfied: requests<3,>=2.21.0 in e:\\kiresh_projects\\lipread\\lipreadvenv\\lib\\site-packages (from tensorboard<2.11,>=2.10->tensorflow==2.10.1) (2.31.0)\n",
      "Requirement already satisfied: google-auth<3,>=1.6.3 in e:\\kiresh_projects\\lipread\\lipreadvenv\\lib\\site-packages (from tensorboard<2.11,>=2.10->tensorflow==2.10.1) (2.28.1)\n",
      "Requirement already satisfied: markdown>=2.6.8 in e:\\kiresh_projects\\lipread\\lipreadvenv\\lib\\site-packages (from tensorboard<2.11,>=2.10->tensorflow==2.10.1) (3.5.2)\n",
      "Requirement already satisfied: cachetools<6.0,>=2.0.0 in e:\\kiresh_projects\\lipread\\lipreadvenv\\lib\\site-packages (from google-auth<3,>=1.6.3->tensorboard<2.11,>=2.10->tensorflow==2.10.1) (5.3.3)\n",
      "Requirement already satisfied: pyasn1-modules>=0.2.1 in e:\\kiresh_projects\\lipread\\lipreadvenv\\lib\\site-packages (from google-auth<3,>=1.6.3->tensorboard<2.11,>=2.10->tensorflow==2.10.1) (0.3.0)\n",
      "Requirement already satisfied: rsa<5,>=3.1.4 in e:\\kiresh_projects\\lipread\\lipreadvenv\\lib\\site-packages (from google-auth<3,>=1.6.3->tensorboard<2.11,>=2.10->tensorflow==2.10.1) (4.9)\n",
      "Requirement already satisfied: requests-oauthlib>=0.7.0 in e:\\kiresh_projects\\lipread\\lipreadvenv\\lib\\site-packages (from google-auth-oauthlib<0.5,>=0.4.1->tensorboard<2.11,>=2.10->tensorflow==2.10.1) (1.3.1)\n",
      "Requirement already satisfied: certifi>=2017.4.17 in e:\\kiresh_projects\\lipread\\lipreadvenv\\lib\\site-packages (from requests<3,>=2.21.0->tensorboard<2.11,>=2.10->tensorflow==2.10.1) (2024.2.2)\n",
      "Requirement already satisfied: charset-normalizer<4,>=2 in e:\\kiresh_projects\\lipread\\lipreadvenv\\lib\\site-packages (from requests<3,>=2.21.0->tensorboard<2.11,>=2.10->tensorflow==2.10.1) (3.3.2)\n",
      "Requirement already satisfied: idna<4,>=2.5 in e:\\kiresh_projects\\lipread\\lipreadvenv\\lib\\site-packages (from requests<3,>=2.21.0->tensorboard<2.11,>=2.10->tensorflow==2.10.1) (3.6)\n",
      "Requirement already satisfied: urllib3<3,>=1.21.1 in e:\\kiresh_projects\\lipread\\lipreadvenv\\lib\\site-packages (from requests<3,>=2.21.0->tensorboard<2.11,>=2.10->tensorflow==2.10.1) (2.2.1)\n",
      "Requirement already satisfied: MarkupSafe>=2.1.1 in e:\\kiresh_projects\\lipread\\lipreadvenv\\lib\\site-packages (from werkzeug>=1.0.1->tensorboard<2.11,>=2.10->tensorflow==2.10.1) (2.1.5)\n",
      "Requirement already satisfied: pyasn1<0.6.0,>=0.4.6 in e:\\kiresh_projects\\lipread\\lipreadvenv\\lib\\site-packages (from pyasn1-modules>=0.2.1->google-auth<3,>=1.6.3->tensorboard<2.11,>=2.10->tensorflow==2.10.1) (0.5.1)\n",
      "Requirement already satisfied: oauthlib>=3.0.0 in e:\\kiresh_projects\\lipread\\lipreadvenv\\lib\\site-packages (from requests-oauthlib>=0.7.0->google-auth-oauthlib<0.5,>=0.4.1->tensorboard<2.11,>=2.10->tensorflow==2.10.1) (3.2.2)\n",
      "Installing collected packages: tensorflow\n",
      "Successfully installed tensorflow-2.10.1\n"
     ]
    },
    {
     "name": "stderr",
     "output_type": "stream",
     "text": [
      "WARNING: You are using pip version 22.0.4; however, version 24.0 is available.\n",
      "You should consider upgrading via the 'E:\\KIRESH_Projects\\LipRead\\lipReadVenv\\Scripts\\python.exe -m pip install --upgrade pip' command.\n"
     ]
    }
   ],
   "source": [
    "!pip install tensorflow==2.10.1"
   ]
  },
  {
   "cell_type": "code",
   "execution_count": 1,
   "metadata": {},
   "outputs": [
    {
     "name": "stdout",
     "output_type": "stream",
     "text": [
      "Note: you may need to restart the kernel to use updated packages.\n"
     ]
    }
   ],
   "source": [
    "pip freeze > requirements.txt  # Python2"
   ]
  },
  {
   "cell_type": "code",
   "execution_count": null,
   "metadata": {},
   "outputs": [],
   "source": []
  }
 ],
 "metadata": {
  "kernelspec": {
   "display_name": "lipReadVenv",
   "language": "python",
   "name": "python3"
  },
  "language_info": {
   "codemirror_mode": {
    "name": "ipython",
    "version": 3
   },
   "file_extension": ".py",
   "mimetype": "text/x-python",
   "name": "python",
   "nbconvert_exporter": "python",
   "pygments_lexer": "ipython3",
   "version": "3.9.18"
  }
 },
 "nbformat": 4,
 "nbformat_minor": 2
}
