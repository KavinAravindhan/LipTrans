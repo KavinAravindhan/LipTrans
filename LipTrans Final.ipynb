{
 "cells": [
  {
   "cell_type": "code",
   "execution_count": 1,
   "id": "b24af50c-20b8-409d-ad78-30a933fdd669",
   "metadata": {
    "tags": []
   },
   "outputs": [],
   "source": [
    "import os\n",
    "import cv2\n",
    "import tensorflow as tf\n",
    "import numpy as np\n",
    "from typing import List\n",
    "from matplotlib import pyplot as plt\n",
    "import imageio"
   ]
  },
  {
   "cell_type": "code",
   "execution_count": 2,
   "id": "1e3db0b0-e559-4ad6-91fd-e7414b7d75e6",
   "metadata": {},
   "outputs": [
    {
     "data": {
      "text/plain": [
       "[]"
      ]
     },
     "execution_count": 2,
     "metadata": {},
     "output_type": "execute_result"
    }
   ],
   "source": [
    "tf.config.list_physical_devices('GPU')"
   ]
  },
  {
   "cell_type": "code",
   "execution_count": 3,
   "id": "378d045a-3003-4f93-b7d2-a25a97774a68",
   "metadata": {
    "tags": []
   },
   "outputs": [],
   "source": [
    "physical_devices = tf.config.list_physical_devices('GPU')\n",
    "try:\n",
    "    tf.config.experimental.set_memory_growth(physical_devices[0], True)\n",
    "except:\n",
    "    pass"
   ]
  },
  {
   "cell_type": "markdown",
   "id": "7a19e88e-c7b9-45c1-ae1e-f2109329c71b",
   "metadata": {
    "tags": []
   },
   "source": [
    "# 1. Data Loading Functions"
   ]
  },
  {
   "cell_type": "code",
   "execution_count": 4,
   "id": "8548cc59-6dfc-4acc-abc3-3e65212db02e",
   "metadata": {
    "tags": []
   },
   "outputs": [],
   "source": [
    "def load_video(path:str) -> List[float]: \n",
    "\n",
    "    cap = cv2.VideoCapture(path)\n",
    "    frames = []\n",
    "    for _ in range(int(cap.get(cv2.CAP_PROP_FRAME_COUNT))): \n",
    "        ret, frame = cap.read()\n",
    "        frame = tf.image.rgb_to_grayscale(frame)\n",
    "        frames.append(frame[190:236,80:220,:])\n",
    "    cap.release()\n",
    "    \n",
    "    mean = tf.math.reduce_mean(frames)\n",
    "    std = tf.math.reduce_std(tf.cast(frames, tf.float32))\n",
    "    return tf.cast((frames - mean), tf.float32) / std"
   ]
  },
  {
   "cell_type": "code",
   "execution_count": 5,
   "id": "ec735e0b-ec98-4eb0-8f49-c35527d6670a",
   "metadata": {
    "tags": []
   },
   "outputs": [],
   "source": [
    "vocab = [x for x in \"abcdefghijklmnopqrstuvwxyz'?!123456789 \"]"
   ]
  },
  {
   "cell_type": "code",
   "execution_count": 6,
   "id": "be04e972-d7a5-4a72-82d8-a6bdde1f3ce6",
   "metadata": {
    "tags": []
   },
   "outputs": [
    {
     "name": "stdout",
     "output_type": "stream",
     "text": [
      "The vocabulary is: ['', 'a', 'b', 'c', 'd', 'e', 'f', 'g', 'h', 'i', 'j', 'k', 'l', 'm', 'n', 'o', 'p', 'q', 'r', 's', 't', 'u', 'v', 'w', 'x', 'y', 'z', \"'\", '?', '!', '1', '2', '3', '4', '5', '6', '7', '8', '9', ' '] (size =40)\n"
     ]
    }
   ],
   "source": [
    "char_to_num = tf.keras.layers.StringLookup(vocabulary=vocab, oov_token=\"\")\n",
    "num_to_char = tf.keras.layers.StringLookup(\n",
    "    vocabulary=char_to_num.get_vocabulary(), oov_token=\"\", invert=True\n",
    ")\n",
    "\n",
    "print(\n",
    "    f\"The vocabulary is: {char_to_num.get_vocabulary()} \"\n",
    "    f\"(size ={char_to_num.vocabulary_size()})\"\n",
    ")"
   ]
  },
  {
   "cell_type": "code",
   "execution_count": 7,
   "id": "559f7420-6802-45fa-9ca0-b1ff209b461c",
   "metadata": {
    "tags": []
   },
   "outputs": [
    {
     "data": {
      "text/plain": [
       "['',\n",
       " 'a',\n",
       " 'b',\n",
       " 'c',\n",
       " 'd',\n",
       " 'e',\n",
       " 'f',\n",
       " 'g',\n",
       " 'h',\n",
       " 'i',\n",
       " 'j',\n",
       " 'k',\n",
       " 'l',\n",
       " 'm',\n",
       " 'n',\n",
       " 'o',\n",
       " 'p',\n",
       " 'q',\n",
       " 'r',\n",
       " 's',\n",
       " 't',\n",
       " 'u',\n",
       " 'v',\n",
       " 'w',\n",
       " 'x',\n",
       " 'y',\n",
       " 'z',\n",
       " \"'\",\n",
       " '?',\n",
       " '!',\n",
       " '1',\n",
       " '2',\n",
       " '3',\n",
       " '4',\n",
       " '5',\n",
       " '6',\n",
       " '7',\n",
       " '8',\n",
       " '9',\n",
       " ' ']"
      ]
     },
     "execution_count": 7,
     "metadata": {},
     "output_type": "execute_result"
    }
   ],
   "source": [
    "char_to_num.get_vocabulary()"
   ]
  },
  {
   "cell_type": "code",
   "execution_count": 8,
   "id": "797ff78b-b48f-4e14-bb62-8cd0ebf9501a",
   "metadata": {
    "tags": []
   },
   "outputs": [
    {
     "data": {
      "text/plain": [
       "<tf.Tensor: shape=(3,), dtype=int64, numpy=array([1, 2, 3], dtype=int64)>"
      ]
     },
     "execution_count": 8,
     "metadata": {},
     "output_type": "execute_result"
    }
   ],
   "source": [
    "char_to_num(['a','b','c'])"
   ]
  },
  {
   "cell_type": "code",
   "execution_count": 9,
   "id": "8cd7f4f4-ae77-4509-a4f4-c723787ebad1",
   "metadata": {},
   "outputs": [
    {
     "data": {
      "text/plain": [
       "<tf.Tensor: shape=(3,), dtype=string, numpy=array([b'a', b'b', b'c'], dtype=object)>"
      ]
     },
     "execution_count": 9,
     "metadata": {},
     "output_type": "execute_result"
    }
   ],
   "source": [
    "num_to_char([1, 2, 3])"
   ]
  },
  {
   "cell_type": "code",
   "execution_count": 10,
   "id": "9491bab5-6a3c-4f79-879a-8f9fbe73ae2e",
   "metadata": {
    "tags": []
   },
   "outputs": [],
   "source": [
    "def load_alignments(path:str) -> List[str]: \n",
    "    with open(path, 'r') as f: \n",
    "        lines = f.readlines()\n",
    "    tokens = []\n",
    "    for line in lines:\n",
    "        line = line.split()\n",
    "        if line[2] != 'sil': \n",
    "            tokens = [*tokens,' ',line[2]]\n",
    "    return char_to_num(tf.reshape(tf.strings.unicode_split(tokens, input_encoding='UTF-8'), (-1)))[1:]"
   ]
  },
  {
   "cell_type": "code",
   "execution_count": 11,
   "id": "dd01ca9f-77fb-4643-a2aa-47dd82c5d66b",
   "metadata": {
    "tags": []
   },
   "outputs": [],
   "source": [
    "def load_data(path: str): \n",
    "    path = bytes.decode(path.numpy())\n",
    "    file_name = path.split('\\\\')[-1].split('.')[0]\n",
    "    video_path = os.path.join('data','s1',f'{file_name}.mpg')\n",
    "    alignment_path = os.path.join('data','alignments','s1',f'{file_name}.align')\n",
    "    frames = load_video(video_path)\n",
    "    alignments = load_alignments(alignment_path)\n",
    "    return frames, alignments"
   ]
  },
  {
   "cell_type": "code",
   "execution_count": 12,
   "id": "8cb7cc58-31ae-4904-a805-1177a82717d2",
   "metadata": {
    "tags": []
   },
   "outputs": [],
   "source": [
    "test_path = '.\\\\data\\\\s1\\\\bbal6n.mpg'"
   ]
  },
  {
   "cell_type": "code",
   "execution_count": 13,
   "id": "b1cd7a20",
   "metadata": {},
   "outputs": [
    {
     "data": {
      "text/plain": [
       "'.\\\\data\\\\s1\\\\bbal6n.mpg'"
      ]
     },
     "execution_count": 13,
     "metadata": {},
     "output_type": "execute_result"
    }
   ],
   "source": [
    "tf.convert_to_tensor(test_path).numpy().decode('utf-8')"
   ]
  },
  {
   "cell_type": "code",
   "execution_count": 14,
   "id": "76aa964f-0c84-490d-897a-d00e3966e2c9",
   "metadata": {},
   "outputs": [
    {
     "data": {
      "text/plain": [
       "'bbal6n'"
      ]
     },
     "execution_count": 14,
     "metadata": {},
     "output_type": "execute_result"
    }
   ],
   "source": [
    "tf.convert_to_tensor(test_path).numpy().decode('utf-8').split('\\\\')[-1].split('.')[0]"
   ]
  },
  {
   "cell_type": "code",
   "execution_count": 15,
   "id": "495f1bf7",
   "metadata": {},
   "outputs": [
    {
     "data": {
      "text/plain": [
       "(<tf.Tensor: shape=(75, 46, 140, 1), dtype=float32, numpy=\n",
       " array([[[[ 1.4603739 ],\n",
       "          [ 1.4603739 ],\n",
       "          [ 1.4209043 ],\n",
       "          ...,\n",
       "          [ 0.15787826],\n",
       "          [ 0.19734782],\n",
       "          [ 0.07893913]],\n",
       " \n",
       "         [[ 1.4603739 ],\n",
       "          [ 1.4603739 ],\n",
       "          [ 1.4209043 ],\n",
       "          ...,\n",
       "          [ 0.15787826],\n",
       "          [ 0.07893913],\n",
       "          [ 0.03946957]],\n",
       " \n",
       "         [[ 1.4209043 ],\n",
       "          [ 1.4209043 ],\n",
       "          [ 1.3814348 ],\n",
       "          ...,\n",
       "          [ 0.07893913],\n",
       "          [ 0.07893913],\n",
       "          [ 0.07893913]],\n",
       " \n",
       "         ...,\n",
       " \n",
       "         [[ 0.94726956],\n",
       "          [ 0.94726956],\n",
       "          [ 0.94726956],\n",
       "          ...,\n",
       "          [ 9.94633   ],\n",
       "          [ 9.867392  ],\n",
       "          [ 9.867392  ]],\n",
       " \n",
       "         [[ 0.94726956],\n",
       "          [ 0.94726956],\n",
       "          [ 0.94726956],\n",
       "          ...,\n",
       "          [ 9.90686   ],\n",
       "          [ 9.867392  ],\n",
       "          [ 9.867392  ]],\n",
       " \n",
       "         [[ 0.94726956],\n",
       "          [ 0.94726956],\n",
       "          [ 0.94726956],\n",
       "          ...,\n",
       "          [ 9.90686   ],\n",
       "          [ 9.867392  ],\n",
       "          [ 9.867392  ]]],\n",
       " \n",
       " \n",
       "        [[[ 1.4209043 ],\n",
       "          [ 1.4209043 ],\n",
       "          [ 1.3419652 ],\n",
       "          ...,\n",
       "          [ 0.19734782],\n",
       "          [ 0.11840869],\n",
       "          [ 0.15787826]],\n",
       " \n",
       "         [[ 1.4209043 ],\n",
       "          [ 1.4209043 ],\n",
       "          [ 1.3419652 ],\n",
       "          ...,\n",
       "          [ 0.23681739],\n",
       "          [ 0.        ],\n",
       "          [ 0.03946957]],\n",
       " \n",
       "         [[ 1.3419652 ],\n",
       "          [ 1.3419652 ],\n",
       "          [ 1.3024956 ],\n",
       "          ...,\n",
       "          [ 0.11840869],\n",
       "          [ 0.15787826],\n",
       "          [ 0.15787826]],\n",
       " \n",
       "         ...,\n",
       " \n",
       "         [[ 0.94726956],\n",
       "          [ 0.94726956],\n",
       "          [ 0.94726956],\n",
       "          ...,\n",
       "          [10.0252695 ],\n",
       "          [ 9.94633   ],\n",
       "          [ 9.94633   ]],\n",
       " \n",
       "         [[ 0.90779996],\n",
       "          [ 0.90779996],\n",
       "          [ 0.90779996],\n",
       "          ...,\n",
       "          [ 9.94633   ],\n",
       "          [ 9.90686   ],\n",
       "          [ 9.90686   ]],\n",
       " \n",
       "         [[ 0.90779996],\n",
       "          [ 0.90779996],\n",
       "          [ 0.90779996],\n",
       "          ...,\n",
       "          [ 9.94633   ],\n",
       "          [ 9.90686   ],\n",
       "          [ 9.90686   ]]],\n",
       " \n",
       " \n",
       "        [[[ 1.4209043 ],\n",
       "          [ 1.4209043 ],\n",
       "          [ 1.3419652 ],\n",
       "          ...,\n",
       "          [ 0.15787826],\n",
       "          [ 0.07893913],\n",
       "          [ 0.15787826]],\n",
       " \n",
       "         [[ 1.4209043 ],\n",
       "          [ 1.4209043 ],\n",
       "          [ 1.3419652 ],\n",
       "          ...,\n",
       "          [ 0.27628696],\n",
       "          [ 0.03946957],\n",
       "          [ 0.15787826]],\n",
       " \n",
       "         [[ 1.3419652 ],\n",
       "          [ 1.3024956 ],\n",
       "          [ 1.3419652 ],\n",
       "          ...,\n",
       "          [ 0.11840869],\n",
       "          [ 0.11840869],\n",
       "          [ 0.11840869]],\n",
       " \n",
       "         ...,\n",
       " \n",
       "         [[ 0.9867391 ],\n",
       "          [ 0.9867391 ],\n",
       "          [ 0.94726956],\n",
       "          ...,\n",
       "          [ 9.9858    ],\n",
       "          [ 9.9858    ],\n",
       "          [ 9.9858    ]],\n",
       " \n",
       "         [[ 0.94726956],\n",
       "          [ 0.94726956],\n",
       "          [ 0.90779996],\n",
       "          ...,\n",
       "          [ 9.94633   ],\n",
       "          [ 9.90686   ],\n",
       "          [ 9.90686   ]],\n",
       " \n",
       "         [[ 0.94726956],\n",
       "          [ 0.94726956],\n",
       "          [ 0.90779996],\n",
       "          ...,\n",
       "          [ 9.94633   ],\n",
       "          [ 9.90686   ],\n",
       "          [ 9.90686   ]]],\n",
       " \n",
       " \n",
       "        ...,\n",
       " \n",
       " \n",
       "        [[[ 1.3814348 ],\n",
       "          [ 1.3814348 ],\n",
       "          [ 1.4209043 ],\n",
       "          ...,\n",
       "          [ 0.19734782],\n",
       "          [ 0.15787826],\n",
       "          [ 0.07893913]],\n",
       " \n",
       "         [[ 1.3814348 ],\n",
       "          [ 1.3814348 ],\n",
       "          [ 1.4209043 ],\n",
       "          ...,\n",
       "          [ 0.11840869],\n",
       "          [ 0.11840869],\n",
       "          [ 0.07893913]],\n",
       " \n",
       "         [[ 1.3024956 ],\n",
       "          [ 1.3024956 ],\n",
       "          [ 1.3024956 ],\n",
       "          ...,\n",
       "          [ 0.11840869],\n",
       "          [ 0.11840869],\n",
       "          [ 0.15787826]],\n",
       " \n",
       "         ...,\n",
       " \n",
       "         [[ 0.9867391 ],\n",
       "          [ 0.94726956],\n",
       "          [ 0.94726956],\n",
       "          ...,\n",
       "          [ 9.90686   ],\n",
       "          [ 9.867392  ],\n",
       "          [ 9.867392  ]],\n",
       " \n",
       "         [[ 0.94726956],\n",
       "          [ 0.94726956],\n",
       "          [ 0.94726956],\n",
       "          ...,\n",
       "          [ 9.90686   ],\n",
       "          [ 9.867392  ],\n",
       "          [ 9.867392  ]],\n",
       " \n",
       "         [[ 0.94726956],\n",
       "          [ 0.94726956],\n",
       "          [ 0.94726956],\n",
       "          ...,\n",
       "          [ 9.90686   ],\n",
       "          [ 9.867392  ],\n",
       "          [ 9.867392  ]]],\n",
       " \n",
       " \n",
       "        [[[ 1.3419652 ],\n",
       "          [ 1.3419652 ],\n",
       "          [ 1.3814348 ],\n",
       "          ...,\n",
       "          [ 0.15787826],\n",
       "          [ 0.07893913],\n",
       "          [ 0.        ]],\n",
       " \n",
       "         [[ 1.3419652 ],\n",
       "          [ 1.3419652 ],\n",
       "          [ 1.3814348 ],\n",
       "          ...,\n",
       "          [ 0.15787826],\n",
       "          [ 0.11840869],\n",
       "          [ 0.03946957]],\n",
       " \n",
       "         [[ 1.3024956 ],\n",
       "          [ 1.3024956 ],\n",
       "          [ 1.3024956 ],\n",
       "          ...,\n",
       "          [ 0.11840869],\n",
       "          [ 0.07893913],\n",
       "          [ 0.11840869]],\n",
       " \n",
       "         ...,\n",
       " \n",
       "         [[ 0.94726956],\n",
       "          [ 0.90779996],\n",
       "          [ 0.90779996],\n",
       "          ...,\n",
       "          [ 9.867392  ],\n",
       "          [ 9.827922  ],\n",
       "          [ 9.827922  ]],\n",
       " \n",
       "         [[ 0.90779996],\n",
       "          [ 0.90779996],\n",
       "          [ 0.90779996],\n",
       "          ...,\n",
       "          [ 9.867392  ],\n",
       "          [ 9.827922  ],\n",
       "          [ 9.827922  ]],\n",
       " \n",
       "         [[ 0.90779996],\n",
       "          [ 0.90779996],\n",
       "          [ 0.90779996],\n",
       "          ...,\n",
       "          [ 9.867392  ],\n",
       "          [ 9.827922  ],\n",
       "          [ 9.827922  ]]],\n",
       " \n",
       " \n",
       "        [[[ 1.3024956 ],\n",
       "          [ 1.3024956 ],\n",
       "          [ 1.3814348 ],\n",
       "          ...,\n",
       "          [ 0.07893913],\n",
       "          [ 0.07893913],\n",
       "          [ 0.15787826]],\n",
       " \n",
       "         [[ 1.3024956 ],\n",
       "          [ 1.3024956 ],\n",
       "          [ 1.3814348 ],\n",
       "          ...,\n",
       "          [ 0.        ],\n",
       "          [ 0.07893913],\n",
       "          [ 0.23681739]],\n",
       " \n",
       "         [[ 1.3419652 ],\n",
       "          [ 1.3419652 ],\n",
       "          [ 1.3419652 ],\n",
       "          ...,\n",
       "          [ 0.07893913],\n",
       "          [ 0.07893913],\n",
       "          [ 0.07893913]],\n",
       " \n",
       "         ...,\n",
       " \n",
       "         [[ 0.90779996],\n",
       "          [ 0.90779996],\n",
       "          [ 0.90779996],\n",
       "          ...,\n",
       "          [ 9.90686   ],\n",
       "          [ 9.867392  ],\n",
       "          [ 9.867392  ]],\n",
       " \n",
       "         [[ 0.90779996],\n",
       "          [ 0.90779996],\n",
       "          [ 0.90779996],\n",
       "          ...,\n",
       "          [ 9.94633   ],\n",
       "          [ 9.867392  ],\n",
       "          [ 9.867392  ]],\n",
       " \n",
       "         [[ 0.90779996],\n",
       "          [ 0.90779996],\n",
       "          [ 0.90779996],\n",
       "          ...,\n",
       "          [ 9.94633   ],\n",
       "          [ 9.867392  ],\n",
       "          [ 9.867392  ]]]], dtype=float32)>,\n",
       " <tf.Tensor: shape=(21,), dtype=int64, numpy=\n",
       " array([ 2,  9, 14, 39,  2, 12, 21,  5, 39,  1, 20, 39, 12, 39, 19,  9, 24,\n",
       "        39, 14, 15, 23], dtype=int64)>)"
      ]
     },
     "execution_count": 15,
     "metadata": {},
     "output_type": "execute_result"
    }
   ],
   "source": [
    "load_data(tf.convert_to_tensor(test_path))"
   ]
  },
  {
   "cell_type": "code",
   "execution_count": 16,
   "id": "eb602c71-8560-4f9e-b26b-08202febb937",
   "metadata": {
    "scrolled": true,
    "tags": []
   },
   "outputs": [],
   "source": [
    "frames, alignments = load_data(tf.convert_to_tensor(test_path))"
   ]
  },
  {
   "cell_type": "code",
   "execution_count": 17,
   "id": "54f5180f",
   "metadata": {},
   "outputs": [
    {
     "data": {
      "text/plain": [
       "<tf.Tensor: shape=(46, 140, 1), dtype=float32, numpy=\n",
       "array([[[1.4603739 ],\n",
       "        [1.4603739 ],\n",
       "        [1.4209043 ],\n",
       "        ...,\n",
       "        [0.15787826],\n",
       "        [0.19734782],\n",
       "        [0.07893913]],\n",
       "\n",
       "       [[1.4603739 ],\n",
       "        [1.4603739 ],\n",
       "        [1.4209043 ],\n",
       "        ...,\n",
       "        [0.15787826],\n",
       "        [0.07893913],\n",
       "        [0.03946957]],\n",
       "\n",
       "       [[1.4209043 ],\n",
       "        [1.4209043 ],\n",
       "        [1.3814348 ],\n",
       "        ...,\n",
       "        [0.07893913],\n",
       "        [0.07893913],\n",
       "        [0.07893913]],\n",
       "\n",
       "       ...,\n",
       "\n",
       "       [[0.94726956],\n",
       "        [0.94726956],\n",
       "        [0.94726956],\n",
       "        ...,\n",
       "        [9.94633   ],\n",
       "        [9.867392  ],\n",
       "        [9.867392  ]],\n",
       "\n",
       "       [[0.94726956],\n",
       "        [0.94726956],\n",
       "        [0.94726956],\n",
       "        ...,\n",
       "        [9.90686   ],\n",
       "        [9.867392  ],\n",
       "        [9.867392  ]],\n",
       "\n",
       "       [[0.94726956],\n",
       "        [0.94726956],\n",
       "        [0.94726956],\n",
       "        ...,\n",
       "        [9.90686   ],\n",
       "        [9.867392  ],\n",
       "        [9.867392  ]]], dtype=float32)>"
      ]
     },
     "execution_count": 17,
     "metadata": {},
     "output_type": "execute_result"
    }
   ],
   "source": [
    "frames[0]"
   ]
  },
  {
   "cell_type": "code",
   "execution_count": 18,
   "id": "0e3184a1-6b02-4b4f-84a8-a0a65f951ea2",
   "metadata": {},
   "outputs": [
    {
     "data": {
      "text/plain": [
       "<matplotlib.image.AxesImage at 0x24f4feb0850>"
      ]
     },
     "execution_count": 18,
     "metadata": {},
     "output_type": "execute_result"
    },
    {
     "data": {
      "image/png": "[encoded data removed]",
      "text/plain": [
       "<Figure size 640x480 with 1 Axes>"
      ]
     },
     "metadata": {},
     "output_type": "display_data"
    }
   ],
   "source": [
    "plt.imshow(frames[0])"
   ]
  },
  {
   "cell_type": "code",
   "execution_count": 19,
   "id": "10395307",
   "metadata": {},
   "outputs": [
    {
     "data": {
      "text/plain": [
       "<matplotlib.image.AxesImage at 0x24f51432940>"
      ]
     },
     "execution_count": 19,
     "metadata": {},
     "output_type": "execute_result"
    },
    {
     "data": {
      "image/png": "[encoded data removed]",
      "text/plain": [
       "<Figure size 640x480 with 1 Axes>"
      ]
     },
     "metadata": {},
     "output_type": "display_data"
    }
   ],
   "source": [
    "plt.imshow(frames[40])"
   ]
  },
  {
   "cell_type": "code",
   "execution_count": 20,
   "id": "d7ec0833-d54b-4073-84cf-92d011c60ec1",
   "metadata": {},
   "outputs": [
    {
     "data": {
      "text/plain": [
       "<tf.Tensor: shape=(21,), dtype=int64, numpy=\n",
       "array([ 2,  9, 14, 39,  2, 12, 21,  5, 39,  1, 20, 39, 12, 39, 19,  9, 24,\n",
       "       39, 14, 15, 23], dtype=int64)>"
      ]
     },
     "execution_count": 20,
     "metadata": {},
     "output_type": "execute_result"
    }
   ],
   "source": [
    "alignments"
   ]
  },
  {
   "cell_type": "code",
   "execution_count": 21,
   "id": "814400a6",
   "metadata": {},
   "outputs": [
    {
     "data": {
      "text/plain": [
       "<tf.Tensor: shape=(21,), dtype=string, numpy=\n",
       "array([b'b', b'i', b'n', b' ', b'b', b'l', b'u', b'e', b' ', b'a', b't',\n",
       "       b' ', b'l', b' ', b's', b'i', b'x', b' ', b'n', b'o', b'w'],\n",
       "      dtype=object)>"
      ]
     },
     "execution_count": 21,
     "metadata": {},
     "output_type": "execute_result"
    }
   ],
   "source": [
    "num_to_char(alignments.numpy())"
   ]
  },
  {
   "cell_type": "code",
   "execution_count": 22,
   "id": "fe1ad370-b287-4b46-85a2-7c45b0bd9b10",
   "metadata": {},
   "outputs": [
    {
     "data": {
      "text/plain": [
       "<tf.Tensor: shape=(), dtype=string, numpy=b'bin blue at l six now'>"
      ]
     },
     "execution_count": 22,
     "metadata": {},
     "output_type": "execute_result"
    }
   ],
   "source": [
    "tf.strings.reduce_join([bytes.decode(x) for x in num_to_char(alignments.numpy()).numpy()])"
   ]
  },
  {
   "cell_type": "code",
   "execution_count": 23,
   "id": "6871031a-b0ba-4c76-a852-f6329b0f2606",
   "metadata": {
    "tags": []
   },
   "outputs": [],
   "source": [
    "def mappable_function(path:str) ->List[str]:\n",
    "    result = tf.py_function(load_data, [path], (tf.float32, tf.int64))\n",
    "    return result"
   ]
  },
  {
   "cell_type": "markdown",
   "id": "c40a7eb4-0c3e-4eab-9291-5611cb68ce08",
   "metadata": {
    "tags": []
   },
   "source": [
    "# 2. Processing Data"
   ]
  },
  {
   "cell_type": "code",
   "execution_count": 24,
   "id": "7686355d-45aa-4c85-ad9c-053e6a9b4d81",
   "metadata": {
    "tags": []
   },
   "outputs": [],
   "source": [
    "from matplotlib import pyplot as plt"
   ]
  },
  {
   "cell_type": "code",
   "execution_count": 25,
   "id": "f066fea2-91b1-42ed-a67d-00566a1a53ff",
   "metadata": {
    "tags": []
   },
   "outputs": [
    {
     "name": "stdout",
     "output_type": "stream",
     "text": [
      "500\n"
     ]
    }
   ],
   "source": [
    "data = tf.data.Dataset.list_files('./data/s1/*.mpg')\n",
    "data = data.shuffle(500, reshuffle_each_iteration=False)\n",
    "data = data.map(mappable_function)\n",
    "data = data.padded_batch(2, padded_shapes=([75,None,None,None],[40]))\n",
    "data = data.prefetch(tf.data.AUTOTUNE)\n",
    "print(len(data))\n",
    "################ Added for splitting data\n",
    "train = data.take(450)\n",
    "test = data.skip(450)"
   ]
  },
  {
   "cell_type": "code",
   "execution_count": 26,
   "id": "7fef43fb",
   "metadata": {},
   "outputs": [
    {
     "name": "stdout",
     "output_type": "stream",
     "text": [
      "<class 'tensorflow.python.data.ops.dataset_ops.SkipDataset'>\n"
     ]
    }
   ],
   "source": [
    "print(type(test))"
   ]
  },
  {
   "cell_type": "code",
   "execution_count": 27,
   "id": "6b1365bd-7742-41d1-95d4-247021751c3a",
   "metadata": {},
   "outputs": [
    {
     "data": {
      "text/plain": [
       "50"
      ]
     },
     "execution_count": 27,
     "metadata": {},
     "output_type": "execute_result"
    }
   ],
   "source": [
    "len(test)"
   ]
  },
  {
   "cell_type": "code",
   "execution_count": 28,
   "id": "218f6f87",
   "metadata": {},
   "outputs": [
    {
     "data": {
      "text/plain": [
       "<SkipDataset element_spec=(TensorSpec(shape=(None, 75, None, None, None), dtype=tf.float32, name=None), TensorSpec(shape=(None, 40), dtype=tf.int64, name=None))>"
      ]
     },
     "execution_count": 28,
     "metadata": {},
     "output_type": "execute_result"
    }
   ],
   "source": [
    "test"
   ]
  },
  {
   "cell_type": "code",
   "execution_count": 29,
   "id": "5281bde8-fdc8-4da1-bd55-5a7929a9e80c",
   "metadata": {},
   "outputs": [],
   "source": [
    "frames, alignments = data.as_numpy_iterator().next()"
   ]
  },
  {
   "cell_type": "code",
   "execution_count": 30,
   "id": "cbebe683-6afd-47fd-bba4-c83b4b13bb32",
   "metadata": {},
   "outputs": [
    {
     "data": {
      "text/plain": [
       "2"
      ]
     },
     "execution_count": 30,
     "metadata": {},
     "output_type": "execute_result"
    }
   ],
   "source": [
    "len(frames)"
   ]
  },
  {
   "cell_type": "code",
   "execution_count": 31,
   "id": "5cf2d676-93a9-434c-b3c7-bdcc2577b2e7",
   "metadata": {
    "tags": []
   },
   "outputs": [],
   "source": [
    "sample = data.as_numpy_iterator()"
   ]
  },
  {
   "cell_type": "code",
   "execution_count": 32,
   "id": "efa6cd46-7079-46c0-b45b-832f339f6cb0",
   "metadata": {
    "scrolled": true,
    "tags": []
   },
   "outputs": [
    {
     "data": {
      "text/plain": [
       "array([[[[[ 1.2948087 ],\n",
       "          [ 1.2948087 ],\n",
       "          [ 1.2948087 ],\n",
       "          ...,\n",
       "          [ 0.11098361],\n",
       "          [ 0.03699454],\n",
       "          [ 0.03699454]],\n",
       "\n",
       "         [[ 1.2948087 ],\n",
       "          [ 1.2948087 ],\n",
       "          [ 1.2948087 ],\n",
       "          ...,\n",
       "          [ 0.11098361],\n",
       "          [ 0.03699454],\n",
       "          [ 0.03699454]],\n",
       "\n",
       "         [[ 1.1838251 ],\n",
       "          [ 1.1838251 ],\n",
       "          [ 1.1838251 ],\n",
       "          ...,\n",
       "          [ 0.14797814],\n",
       "          [ 0.07398907],\n",
       "          [ 0.07398907]],\n",
       "\n",
       "         ...,\n",
       "\n",
       "         [[ 0.8878689 ],\n",
       "          [ 0.8878689 ],\n",
       "          [ 0.8878689 ],\n",
       "          ...,\n",
       "          [ 9.026667  ],\n",
       "          [ 9.100656  ],\n",
       "          [ 9.285628  ]],\n",
       "\n",
       "         [[ 0.8508743 ],\n",
       "          [ 0.8508743 ],\n",
       "          [ 0.8508743 ],\n",
       "          ...,\n",
       "          [ 8.878689  ],\n",
       "          [ 8.915683  ],\n",
       "          [ 9.063662  ]],\n",
       "\n",
       "         [[ 0.8508743 ],\n",
       "          [ 0.8508743 ],\n",
       "          [ 0.8508743 ],\n",
       "          ...,\n",
       "          [ 9.100656  ],\n",
       "          [ 8.989672  ],\n",
       "          [ 8.952678  ]]],\n",
       "\n",
       "\n",
       "        [[[ 1.2208197 ],\n",
       "          [ 1.2208197 ],\n",
       "          [ 1.2208197 ],\n",
       "          ...,\n",
       "          [ 0.07398907],\n",
       "          [ 0.03699454],\n",
       "          [ 0.03699454]],\n",
       "\n",
       "         [[ 1.2208197 ],\n",
       "          [ 1.2208197 ],\n",
       "          [ 1.2208197 ],\n",
       "          ...,\n",
       "          [ 0.07398907],\n",
       "          [ 0.03699454],\n",
       "          [ 0.03699454]],\n",
       "\n",
       "         [[ 1.2208197 ],\n",
       "          [ 1.2208197 ],\n",
       "          [ 1.2208197 ],\n",
       "          ...,\n",
       "          [ 0.        ],\n",
       "          [ 0.        ],\n",
       "          [ 0.        ]],\n",
       "\n",
       "         ...,\n",
       "\n",
       "         [[ 0.9248634 ],\n",
       "          [ 0.9248634 ],\n",
       "          [ 0.8878689 ],\n",
       "          ...,\n",
       "          [ 9.063662  ],\n",
       "          [ 9.174644  ],\n",
       "          [ 9.174644  ]],\n",
       "\n",
       "         [[ 0.8878689 ],\n",
       "          [ 0.8878689 ],\n",
       "          [ 0.8508743 ],\n",
       "          ...,\n",
       "          [ 8.952678  ],\n",
       "          [ 9.100656  ],\n",
       "          [ 9.063662  ]],\n",
       "\n",
       "         [[ 0.8878689 ],\n",
       "          [ 0.8878689 ],\n",
       "          [ 0.8508743 ],\n",
       "          ...,\n",
       "          [ 9.248634  ],\n",
       "          [ 9.100656  ],\n",
       "          [ 8.989672  ]]],\n",
       "\n",
       "\n",
       "        [[[ 1.2948087 ],\n",
       "          [ 1.2948087 ],\n",
       "          [ 1.2578142 ],\n",
       "          ...,\n",
       "          [ 0.03699454],\n",
       "          [ 0.03699454],\n",
       "          [ 0.03699454]],\n",
       "\n",
       "         [[ 1.2578142 ],\n",
       "          [ 1.2578142 ],\n",
       "          [ 1.2578142 ],\n",
       "          ...,\n",
       "          [ 0.03699454],\n",
       "          [ 0.03699454],\n",
       "          [ 0.03699454]],\n",
       "\n",
       "         [[ 1.2208197 ],\n",
       "          [ 1.2208197 ],\n",
       "          [ 1.2208197 ],\n",
       "          ...,\n",
       "          [ 0.07398907],\n",
       "          [ 0.        ],\n",
       "          [ 0.        ]],\n",
       "\n",
       "         ...,\n",
       "\n",
       "         [[ 0.9248634 ],\n",
       "          [ 0.9248634 ],\n",
       "          [ 0.8878689 ],\n",
       "          ...,\n",
       "          [ 9.100656  ],\n",
       "          [ 9.174644  ],\n",
       "          [ 9.174644  ]],\n",
       "\n",
       "         [[ 0.9248634 ],\n",
       "          [ 0.9248634 ],\n",
       "          [ 0.8878689 ],\n",
       "          ...,\n",
       "          [ 8.915683  ],\n",
       "          [ 9.063662  ],\n",
       "          [ 9.063662  ]],\n",
       "\n",
       "         [[ 0.8878689 ],\n",
       "          [ 0.8878689 ],\n",
       "          [ 0.8508743 ],\n",
       "          ...,\n",
       "          [ 9.211639  ],\n",
       "          [ 9.063662  ],\n",
       "          [ 8.989672  ]]],\n",
       "\n",
       "\n",
       "        ...,\n",
       "\n",
       "\n",
       "        [[[ 1.2948087 ],\n",
       "          [ 1.2948087 ],\n",
       "          [ 1.2578142 ],\n",
       "          ...,\n",
       "          [ 9.433606  ],\n",
       "          [ 9.433606  ],\n",
       "          [ 0.03699454]],\n",
       "\n",
       "         [[ 1.2948087 ],\n",
       "          [ 1.2948087 ],\n",
       "          [ 1.2578142 ],\n",
       "          ...,\n",
       "          [ 0.03699454],\n",
       "          [ 0.11098361],\n",
       "          [ 0.11098361]],\n",
       "\n",
       "         [[ 1.1838251 ],\n",
       "          [ 1.1838251 ],\n",
       "          [ 1.1468306 ],\n",
       "          ...,\n",
       "          [ 0.07398907],\n",
       "          [ 0.07398907],\n",
       "          [ 0.07398907]],\n",
       "\n",
       "         ...,\n",
       "\n",
       "         [[ 0.8508743 ],\n",
       "          [ 0.8508743 ],\n",
       "          [ 0.8508743 ],\n",
       "          ...,\n",
       "          [ 9.100656  ],\n",
       "          [ 9.174644  ],\n",
       "          [ 9.211639  ]],\n",
       "\n",
       "         [[ 0.8508743 ],\n",
       "          [ 0.8508743 ],\n",
       "          [ 0.8508743 ],\n",
       "          ...,\n",
       "          [ 8.841694  ],\n",
       "          [ 9.026667  ],\n",
       "          [ 9.100656  ]],\n",
       "\n",
       "         [[ 0.8508743 ],\n",
       "          [ 0.8508743 ],\n",
       "          [ 0.8508743 ],\n",
       "          ...,\n",
       "          [ 9.026667  ],\n",
       "          [ 9.063662  ],\n",
       "          [ 9.026667  ]]],\n",
       "\n",
       "\n",
       "        [[[ 1.2578142 ],\n",
       "          [ 1.2578142 ],\n",
       "          [ 1.2578142 ],\n",
       "          ...,\n",
       "          [ 0.        ],\n",
       "          [ 9.433606  ],\n",
       "          [ 0.        ]],\n",
       "\n",
       "         [[ 1.2578142 ],\n",
       "          [ 1.2208197 ],\n",
       "          [ 1.1838251 ],\n",
       "          ...,\n",
       "          [ 0.        ],\n",
       "          [ 0.07398907],\n",
       "          [ 0.07398907]],\n",
       "\n",
       "         [[ 1.2578142 ],\n",
       "          [ 1.2578142 ],\n",
       "          [ 1.1838251 ],\n",
       "          ...,\n",
       "          [ 0.03699454],\n",
       "          [ 0.07398907],\n",
       "          [ 0.07398907]],\n",
       "\n",
       "         ...,\n",
       "\n",
       "         [[ 0.8508743 ],\n",
       "          [ 0.8508743 ],\n",
       "          [ 0.8508743 ],\n",
       "          ...,\n",
       "          [ 9.100656  ],\n",
       "          [ 9.1376505 ],\n",
       "          [ 9.100656  ]],\n",
       "\n",
       "         [[ 0.8508743 ],\n",
       "          [ 0.8508743 ],\n",
       "          [ 0.8508743 ],\n",
       "          ...,\n",
       "          [ 8.841694  ],\n",
       "          [ 9.026667  ],\n",
       "          [ 9.063662  ]],\n",
       "\n",
       "         [[ 0.8508743 ],\n",
       "          [ 0.8508743 ],\n",
       "          [ 0.8508743 ],\n",
       "          ...,\n",
       "          [ 8.989672  ],\n",
       "          [ 9.026667  ],\n",
       "          [ 9.026667  ]]],\n",
       "\n",
       "\n",
       "        [[[ 1.2578142 ],\n",
       "          [ 1.2208197 ],\n",
       "          [ 1.1838251 ],\n",
       "          ...,\n",
       "          [ 0.11098361],\n",
       "          [ 0.03699454],\n",
       "          [ 0.03699454]],\n",
       "\n",
       "         [[ 1.2578142 ],\n",
       "          [ 1.2208197 ],\n",
       "          [ 1.1838251 ],\n",
       "          ...,\n",
       "          [ 0.07398907],\n",
       "          [ 0.03699454],\n",
       "          [ 0.03699454]],\n",
       "\n",
       "         [[ 1.2578142 ],\n",
       "          [ 1.1838251 ],\n",
       "          [ 1.1838251 ],\n",
       "          ...,\n",
       "          [ 0.03699454],\n",
       "          [ 0.03699454],\n",
       "          [ 0.03699454]],\n",
       "\n",
       "         ...,\n",
       "\n",
       "         [[ 0.8878689 ],\n",
       "          [ 0.8508743 ],\n",
       "          [ 0.8508743 ],\n",
       "          ...,\n",
       "          [ 9.063662  ],\n",
       "          [ 9.1376505 ],\n",
       "          [ 9.174644  ]],\n",
       "\n",
       "         [[ 0.8878689 ],\n",
       "          [ 0.8508743 ],\n",
       "          [ 0.8508743 ],\n",
       "          ...,\n",
       "          [ 8.878689  ],\n",
       "          [ 9.026667  ],\n",
       "          [ 9.100656  ]],\n",
       "\n",
       "         [[ 0.8878689 ],\n",
       "          [ 0.8508743 ],\n",
       "          [ 0.8508743 ],\n",
       "          ...,\n",
       "          [ 9.100656  ],\n",
       "          [ 8.989672  ],\n",
       "          [ 9.026667  ]]]],\n",
       "\n",
       "\n",
       "\n",
       "       [[[[ 1.4888973 ],\n",
       "          [ 1.4888973 ],\n",
       "          [ 1.5302556 ],\n",
       "          ...,\n",
       "          [ 0.        ],\n",
       "          [10.546355  ],\n",
       "          [10.546355  ]],\n",
       "\n",
       "         [[ 1.4888973 ],\n",
       "          [ 1.4888973 ],\n",
       "          [ 1.5302556 ],\n",
       "          ...,\n",
       "          [ 0.        ],\n",
       "          [10.546355  ],\n",
       "          [10.546355  ]],\n",
       "\n",
       "         [[ 1.4061807 ],\n",
       "          [ 1.4061807 ],\n",
       "          [ 1.4061807 ],\n",
       "          ...,\n",
       "          [ 0.04135826],\n",
       "          [ 0.        ],\n",
       "          [ 0.        ]],\n",
       "\n",
       "         ...,\n",
       "\n",
       "         [[ 0.9925982 ],\n",
       "          [ 0.9925982 ],\n",
       "          [ 0.9925982 ],\n",
       "          ...,\n",
       "          [10.256847  ],\n",
       "          [10.256847  ],\n",
       "          [10.256847  ]],\n",
       "\n",
       "         [[ 0.9925982 ],\n",
       "          [ 0.9925982 ],\n",
       "          [ 0.9925982 ],\n",
       "          ...,\n",
       "          [10.256847  ],\n",
       "          [10.256847  ],\n",
       "          [10.256847  ]],\n",
       "\n",
       "         [[ 0.9925982 ],\n",
       "          [ 0.9925982 ],\n",
       "          [ 0.9925982 ],\n",
       "          ...,\n",
       "          [10.256847  ],\n",
       "          [10.256847  ],\n",
       "          [10.256847  ]]],\n",
       "\n",
       "\n",
       "        [[[ 1.4061807 ],\n",
       "          [ 1.4061807 ],\n",
       "          [ 1.447539  ],\n",
       "          ...,\n",
       "          [10.546355  ],\n",
       "          [ 0.        ],\n",
       "          [ 0.        ]],\n",
       "\n",
       "         [[ 1.447539  ],\n",
       "          [ 1.447539  ],\n",
       "          [ 1.4888973 ],\n",
       "          ...,\n",
       "          [10.546355  ],\n",
       "          [ 0.        ],\n",
       "          [ 0.        ]],\n",
       "\n",
       "         [[ 1.3648225 ],\n",
       "          [ 1.3648225 ],\n",
       "          [ 1.4061807 ],\n",
       "          ...,\n",
       "          [ 0.        ],\n",
       "          [ 0.        ],\n",
       "          [ 0.        ]],\n",
       "\n",
       "         ...,\n",
       "\n",
       "         [[ 1.0339564 ],\n",
       "          [ 1.0339564 ],\n",
       "          [ 1.0339564 ],\n",
       "          ...,\n",
       "          [10.298206  ],\n",
       "          [10.298206  ],\n",
       "          [10.298206  ]],\n",
       "\n",
       "         [[ 0.9925982 ],\n",
       "          [ 0.9925982 ],\n",
       "          [ 0.9925982 ],\n",
       "          ...,\n",
       "          [10.256847  ],\n",
       "          [10.256847  ],\n",
       "          [10.256847  ]],\n",
       "\n",
       "         [[ 0.9925982 ],\n",
       "          [ 0.9925982 ],\n",
       "          [ 0.9925982 ],\n",
       "          ...,\n",
       "          [10.256847  ],\n",
       "          [10.256847  ],\n",
       "          [10.256847  ]]],\n",
       "\n",
       "\n",
       "        [[[ 1.447539  ],\n",
       "          [ 1.447539  ],\n",
       "          [ 1.447539  ],\n",
       "          ...,\n",
       "          [ 0.04135826],\n",
       "          [10.546355  ],\n",
       "          [10.546355  ]],\n",
       "\n",
       "         [[ 1.447539  ],\n",
       "          [ 1.447539  ],\n",
       "          [ 1.447539  ],\n",
       "          ...,\n",
       "          [ 0.04135826],\n",
       "          [10.546355  ],\n",
       "          [10.546355  ]],\n",
       "\n",
       "         [[ 1.4061807 ],\n",
       "          [ 1.4061807 ],\n",
       "          [ 1.447539  ],\n",
       "          ...,\n",
       "          [ 0.04135826],\n",
       "          [ 0.        ],\n",
       "          [ 0.        ]],\n",
       "\n",
       "         ...,\n",
       "\n",
       "         [[ 1.0339564 ],\n",
       "          [ 1.0339564 ],\n",
       "          [ 0.9925982 ],\n",
       "          ...,\n",
       "          [10.256847  ],\n",
       "          [10.256847  ],\n",
       "          [10.256847  ]],\n",
       "\n",
       "         [[ 0.9925982 ],\n",
       "          [ 0.9925982 ],\n",
       "          [ 0.95123994],\n",
       "          ...,\n",
       "          [10.298206  ],\n",
       "          [10.298206  ],\n",
       "          [10.298206  ]],\n",
       "\n",
       "         [[ 0.9925982 ],\n",
       "          [ 0.9925982 ],\n",
       "          [ 0.95123994],\n",
       "          ...,\n",
       "          [10.256847  ],\n",
       "          [10.256847  ],\n",
       "          [10.256847  ]]],\n",
       "\n",
       "\n",
       "        ...,\n",
       "\n",
       "\n",
       "        [[[ 1.3648225 ],\n",
       "          [ 1.3648225 ],\n",
       "          [ 1.3648225 ],\n",
       "          ...,\n",
       "          [ 0.04135826],\n",
       "          [ 0.08271652],\n",
       "          [ 0.08271652]],\n",
       "\n",
       "         [[ 1.3648225 ],\n",
       "          [ 1.3648225 ],\n",
       "          [ 1.3648225 ],\n",
       "          ...,\n",
       "          [ 0.04135826],\n",
       "          [ 0.08271652],\n",
       "          [ 0.08271652]],\n",
       "\n",
       "         [[ 1.4061807 ],\n",
       "          [ 1.4061807 ],\n",
       "          [ 1.4061807 ],\n",
       "          ...,\n",
       "          [10.546355  ],\n",
       "          [10.546355  ],\n",
       "          [10.546355  ]],\n",
       "\n",
       "         ...,\n",
       "\n",
       "         [[ 0.95123994],\n",
       "          [ 0.95123994],\n",
       "          [ 0.95123994],\n",
       "          ...,\n",
       "          [10.339564  ],\n",
       "          [10.298206  ],\n",
       "          [10.298206  ]],\n",
       "\n",
       "         [[ 0.95123994],\n",
       "          [ 0.95123994],\n",
       "          [ 0.95123994],\n",
       "          ...,\n",
       "          [10.339564  ],\n",
       "          [10.298206  ],\n",
       "          [10.256847  ]],\n",
       "\n",
       "         [[ 0.95123994],\n",
       "          [ 0.95123994],\n",
       "          [ 0.95123994],\n",
       "          ...,\n",
       "          [10.339564  ],\n",
       "          [10.256847  ],\n",
       "          [10.256847  ]]],\n",
       "\n",
       "\n",
       "        [[[ 1.4061807 ],\n",
       "          [ 1.4061807 ],\n",
       "          [ 1.447539  ],\n",
       "          ...,\n",
       "          [ 0.        ],\n",
       "          [ 0.        ],\n",
       "          [ 0.        ]],\n",
       "\n",
       "         [[ 1.4061807 ],\n",
       "          [ 1.4061807 ],\n",
       "          [ 1.447539  ],\n",
       "          ...,\n",
       "          [ 0.        ],\n",
       "          [ 0.        ],\n",
       "          [ 0.        ]],\n",
       "\n",
       "         [[ 1.447539  ],\n",
       "          [ 1.447539  ],\n",
       "          [ 1.447539  ],\n",
       "          ...,\n",
       "          [ 0.04135826],\n",
       "          [ 0.04135826],\n",
       "          [ 0.04135826]],\n",
       "\n",
       "         ...,\n",
       "\n",
       "         [[ 0.9925982 ],\n",
       "          [ 0.9925982 ],\n",
       "          [ 0.9925982 ],\n",
       "          ...,\n",
       "          [10.339564  ],\n",
       "          [10.339564  ],\n",
       "          [10.339564  ]],\n",
       "\n",
       "         [[ 0.9925982 ],\n",
       "          [ 0.9925982 ],\n",
       "          [ 0.9925982 ],\n",
       "          ...,\n",
       "          [10.298206  ],\n",
       "          [10.256847  ],\n",
       "          [10.256847  ]],\n",
       "\n",
       "         [[ 0.9925982 ],\n",
       "          [ 0.9925982 ],\n",
       "          [ 0.9925982 ],\n",
       "          ...,\n",
       "          [10.256847  ],\n",
       "          [10.256847  ],\n",
       "          [10.256847  ]]],\n",
       "\n",
       "\n",
       "        [[[ 1.4061807 ],\n",
       "          [ 1.4061807 ],\n",
       "          [ 1.4888973 ],\n",
       "          ...,\n",
       "          [ 0.04135826],\n",
       "          [ 0.04135826],\n",
       "          [ 0.04135826]],\n",
       "\n",
       "         [[ 1.4061807 ],\n",
       "          [ 1.4061807 ],\n",
       "          [ 1.4888973 ],\n",
       "          ...,\n",
       "          [ 0.04135826],\n",
       "          [ 0.04135826],\n",
       "          [ 0.04135826]],\n",
       "\n",
       "         [[ 1.447539  ],\n",
       "          [ 1.447539  ],\n",
       "          [ 1.447539  ],\n",
       "          ...,\n",
       "          [ 0.04135826],\n",
       "          [ 0.04135826],\n",
       "          [ 0.04135826]],\n",
       "\n",
       "         ...,\n",
       "\n",
       "         [[ 1.0339564 ],\n",
       "          [ 0.9925982 ],\n",
       "          [ 0.95123994],\n",
       "          ...,\n",
       "          [10.339564  ],\n",
       "          [10.339564  ],\n",
       "          [10.339564  ]],\n",
       "\n",
       "         [[ 0.9925982 ],\n",
       "          [ 0.9925982 ],\n",
       "          [ 0.9925982 ],\n",
       "          ...,\n",
       "          [10.339564  ],\n",
       "          [10.298206  ],\n",
       "          [10.298206  ]],\n",
       "\n",
       "         [[ 0.9925982 ],\n",
       "          [ 0.9925982 ],\n",
       "          [ 0.9925982 ],\n",
       "          ...,\n",
       "          [10.298206  ],\n",
       "          [10.256847  ],\n",
       "          [10.256847  ]]]]], dtype=float32)"
      ]
     },
     "execution_count": 32,
     "metadata": {},
     "output_type": "execute_result"
    }
   ],
   "source": [
    "val = sample.next(); val[0]"
   ]
  },
  {
   "cell_type": "code",
   "execution_count": 33,
   "id": "acf5eb4f-a0da-4a9a-bf24-af13e9cc2fbe",
   "metadata": {
    "tags": []
   },
   "outputs": [
    {
     "name": "stderr",
     "output_type": "stream",
     "text": [
      "Lossy conversion from float32 to uint8. Range [0.0, 9.433606147766113]. Convert image to uint8 prior to saving to suppress this warning.\n",
      "Lossy conversion from float32 to uint8. Range [0.0, 9.433606147766113]. Convert image to uint8 prior to saving to suppress this warning.\n",
      "Lossy conversion from float32 to uint8. Range [0.0, 9.433606147766113]. Convert image to uint8 prior to saving to suppress this warning.\n",
      "Lossy conversion from float32 to uint8. Range [0.0, 9.433606147766113]. Convert image to uint8 prior to saving to suppress this warning.\n",
      "Lossy conversion from float32 to uint8. Range [0.0, 9.433606147766113]. Convert image to uint8 prior to saving to suppress this warning.\n",
      "Lossy conversion from float32 to uint8. Range [0.0, 9.433606147766113]. Convert image to uint8 prior to saving to suppress this warning.\n",
      "Lossy conversion from float32 to uint8. Range [0.0, 9.433606147766113]. Convert image to uint8 prior to saving to suppress this warning.\n",
      "Lossy conversion from float32 to uint8. Range [0.0, 9.433606147766113]. Convert image to uint8 prior to saving to suppress this warning.\n",
      "Lossy conversion from float32 to uint8. Range [0.0, 9.433606147766113]. Convert image to uint8 prior to saving to suppress this warning.\n",
      "Lossy conversion from float32 to uint8. Range [0.0, 9.433606147766113]. Convert image to uint8 prior to saving to suppress this warning.\n",
      "Lossy conversion from float32 to uint8. Range [0.0, 9.433606147766113]. Convert image to uint8 prior to saving to suppress this warning.\n",
      "Lossy conversion from float32 to uint8. Range [0.0, 9.433606147766113]. Convert image to uint8 prior to saving to suppress this warning.\n",
      "Lossy conversion from float32 to uint8. Range [0.0, 9.433606147766113]. Convert image to uint8 prior to saving to suppress this warning.\n",
      "Lossy conversion from float32 to uint8. Range [0.0, 9.433606147766113]. Convert image to uint8 prior to saving to suppress this warning.\n",
      "Lossy conversion from float32 to uint8. Range [0.0, 9.433606147766113]. Convert image to uint8 prior to saving to suppress this warning.\n",
      "Lossy conversion from float32 to uint8. Range [0.0, 9.433606147766113]. Convert image to uint8 prior to saving to suppress this warning.\n",
      "Lossy conversion from float32 to uint8. Range [0.0, 9.433606147766113]. Convert image to uint8 prior to saving to suppress this warning.\n",
      "Lossy conversion from float32 to uint8. Range [0.0, 9.433606147766113]. Convert image to uint8 prior to saving to suppress this warning.\n",
      "Lossy conversion from float32 to uint8. Range [0.0, 9.433606147766113]. Convert image to uint8 prior to saving to suppress this warning.\n",
      "Lossy conversion from float32 to uint8. Range [0.0, 9.433606147766113]. Convert image to uint8 prior to saving to suppress this warning.\n",
      "Lossy conversion from float32 to uint8. Range [0.0, 9.433606147766113]. Convert image to uint8 prior to saving to suppress this warning.\n",
      "Lossy conversion from float32 to uint8. Range [0.0, 9.433606147766113]. Convert image to uint8 prior to saving to suppress this warning.\n",
      "Lossy conversion from float32 to uint8. Range [0.0, 9.433606147766113]. Convert image to uint8 prior to saving to suppress this warning.\n",
      "Lossy conversion from float32 to uint8. Range [0.0, 9.433606147766113]. Convert image to uint8 prior to saving to suppress this warning.\n",
      "Lossy conversion from float32 to uint8. Range [0.0, 9.433606147766113]. Convert image to uint8 prior to saving to suppress this warning.\n",
      "Lossy conversion from float32 to uint8. Range [0.0, 9.433606147766113]. Convert image to uint8 prior to saving to suppress this warning.\n",
      "Lossy conversion from float32 to uint8. Range [0.0, 9.433606147766113]. Convert image to uint8 prior to saving to suppress this warning.\n",
      "Lossy conversion from float32 to uint8. Range [0.0, 9.433606147766113]. Convert image to uint8 prior to saving to suppress this warning.\n",
      "Lossy conversion from float32 to uint8. Range [0.0, 9.433606147766113]. Convert image to uint8 prior to saving to suppress this warning.\n",
      "Lossy conversion from float32 to uint8. Range [0.0, 9.433606147766113]. Convert image to uint8 prior to saving to suppress this warning.\n",
      "Lossy conversion from float32 to uint8. Range [0.0, 9.433606147766113]. Convert image to uint8 prior to saving to suppress this warning.\n",
      "Lossy conversion from float32 to uint8. Range [0.0, 9.433606147766113]. Convert image to uint8 prior to saving to suppress this warning.\n",
      "Lossy conversion from float32 to uint8. Range [0.0, 9.433606147766113]. Convert image to uint8 prior to saving to suppress this warning.\n",
      "Lossy conversion from float32 to uint8. Range [0.0, 9.433606147766113]. Convert image to uint8 prior to saving to suppress this warning.\n",
      "Lossy conversion from float32 to uint8. Range [0.0, 9.433606147766113]. Convert image to uint8 prior to saving to suppress this warning.\n",
      "Lossy conversion from float32 to uint8. Range [0.0, 9.433606147766113]. Convert image to uint8 prior to saving to suppress this warning.\n",
      "Lossy conversion from float32 to uint8. Range [0.0, 9.433606147766113]. Convert image to uint8 prior to saving to suppress this warning.\n",
      "Lossy conversion from float32 to uint8. Range [0.0, 9.433606147766113]. Convert image to uint8 prior to saving to suppress this warning.\n",
      "Lossy conversion from float32 to uint8. Range [0.0, 9.433606147766113]. Convert image to uint8 prior to saving to suppress this warning.\n",
      "Lossy conversion from float32 to uint8. Range [0.0, 9.433606147766113]. Convert image to uint8 prior to saving to suppress this warning.\n",
      "Lossy conversion from float32 to uint8. Range [0.0, 9.433606147766113]. Convert image to uint8 prior to saving to suppress this warning.\n",
      "Lossy conversion from float32 to uint8. Range [0.0, 9.433606147766113]. Convert image to uint8 prior to saving to suppress this warning.\n",
      "Lossy conversion from float32 to uint8. Range [0.0, 9.433606147766113]. Convert image to uint8 prior to saving to suppress this warning.\n",
      "Lossy conversion from float32 to uint8. Range [0.0, 9.433606147766113]. Convert image to uint8 prior to saving to suppress this warning.\n",
      "Lossy conversion from float32 to uint8. Range [0.0, 9.433606147766113]. Convert image to uint8 prior to saving to suppress this warning.\n",
      "Lossy conversion from float32 to uint8. Range [0.0, 9.433606147766113]. Convert image to uint8 prior to saving to suppress this warning.\n",
      "Lossy conversion from float32 to uint8. Range [0.0, 9.433606147766113]. Convert image to uint8 prior to saving to suppress this warning.\n",
      "Lossy conversion from float32 to uint8. Range [0.0, 9.433606147766113]. Convert image to uint8 prior to saving to suppress this warning.\n",
      "Lossy conversion from float32 to uint8. Range [0.0, 9.433606147766113]. Convert image to uint8 prior to saving to suppress this warning.\n",
      "Lossy conversion from float32 to uint8. Range [0.0, 9.433606147766113]. Convert image to uint8 prior to saving to suppress this warning.\n",
      "Lossy conversion from float32 to uint8. Range [0.0, 9.433606147766113]. Convert image to uint8 prior to saving to suppress this warning.\n",
      "Lossy conversion from float32 to uint8. Range [0.0, 9.433606147766113]. Convert image to uint8 prior to saving to suppress this warning.\n",
      "Lossy conversion from float32 to uint8. Range [0.0, 9.433606147766113]. Convert image to uint8 prior to saving to suppress this warning.\n",
      "Lossy conversion from float32 to uint8. Range [0.0, 9.433606147766113]. Convert image to uint8 prior to saving to suppress this warning.\n",
      "Lossy conversion from float32 to uint8. Range [0.0, 9.433606147766113]. Convert image to uint8 prior to saving to suppress this warning.\n",
      "Lossy conversion from float32 to uint8. Range [0.0, 9.433606147766113]. Convert image to uint8 prior to saving to suppress this warning.\n",
      "Lossy conversion from float32 to uint8. Range [0.0, 9.433606147766113]. Convert image to uint8 prior to saving to suppress this warning.\n",
      "Lossy conversion from float32 to uint8. Range [0.0, 9.433606147766113]. Convert image to uint8 prior to saving to suppress this warning.\n",
      "Lossy conversion from float32 to uint8. Range [0.0, 9.433606147766113]. Convert image to uint8 prior to saving to suppress this warning.\n",
      "Lossy conversion from float32 to uint8. Range [0.0, 9.433606147766113]. Convert image to uint8 prior to saving to suppress this warning.\n",
      "Lossy conversion from float32 to uint8. Range [0.0, 9.433606147766113]. Convert image to uint8 prior to saving to suppress this warning.\n",
      "Lossy conversion from float32 to uint8. Range [0.0, 9.433606147766113]. Convert image to uint8 prior to saving to suppress this warning.\n",
      "Lossy conversion from float32 to uint8. Range [0.0, 9.433606147766113]. Convert image to uint8 prior to saving to suppress this warning.\n",
      "Lossy conversion from float32 to uint8. Range [0.0, 9.433606147766113]. Convert image to uint8 prior to saving to suppress this warning.\n",
      "Lossy conversion from float32 to uint8. Range [0.0, 9.433606147766113]. Convert image to uint8 prior to saving to suppress this warning.\n",
      "Lossy conversion from float32 to uint8. Range [0.0, 9.433606147766113]. Convert image to uint8 prior to saving to suppress this warning.\n",
      "Lossy conversion from float32 to uint8. Range [0.0, 9.433606147766113]. Convert image to uint8 prior to saving to suppress this warning.\n",
      "Lossy conversion from float32 to uint8. Range [0.0, 9.433606147766113]. Convert image to uint8 prior to saving to suppress this warning.\n",
      "Lossy conversion from float32 to uint8. Range [0.0, 9.433606147766113]. Convert image to uint8 prior to saving to suppress this warning.\n",
      "Lossy conversion from float32 to uint8. Range [0.0, 9.433606147766113]. Convert image to uint8 prior to saving to suppress this warning.\n",
      "Lossy conversion from float32 to uint8. Range [0.0, 9.433606147766113]. Convert image to uint8 prior to saving to suppress this warning.\n",
      "Lossy conversion from float32 to uint8. Range [0.0, 9.433606147766113]. Convert image to uint8 prior to saving to suppress this warning.\n",
      "Lossy conversion from float32 to uint8. Range [0.0, 9.433606147766113]. Convert image to uint8 prior to saving to suppress this warning.\n",
      "Lossy conversion from float32 to uint8. Range [0.0, 9.433606147766113]. Convert image to uint8 prior to saving to suppress this warning.\n",
      "Lossy conversion from float32 to uint8. Range [0.0, 9.433606147766113]. Convert image to uint8 prior to saving to suppress this warning.\n"
     ]
    }
   ],
   "source": [
    "imageio.mimsave('./animation.gif', val[0][0], fps=10)"
   ]
  },
  {
   "cell_type": "code",
   "execution_count": 34,
   "id": "c33a87a2-d5e0-4ec9-b174-73ebf41bf03a",
   "metadata": {
    "tags": []
   },
   "outputs": [
    {
     "data": {
      "text/plain": [
       "<matplotlib.image.AxesImage at 0x24f5264a0a0>"
      ]
     },
     "execution_count": 34,
     "metadata": {},
     "output_type": "execute_result"
    },
    {
     "data": {
      "image/png": "[encoded data removed]",
      "text/plain": [
       "<Figure size 640x480 with 1 Axes>"
      ]
     },
     "metadata": {},
     "output_type": "display_data"
    }
   ],
   "source": [
    "# 0:videos, 0: 1st video out of the batch,  0: return the first frame in the video \n",
    "plt.imshow(val[0][0][0])"
   ]
  },
  {
   "cell_type": "code",
   "execution_count": 35,
   "id": "84593332-133c-4205-b7a6-8e235d5e2b3b",
   "metadata": {
    "tags": []
   },
   "outputs": [
    {
     "data": {
      "text/plain": [
       "<tf.Tensor: shape=(), dtype=string, numpy=b'bin green in n one soon'>"
      ]
     },
     "execution_count": 35,
     "metadata": {},
     "output_type": "execute_result"
    }
   ],
   "source": [
    "tf.strings.reduce_join([num_to_char(word) for word in val[1][0]])"
   ]
  },
  {
   "cell_type": "markdown",
   "id": "0f47733c-83bc-465c-b118-b198b492ad37",
   "metadata": {
    "tags": []
   },
   "source": [
    "# 3. Design the Deep Neural Network"
   ]
  },
  {
   "cell_type": "code",
   "execution_count": 36,
   "id": "d8e9a497-191b-4842-afbd-26f5e13c43ba",
   "metadata": {
    "tags": []
   },
   "outputs": [],
   "source": [
    "from tensorflow.keras.models import Sequential \n",
    "from tensorflow.keras.layers import Conv3D, LSTM, Dense, Dropout, Bidirectional, MaxPool3D, Activation, Reshape, TimeDistributed, Flatten\n",
    "from tensorflow.keras.optimizers import Adam\n",
    "from tensorflow.keras.callbacks import ModelCheckpoint, LearningRateScheduler"
   ]
  },
  {
   "cell_type": "code",
   "execution_count": 37,
   "id": "3f753ed2-70b9-4236-8c1c-08ca065dc8bf",
   "metadata": {},
   "outputs": [
    {
     "data": {
      "text/plain": [
       "(75, 46, 140, 1)"
      ]
     },
     "execution_count": 37,
     "metadata": {},
     "output_type": "execute_result"
    }
   ],
   "source": [
    "data.as_numpy_iterator().next()[0][1].shape"
   ]
  },
  {
   "cell_type": "code",
   "execution_count": 38,
   "id": "f9171056-a352-491a-9ed9-92b28ced268e",
   "metadata": {
    "tags": []
   },
   "outputs": [],
   "source": [
    "model = Sequential()\n",
    "model.add(Conv3D(128, 3, input_shape=(75,46,140,1), padding='same'))\n",
    "model.add(Activation('relu')) # Give non linearity to our network\n",
    "model.add(MaxPool3D((1,2,2))) # Take max value from each of our frames, and condense it to 2x2 shape\n",
    "\n",
    "model.add(Conv3D(256, 3, padding='same'))\n",
    "model.add(Activation('relu'))\n",
    "model.add(MaxPool3D((1,2,2)))\n",
    "\n",
    "model.add(Conv3D(75, 3, padding='same'))\n",
    "model.add(Activation('relu'))\n",
    "model.add(MaxPool3D((1,2,2)))\n",
    "\n",
    "model.add(TimeDistributed(Flatten())) # Allow us to have 75 inputs to LSTM -NN and that output 75 characters\n",
    "\n",
    "model.add(Bidirectional(LSTM(128, kernel_initializer='Orthogonal', return_sequences=True))) \n",
    "model.add(Dropout(.5))\n",
    "\n",
    "model.add(Bidirectional(LSTM(128, kernel_initializer='Orthogonal', return_sequences=True)))\n",
    "model.add(Dropout(.5))\n",
    "\n",
    "model.add(Dense(char_to_num.vocabulary_size()+1, kernel_initializer='he_normal', activation='softmax'))\n",
    "# Talking 41 units which is 40+1 for the special token"
   ]
  },
  {
   "cell_type": "code",
   "execution_count": 39,
   "id": "99d5c51e",
   "metadata": {},
   "outputs": [
    {
     "name": "stdout",
     "output_type": "stream",
     "text": [
      "WARNING:tensorflow:vocab_size is deprecated, please use vocabulary_size.\n"
     ]
    },
    {
     "data": {
      "text/plain": [
       "40"
      ]
     },
     "execution_count": 39,
     "metadata": {},
     "output_type": "execute_result"
    }
   ],
   "source": [
    "char_to_num.vocab_size()"
   ]
  },
  {
   "cell_type": "code",
   "execution_count": 40,
   "id": "78851825-2bcd-42a9-b7f2-28bb5a6bf43a",
   "metadata": {
    "collapsed": true,
    "jupyter": {
     "outputs_hidden": true
    },
    "tags": []
   },
   "outputs": [
    {
     "name": "stdout",
     "output_type": "stream",
     "text": [
      "Model: \"sequential\"\n",
      "_________________________________________________________________\n",
      " Layer (type)                Output Shape              Param #   \n",
      "=================================================================\n",
      " conv3d (Conv3D)             (None, 75, 46, 140, 128)  3584      \n",
      "                                                                 \n",
      " activation (Activation)     (None, 75, 46, 140, 128)  0         \n",
      "                                                                 \n",
      " max_pooling3d (MaxPooling3D  (None, 75, 23, 70, 128)  0         \n",
      " )                                                               \n",
      "                                                                 \n",
      " conv3d_1 (Conv3D)           (None, 75, 23, 70, 256)   884992    \n",
      "                                                                 \n",
      " activation_1 (Activation)   (None, 75, 23, 70, 256)   0         \n",
      "                                                                 \n",
      " max_pooling3d_1 (MaxPooling  (None, 75, 11, 35, 256)  0         \n",
      " 3D)                                                             \n",
      "                                                                 \n",
      " conv3d_2 (Conv3D)           (None, 75, 11, 35, 75)    518475    \n",
      "                                                                 \n",
      " activation_2 (Activation)   (None, 75, 11, 35, 75)    0         \n",
      "                                                                 \n",
      " max_pooling3d_2 (MaxPooling  (None, 75, 5, 17, 75)    0         \n",
      " 3D)                                                             \n",
      "                                                                 \n",
      " time_distributed (TimeDistr  (None, 75, 6375)         0         \n",
      " ibuted)                                                         \n",
      "                                                                 \n",
      " bidirectional (Bidirectiona  (None, 75, 256)          6660096   \n",
      " l)                                                              \n",
      "                                                                 \n",
      " dropout (Dropout)           (None, 75, 256)           0         \n",
      "                                                                 \n",
      " bidirectional_1 (Bidirectio  (None, 75, 256)          394240    \n",
      " nal)                                                            \n",
      "                                                                 \n",
      " dropout_1 (Dropout)         (None, 75, 256)           0         \n",
      "                                                                 \n",
      " dense (Dense)               (None, 75, 41)            10537     \n",
      "                                                                 \n",
      "=================================================================\n",
      "Total params: 8,471,924\n",
      "Trainable params: 8,471,924\n",
      "Non-trainable params: 0\n",
      "_________________________________________________________________\n"
     ]
    }
   ],
   "source": [
    "model.summary()"
   ]
  },
  {
   "cell_type": "code",
   "execution_count": 41,
   "id": "f4b4798c-a65a-4c47-9e2a-3b09dc98d320",
   "metadata": {},
   "outputs": [
    {
     "data": {
      "text/plain": [
       "6375"
      ]
     },
     "execution_count": 41,
     "metadata": {},
     "output_type": "execute_result"
    }
   ],
   "source": [
    "5*17*75\n",
    "# 128 x 2 = 256 (Since Bidirectional)"
   ]
  },
  {
   "cell_type": "code",
   "execution_count": 42,
   "id": "e5c2eae0-c359-41a4-97a0-75c44dccb7d1",
   "metadata": {
    "tags": []
   },
   "outputs": [
    {
     "name": "stdout",
     "output_type": "stream",
     "text": [
      "1/1 [==============================] - 2s 2s/step\n"
     ]
    }
   ],
   "source": [
    "yhat = model.predict(val[0])"
   ]
  },
  {
   "cell_type": "code",
   "execution_count": 43,
   "id": "a564c1ad",
   "metadata": {},
   "outputs": [
    {
     "data": {
      "text/plain": [
       "(2, 75, 41)"
      ]
     },
     "execution_count": 43,
     "metadata": {},
     "output_type": "execute_result"
    }
   ],
   "source": [
    "yhat.shape"
   ]
  },
  {
   "cell_type": "code",
   "execution_count": 44,
   "id": "c47fd348",
   "metadata": {},
   "outputs": [
    {
     "data": {
      "text/plain": [
       "<tf.Tensor: shape=(75,), dtype=int64, numpy=\n",
       "array([33, 23, 23, 26, 26, 26, 26, 26, 26, 26, 26, 26, 26, 26, 26, 26, 26,\n",
       "       26, 26, 26, 26, 26, 26, 26, 26, 26, 26, 26, 26, 26, 26, 26, 26, 26,\n",
       "       26, 26, 26, 26, 26, 26, 26, 26, 26, 26, 26, 26, 26, 26, 26, 26, 26,\n",
       "       26, 26, 26, 26, 26, 26, 26, 26, 26, 26, 26, 26, 26, 26, 26, 26, 26,\n",
       "       26, 26, 26, 26, 26, 26, 26], dtype=int64)>"
      ]
     },
     "execution_count": 44,
     "metadata": {},
     "output_type": "execute_result"
    }
   ],
   "source": [
    "tf.argmax(yhat[0], axis=1)"
   ]
  },
  {
   "cell_type": "code",
   "execution_count": 45,
   "id": "ffdc7319-0d69-4f7e-a6d4-ce72deb81c0b",
   "metadata": {},
   "outputs": [
    {
     "data": {
      "text/plain": [
       "<tf.Tensor: shape=(), dtype=string, numpy=b'4wwzzzzzzzzzzzzzzzzzzzzzzzzzzzzzzzzzzzzzzzzzzzzzzzzzzzzzzzzzzzzzzzzzzzzzzzz'>"
      ]
     },
     "execution_count": 45,
     "metadata": {},
     "output_type": "execute_result"
    }
   ],
   "source": [
    "tf.strings.reduce_join([num_to_char(x) for x in tf.argmax(yhat[0],axis=1)])"
   ]
  },
  {
   "cell_type": "code",
   "execution_count": 46,
   "id": "6ed47531-8317-4255-9a12-b757642258e6",
   "metadata": {
    "tags": []
   },
   "outputs": [
    {
     "data": {
      "text/plain": [
       "<tf.Tensor: shape=(), dtype=string, numpy=b'4wwzzzzzzzzzzzzzzzzzzzzzzzzzzzzzzzzzzzzzzzzzzzzzzzzzzzzzzzzzzzzzzzzzzzzzzzz'>"
      ]
     },
     "execution_count": 46,
     "metadata": {},
     "output_type": "execute_result"
    }
   ],
   "source": [
    "tf.strings.reduce_join([num_to_char(tf.argmax(x)) for x in yhat[0]])"
   ]
  },
  {
   "cell_type": "code",
   "execution_count": 47,
   "id": "7c37b9b9-5298-4038-9c33-5031d1b457f0",
   "metadata": {
    "tags": []
   },
   "outputs": [
    {
     "data": {
      "text/plain": [
       "(None, 75, 46, 140, 1)"
      ]
     },
     "execution_count": 47,
     "metadata": {},
     "output_type": "execute_result"
    }
   ],
   "source": [
    "model.input_shape"
   ]
  },
  {
   "cell_type": "code",
   "execution_count": 48,
   "id": "98b316a4-5322-4782-8e36-4b3c1a696d85",
   "metadata": {
    "tags": []
   },
   "outputs": [
    {
     "data": {
      "text/plain": [
       "(None, 75, 41)"
      ]
     },
     "execution_count": 48,
     "metadata": {},
     "output_type": "execute_result"
    }
   ],
   "source": [
    "model.output_shape"
   ]
  },
  {
   "cell_type": "markdown",
   "id": "2ec02176-5c26-46c3-aff7-8352e6563c7d",
   "metadata": {
    "tags": []
   },
   "source": [
    "# 4. Model Training"
   ]
  },
  {
   "cell_type": "code",
   "execution_count": 49,
   "id": "ab015fd0-7fb4-4d5d-9fa2-30a05dbd515a",
   "metadata": {
    "tags": []
   },
   "outputs": [],
   "source": [
    "def scheduler(epoch, lr):\n",
    "    if epoch < 30:\n",
    "        return lr\n",
    "    else:\n",
    "        return lr * tf.math.exp(-0.1)"
   ]
  },
  {
   "cell_type": "code",
   "execution_count": 50,
   "id": "c564d5c9-db54-4e88-b311-9aeab7fb3e69",
   "metadata": {
    "tags": []
   },
   "outputs": [],
   "source": [
    "def CTCLoss(y_true, y_pred):\n",
    "    batch_len = tf.cast(tf.shape(y_true)[0], dtype=\"int64\")\n",
    "    input_length = tf.cast(tf.shape(y_pred)[1], dtype=\"int64\")\n",
    "    label_length = tf.cast(tf.shape(y_true)[1], dtype=\"int64\")\n",
    "\n",
    "    input_length = input_length * tf.ones(shape=(batch_len, 1), dtype=\"int64\")\n",
    "    label_length = label_length * tf.ones(shape=(batch_len, 1), dtype=\"int64\")\n",
    "\n",
    "    loss = tf.keras.backend.ctc_batch_cost(y_true, y_pred, input_length, label_length)\n",
    "    return loss"
   ]
  },
  {
   "cell_type": "code",
   "execution_count": 51,
   "id": "a26dc3fc-a19c-4378-bd8c-e2b597a1d15c",
   "metadata": {
    "tags": []
   },
   "outputs": [],
   "source": [
    "class ProduceExample(tf.keras.callbacks.Callback): \n",
    "    def __init__(self, dataset) -> None: \n",
    "        self.dataset = dataset.as_numpy_iterator()\n",
    "    \n",
    "    def on_epoch_end(self, epoch, logs=None) -> None:\n",
    "        data = self.dataset.next()\n",
    "        yhat = self.model.predict(data[0])\n",
    "        decoded = tf.keras.backend.ctc_decode(yhat, [75,75], greedy=False)[0][0].numpy()\n",
    "        for x in range(len(yhat)):           \n",
    "            print('Original:', tf.strings.reduce_join(num_to_char(data[1][x])).numpy().decode('utf-8'))\n",
    "            print('Prediction:', tf.strings.reduce_join(num_to_char(decoded[x])).numpy().decode('utf-8'))\n",
    "            print('~'*100)"
   ]
  },
  {
   "cell_type": "code",
   "execution_count": 52,
   "id": "04be90d8-2482-46f9-b513-d5f4f8001c7e",
   "metadata": {
    "tags": []
   },
   "outputs": [],
   "source": [
    "model.compile(optimizer=Adam(learning_rate=0.0001), loss=CTCLoss)"
   ]
  },
  {
   "cell_type": "code",
   "execution_count": 53,
   "id": "eab49367-3f1e-4464-ae76-dbd07549d97e",
   "metadata": {
    "tags": []
   },
   "outputs": [],
   "source": [
    "checkpoint_callback = ModelCheckpoint(os.path.join('models','checkpoint'), monitor='loss', save_weights_only=True) "
   ]
  },
  {
   "cell_type": "code",
   "execution_count": 54,
   "id": "e085a632-d464-46ef-8777-959cad4adb2c",
   "metadata": {
    "tags": []
   },
   "outputs": [],
   "source": [
    "schedule_callback = LearningRateScheduler(scheduler)"
   ]
  },
  {
   "cell_type": "code",
   "execution_count": 55,
   "id": "48eca991-90ab-4592-8a79-b50e9ca015b6",
   "metadata": {
    "tags": []
   },
   "outputs": [],
   "source": [
    "example_callback = ProduceExample(test)"
   ]
  },
  {
   "cell_type": "code",
   "execution_count": 56,
   "id": "8ffba483-aa61-4bbe-a15f-a73e1ddf097c",
   "metadata": {
    "tags": []
   },
   "outputs": [],
   "source": [
    "# model.fit(train, validation_data=test, epochs=10, callbacks=[checkpoint_callback, schedule_callback, example_callback])"
   ]
  },
  {
   "cell_type": "markdown",
   "id": "fa8ee94b-89f7-4733-8a0c-a86f86ff590a",
   "metadata": {
    "tags": []
   },
   "source": [
    "# 5. Predicting the model"
   ]
  },
  {
   "cell_type": "code",
   "execution_count": 57,
   "id": "247f664d-3c87-4e96-946e-930dad0e1c2c",
   "metadata": {
    "tags": []
   },
   "outputs": [
    {
     "data": {
      "text/plain": [
       "<tensorflow.python.checkpoint.checkpoint.CheckpointLoadStatus at 0x24f46fae2e0>"
      ]
     },
     "execution_count": 57,
     "metadata": {},
     "output_type": "execute_result"
    }
   ],
   "source": [
    "model.load_weights('models_50_e/checkpoint')"
   ]
  },
  {
   "cell_type": "code",
   "execution_count": 58,
   "id": "7f8d689f-b7bb-443c-9b88-e40c1d800828",
   "metadata": {
    "tags": []
   },
   "outputs": [],
   "source": [
    "test_data = test.as_numpy_iterator()"
   ]
  },
  {
   "cell_type": "code",
   "execution_count": 59,
   "id": "38546dc2-bee9-4837-864b-8a884df40ad7",
   "metadata": {
    "tags": []
   },
   "outputs": [],
   "source": [
    "sample = test_data.next()"
   ]
  },
  {
   "cell_type": "code",
   "execution_count": 60,
   "id": "5b1400c5",
   "metadata": {},
   "outputs": [
    {
     "data": {
      "text/plain": [
       "(array([[[[[1.5360624 ],\n",
       "           [1.4985974 ],\n",
       "           [1.6484572 ],\n",
       "           ...,\n",
       "           [0.1123948 ],\n",
       "           [0.37464935],\n",
       "           [0.37464935]],\n",
       " \n",
       "          [[1.5735272 ],\n",
       "           [1.4985974 ],\n",
       "           [1.6484572 ],\n",
       "           ...,\n",
       "           [0.14985974],\n",
       "           [0.4495792 ],\n",
       "           [0.4121143 ]],\n",
       " \n",
       "          [[1.3862026 ],\n",
       "           [1.3862026 ],\n",
       "           [1.4236676 ],\n",
       "           ...,\n",
       "           [0.2247896 ],\n",
       "           [0.29971948],\n",
       "           [0.29971948]],\n",
       " \n",
       "          ...,\n",
       " \n",
       "          [[1.0864831 ],\n",
       "           [1.0490181 ],\n",
       "           [1.0490181 ],\n",
       "           ...,\n",
       "           [0.14985974],\n",
       "           [0.1123948 ],\n",
       "           [0.1123948 ]],\n",
       " \n",
       "          [[1.0490181 ],\n",
       "           [1.0490181 ],\n",
       "           [1.0490181 ],\n",
       "           ...,\n",
       "           [0.1123948 ],\n",
       "           [0.1123948 ],\n",
       "           [0.07492987]],\n",
       " \n",
       "          [[1.0490181 ],\n",
       "           [1.0490181 ],\n",
       "           [1.0490181 ],\n",
       "           ...,\n",
       "           [0.07492987],\n",
       "           [0.07492987],\n",
       "           [0.07492987]]],\n",
       " \n",
       " \n",
       "         [[[1.4611324 ],\n",
       "           [1.4611324 ],\n",
       "           [1.5735272 ],\n",
       "           ...,\n",
       "           [0.18732467],\n",
       "           [0.37464935],\n",
       "           [0.37464935]],\n",
       " \n",
       "          [[1.4611324 ],\n",
       "           [1.4611324 ],\n",
       "           [1.5735272 ],\n",
       "           ...,\n",
       "           [0.18732467],\n",
       "           [0.4121143 ],\n",
       "           [0.4495792 ]],\n",
       " \n",
       "          [[1.4985974 ],\n",
       "           [1.4985974 ],\n",
       "           [1.4236676 ],\n",
       "           ...,\n",
       "           [0.2247896 ],\n",
       "           [0.26225454],\n",
       "           [0.26225454]],\n",
       " \n",
       "          ...,\n",
       " \n",
       "          [[1.0864831 ],\n",
       "           [1.0490181 ],\n",
       "           [1.0490181 ],\n",
       "           ...,\n",
       "           [0.18732467],\n",
       "           [0.1123948 ],\n",
       "           [0.1123948 ]],\n",
       " \n",
       "          [[1.0490181 ],\n",
       "           [1.0490181 ],\n",
       "           [1.0490181 ],\n",
       "           ...,\n",
       "           [0.1123948 ],\n",
       "           [0.1123948 ],\n",
       "           [0.1123948 ]],\n",
       " \n",
       "          [[1.0490181 ],\n",
       "           [1.0490181 ],\n",
       "           [1.0490181 ],\n",
       "           ...,\n",
       "           [0.1123948 ],\n",
       "           [0.07492987],\n",
       "           [0.07492987]]],\n",
       " \n",
       " \n",
       "         [[[1.4236676 ],\n",
       "           [1.3862026 ],\n",
       "           [1.5735272 ],\n",
       "           ...,\n",
       "           [0.26225454],\n",
       "           [0.3371844 ],\n",
       "           [0.37464935]],\n",
       " \n",
       "          [[1.3862026 ],\n",
       "           [1.3862026 ],\n",
       "           [1.5360624 ],\n",
       "           ...,\n",
       "           [0.18732467],\n",
       "           [0.29971948],\n",
       "           [0.37464935]],\n",
       " \n",
       "          [[1.4611324 ],\n",
       "           [1.4611324 ],\n",
       "           [1.3862026 ],\n",
       "           ...,\n",
       "           [0.2247896 ],\n",
       "           [0.26225454],\n",
       "           [0.26225454]],\n",
       " \n",
       "          ...,\n",
       " \n",
       "          [[1.0864831 ],\n",
       "           [1.0490181 ],\n",
       "           [1.0490181 ],\n",
       "           ...,\n",
       "           [0.14985974],\n",
       "           [0.14985974],\n",
       "           [0.14985974]],\n",
       " \n",
       "          [[1.0490181 ],\n",
       "           [1.0490181 ],\n",
       "           [1.0490181 ],\n",
       "           ...,\n",
       "           [0.1123948 ],\n",
       "           [0.1123948 ],\n",
       "           [0.1123948 ]],\n",
       " \n",
       "          [[1.0490181 ],\n",
       "           [1.0490181 ],\n",
       "           [1.0490181 ],\n",
       "           ...,\n",
       "           [0.1123948 ],\n",
       "           [0.07492987],\n",
       "           [0.07492987]]],\n",
       " \n",
       " \n",
       "         ...,\n",
       " \n",
       " \n",
       "         [[[1.6109922 ],\n",
       "           [1.6109922 ],\n",
       "           [1.3487376 ],\n",
       "           ...,\n",
       "           [0.29971948],\n",
       "           [0.3371844 ],\n",
       "           [0.3371844 ]],\n",
       " \n",
       "          [[1.6109922 ],\n",
       "           [1.5735272 ],\n",
       "           [1.2738078 ],\n",
       "           ...,\n",
       "           [0.29971948],\n",
       "           [0.3371844 ],\n",
       "           [0.3371844 ]],\n",
       " \n",
       "          [[1.4236676 ],\n",
       "           [1.4236676 ],\n",
       "           [1.4611324 ],\n",
       "           ...,\n",
       "           [0.37464935],\n",
       "           [0.37464935],\n",
       "           [0.37464935]],\n",
       " \n",
       "          ...,\n",
       " \n",
       "          [[1.0115532 ],\n",
       "           [1.0115532 ],\n",
       "           [1.0115532 ],\n",
       "           ...,\n",
       "           [0.07492987],\n",
       "           [0.07492987],\n",
       "           [0.07492987]],\n",
       " \n",
       "          [[1.0115532 ],\n",
       "           [1.0115532 ],\n",
       "           [1.0115532 ],\n",
       "           ...,\n",
       "           [0.07492987],\n",
       "           [0.07492987],\n",
       "           [0.07492987]],\n",
       " \n",
       "          [[1.0115532 ],\n",
       "           [1.0115532 ],\n",
       "           [0.9740883 ],\n",
       "           ...,\n",
       "           [0.07492987],\n",
       "           [0.07492987],\n",
       "           [0.03746494]]],\n",
       " \n",
       " \n",
       "         [[[1.5360624 ],\n",
       "           [1.5360624 ],\n",
       "           [1.4611324 ],\n",
       "           ...,\n",
       "           [0.3371844 ],\n",
       "           [0.3371844 ],\n",
       "           [0.3371844 ]],\n",
       " \n",
       "          [[1.4985974 ],\n",
       "           [1.5360624 ],\n",
       "           [1.3862026 ],\n",
       "           ...,\n",
       "           [0.3371844 ],\n",
       "           [0.3371844 ],\n",
       "           [0.3371844 ]],\n",
       " \n",
       "          [[1.4611324 ],\n",
       "           [1.4611324 ],\n",
       "           [1.4236676 ],\n",
       "           ...,\n",
       "           [0.37464935],\n",
       "           [0.37464935],\n",
       "           [0.37464935]],\n",
       " \n",
       "          ...,\n",
       " \n",
       "          [[1.0864831 ],\n",
       "           [1.0490181 ],\n",
       "           [1.0490181 ],\n",
       "           ...,\n",
       "           [0.14985974],\n",
       "           [0.1123948 ],\n",
       "           [0.07492987]],\n",
       " \n",
       "          [[1.0115532 ],\n",
       "           [1.0115532 ],\n",
       "           [1.0490181 ],\n",
       "           ...,\n",
       "           [0.1123948 ],\n",
       "           [0.1123948 ],\n",
       "           [0.07492987]],\n",
       " \n",
       "          [[1.0115532 ],\n",
       "           [1.0115532 ],\n",
       "           [1.0490181 ],\n",
       "           ...,\n",
       "           [0.1123948 ],\n",
       "           [0.1123948 ],\n",
       "           [0.03746494]]],\n",
       " \n",
       " \n",
       "         [[[1.5360624 ],\n",
       "           [1.5360624 ],\n",
       "           [1.3862026 ],\n",
       "           ...,\n",
       "           [0.29971948],\n",
       "           [0.3371844 ],\n",
       "           [0.3371844 ]],\n",
       " \n",
       "          [[1.4611324 ],\n",
       "           [1.4236676 ],\n",
       "           [1.3862026 ],\n",
       "           ...,\n",
       "           [0.29971948],\n",
       "           [0.3371844 ],\n",
       "           [0.3371844 ]],\n",
       " \n",
       "          [[1.4611324 ],\n",
       "           [1.4611324 ],\n",
       "           [1.4611324 ],\n",
       "           ...,\n",
       "           [0.37464935],\n",
       "           [0.3371844 ],\n",
       "           [0.3371844 ]],\n",
       " \n",
       "          ...,\n",
       " \n",
       "          [[1.0490181 ],\n",
       "           [1.0115532 ],\n",
       "           [1.0115532 ],\n",
       "           ...,\n",
       "           [0.18732467],\n",
       "           [0.14985974],\n",
       "           [0.1123948 ]],\n",
       " \n",
       "          [[1.0115532 ],\n",
       "           [0.9740883 ],\n",
       "           [1.0115532 ],\n",
       "           ...,\n",
       "           [0.14985974],\n",
       "           [0.1123948 ],\n",
       "           [0.1123948 ]],\n",
       " \n",
       "          [[1.0115532 ],\n",
       "           [0.9740883 ],\n",
       "           [1.0115532 ],\n",
       "           ...,\n",
       "           [0.1123948 ],\n",
       "           [0.1123948 ],\n",
       "           [0.07492987]]]],\n",
       " \n",
       " \n",
       " \n",
       "        [[[[1.4997169 ],\n",
       "           [1.5728738 ],\n",
       "           [1.5728738 ],\n",
       "           ...,\n",
       "           [0.40236306],\n",
       "           [0.40236306],\n",
       "           [0.40236306]],\n",
       " \n",
       "          [[1.5362953 ],\n",
       "           [1.5728738 ],\n",
       "           [1.5728738 ],\n",
       "           ...,\n",
       "           [0.40236306],\n",
       "           [0.40236306],\n",
       "           [0.40236306]],\n",
       " \n",
       "          [[1.4265599 ],\n",
       "           [1.4265599 ],\n",
       "           [1.4265599 ],\n",
       "           ...,\n",
       "           [0.36578462],\n",
       "           [0.36578462],\n",
       "           [0.36578462]],\n",
       " \n",
       "          ...,\n",
       " \n",
       "          [[1.0973538 ],\n",
       "           [1.0607754 ],\n",
       "           [1.0607754 ],\n",
       "           ...,\n",
       "           [0.07315692],\n",
       "           [0.07315692],\n",
       "           [0.03657846]],\n",
       " \n",
       "          [[1.0607754 ],\n",
       "           [1.0607754 ],\n",
       "           [1.0607754 ],\n",
       "           ...,\n",
       "           [0.07315692],\n",
       "           [0.07315692],\n",
       "           [0.03657846]],\n",
       " \n",
       "          [[1.0607754 ],\n",
       "           [1.0607754 ],\n",
       "           [1.0607754 ],\n",
       "           ...,\n",
       "           [0.07315692],\n",
       "           [0.07315692],\n",
       "           [0.03657846]]],\n",
       " \n",
       " \n",
       "         [[[1.5362953 ],\n",
       "           [1.4997169 ],\n",
       "           [1.5728738 ],\n",
       "           ...,\n",
       "           [0.43894154],\n",
       "           [0.32920614],\n",
       "           [0.32920614]],\n",
       " \n",
       "          [[1.5362953 ],\n",
       "           [1.5362953 ],\n",
       "           [1.4997169 ],\n",
       "           ...,\n",
       "           [0.43894154],\n",
       "           [0.32920614],\n",
       "           [0.32920614]],\n",
       " \n",
       "          [[1.4997169 ],\n",
       "           [1.4997169 ],\n",
       "           [1.5362953 ],\n",
       "           ...,\n",
       "           [0.36578462],\n",
       "           [0.36578462],\n",
       "           [0.36578462]],\n",
       " \n",
       "          ...,\n",
       " \n",
       "          [[1.0607754 ],\n",
       "           [1.0241969 ],\n",
       "           [1.0241969 ],\n",
       "           ...,\n",
       "           [0.14631385],\n",
       "           [0.10973538],\n",
       "           [0.10973538]],\n",
       " \n",
       "          [[1.0241969 ],\n",
       "           [1.0241969 ],\n",
       "           [1.0241969 ],\n",
       "           ...,\n",
       "           [0.14631385],\n",
       "           [0.10973538],\n",
       "           [0.10973538]],\n",
       " \n",
       "          [[1.0241969 ],\n",
       "           [1.0241969 ],\n",
       "           [1.0241969 ],\n",
       "           ...,\n",
       "           [0.10973538],\n",
       "           [0.07315692],\n",
       "           [0.07315692]]],\n",
       " \n",
       " \n",
       "         [[[1.5728738 ],\n",
       "           [1.5362953 ],\n",
       "           [1.5728738 ],\n",
       "           ...,\n",
       "           [0.40236306],\n",
       "           [0.36578462],\n",
       "           [0.36578462]],\n",
       " \n",
       "          [[1.5728738 ],\n",
       "           [1.5728738 ],\n",
       "           [1.4997169 ],\n",
       "           ...,\n",
       "           [0.40236306],\n",
       "           [0.36578462],\n",
       "           [0.36578462]],\n",
       " \n",
       "          [[1.5362953 ],\n",
       "           [1.5362953 ],\n",
       "           [1.5362953 ],\n",
       "           ...,\n",
       "           [0.36578462],\n",
       "           [0.36578462],\n",
       "           [0.36578462]],\n",
       " \n",
       "          ...,\n",
       " \n",
       "          [[1.0607754 ],\n",
       "           [1.0607754 ],\n",
       "           [1.0241969 ],\n",
       "           ...,\n",
       "           [0.14631385],\n",
       "           [0.14631385],\n",
       "           [0.10973538]],\n",
       " \n",
       "          [[1.0607754 ],\n",
       "           [1.0241969 ],\n",
       "           [1.0241969 ],\n",
       "           ...,\n",
       "           [0.14631385],\n",
       "           [0.10973538],\n",
       "           [0.07315692]],\n",
       " \n",
       "          [[1.0607754 ],\n",
       "           [1.0241969 ],\n",
       "           [1.0241969 ],\n",
       "           ...,\n",
       "           [0.10973538],\n",
       "           [0.10973538],\n",
       "           [0.07315692]]],\n",
       " \n",
       " \n",
       "         ...,\n",
       " \n",
       " \n",
       "         [[[1.4997169 ],\n",
       "           [1.4265599 ],\n",
       "           [1.5362953 ],\n",
       "           ...,\n",
       "           [0.40236306],\n",
       "           [0.32920614],\n",
       "           [0.32920614]],\n",
       " \n",
       "          [[1.4997169 ],\n",
       "           [1.4631385 ],\n",
       "           [1.5362953 ],\n",
       "           ...,\n",
       "           [0.43894154],\n",
       "           [0.36578462],\n",
       "           [0.36578462]],\n",
       " \n",
       "          [[1.5362953 ],\n",
       "           [1.5362953 ],\n",
       "           [1.5362953 ],\n",
       "           ...,\n",
       "           [0.36578462],\n",
       "           [0.36578462],\n",
       "           [0.36578462]],\n",
       " \n",
       "          ...,\n",
       " \n",
       "          [[1.0973538 ],\n",
       "           [1.0973538 ],\n",
       "           [1.0607754 ],\n",
       "           ...,\n",
       "           [0.10973538],\n",
       "           [0.07315692],\n",
       "           [0.07315692]],\n",
       " \n",
       "          [[1.0973538 ],\n",
       "           [1.0973538 ],\n",
       "           [1.0973538 ],\n",
       "           ...,\n",
       "           [0.10973538],\n",
       "           [0.07315692],\n",
       "           [0.03657846]],\n",
       " \n",
       "          [[1.0973538 ],\n",
       "           [1.0973538 ],\n",
       "           [1.0607754 ],\n",
       "           ...,\n",
       "           [0.10973538],\n",
       "           [0.03657846],\n",
       "           [0.03657846]]],\n",
       " \n",
       " \n",
       "         [[[1.5728738 ],\n",
       "           [1.5728738 ],\n",
       "           [1.4997169 ],\n",
       "           ...,\n",
       "           [0.43894154],\n",
       "           [0.40236306],\n",
       "           [0.40236306]],\n",
       " \n",
       "          [[1.6094522 ],\n",
       "           [1.5362953 ],\n",
       "           [1.3899815 ],\n",
       "           ...,\n",
       "           [0.47551998],\n",
       "           [0.43894154],\n",
       "           [0.43894154]],\n",
       " \n",
       "          [[1.4265599 ],\n",
       "           [1.4265599 ],\n",
       "           [1.4265599 ],\n",
       "           ...,\n",
       "           [0.36578462],\n",
       "           [0.36578462],\n",
       "           [0.36578462]],\n",
       " \n",
       "          ...,\n",
       " \n",
       "          [[1.0607754 ],\n",
       "           [1.0607754 ],\n",
       "           [1.0241969 ],\n",
       "           ...,\n",
       "           [0.10973538],\n",
       "           [0.07315692],\n",
       "           [0.07315692]],\n",
       " \n",
       "          [[1.0607754 ],\n",
       "           [1.0607754 ],\n",
       "           [1.0607754 ],\n",
       "           ...,\n",
       "           [0.10973538],\n",
       "           [0.07315692],\n",
       "           [0.03657846]],\n",
       " \n",
       "          [[1.0607754 ],\n",
       "           [1.0607754 ],\n",
       "           [1.0241969 ],\n",
       "           ...,\n",
       "           [0.10973538],\n",
       "           [0.03657846],\n",
       "           [0.03657846]]],\n",
       " \n",
       " \n",
       "         [[[1.5728738 ],\n",
       "           [1.6094522 ],\n",
       "           [1.3899815 ],\n",
       "           ...,\n",
       "           [0.43894154],\n",
       "           [0.36578462],\n",
       "           [0.36578462]],\n",
       " \n",
       "          [[1.6094522 ],\n",
       "           [1.4997169 ],\n",
       "           [1.4265599 ],\n",
       "           ...,\n",
       "           [0.47551998],\n",
       "           [0.40236306],\n",
       "           [0.40236306]],\n",
       " \n",
       "          [[1.4265599 ],\n",
       "           [1.4265599 ],\n",
       "           [1.4265599 ],\n",
       "           ...,\n",
       "           [0.40236306],\n",
       "           [0.36578462],\n",
       "           [0.36578462]],\n",
       " \n",
       "          ...,\n",
       " \n",
       "          [[1.0607754 ],\n",
       "           [1.0607754 ],\n",
       "           [1.0241969 ],\n",
       "           ...,\n",
       "           [0.10973538],\n",
       "           [0.07315692],\n",
       "           [0.07315692]],\n",
       " \n",
       "          [[1.0607754 ],\n",
       "           [1.0607754 ],\n",
       "           [1.0607754 ],\n",
       "           ...,\n",
       "           [0.07315692],\n",
       "           [0.03657846],\n",
       "           [0.        ]],\n",
       " \n",
       "          [[1.0607754 ],\n",
       "           [1.0607754 ],\n",
       "           [1.0241969 ],\n",
       "           ...,\n",
       "           [0.07315692],\n",
       "           [0.        ],\n",
       "           [0.        ]]]]], dtype=float32),\n",
       " array([[19,  5, 20, 39,  7, 18,  5,  5, 14, 39, 23,  9, 20,  8, 39, 24,\n",
       "         39,  6, 15, 21, 18, 39, 16, 12,  5,  1, 19,  5,  0,  0,  0,  0,\n",
       "          0,  0,  0,  0,  0,  0,  0,  0],\n",
       "        [16, 12,  1,  3,  5, 39,  2, 12, 21,  5, 39,  9, 14, 39, 15, 39,\n",
       "          6,  9, 22,  5, 39, 19, 15, 15, 14,  0,  0,  0,  0,  0,  0,  0,\n",
       "          0,  0,  0,  0,  0,  0,  0,  0]], dtype=int64))"
      ]
     },
     "execution_count": 60,
     "metadata": {},
     "output_type": "execute_result"
    }
   ],
   "source": [
    "sample"
   ]
  },
  {
   "cell_type": "code",
   "execution_count": 61,
   "id": "a43621f0-229d-4c0d-9554-9c3a3da9c61a",
   "metadata": {
    "tags": []
   },
   "outputs": [
    {
     "name": "stdout",
     "output_type": "stream",
     "text": [
      "1/1 [==============================] - 3s 3s/step\n"
     ]
    }
   ],
   "source": [
    "yhat = model.predict(sample[0])"
   ]
  },
  {
   "cell_type": "code",
   "execution_count": 62,
   "id": "ea462999-f87e-4a7e-a057-5be7b6d8f7d5",
   "metadata": {
    "tags": []
   },
   "outputs": [
    {
     "name": "stdout",
     "output_type": "stream",
     "text": [
      "~~~~~~~~~~~~~~~~~~~~~~~~~~~~~~~~~~~~~~~~~~~~~~~~~~~~~~~~~~~~~~~~~~~~~~~~~~~~~~~~~~~~~~~~~~~~~~~~~~~~ REAL TEXT\n"
     ]
    },
    {
     "data": {
      "text/plain": [
       "[<tf.Tensor: shape=(), dtype=string, numpy=b'set green with x four please'>,\n",
       " <tf.Tensor: shape=(), dtype=string, numpy=b'place blue in o five soon'>]"
      ]
     },
     "execution_count": 62,
     "metadata": {},
     "output_type": "execute_result"
    }
   ],
   "source": [
    "print('~'*100, 'REAL TEXT')\n",
    "[tf.strings.reduce_join([num_to_char(word) for word in sentence]) for sentence in sample[1]]"
   ]
  },
  {
   "cell_type": "code",
   "execution_count": 63,
   "id": "82bd4c10-dd6e-411e-834b-2a3b43fd12c5",
   "metadata": {
    "tags": []
   },
   "outputs": [],
   "source": [
    "decoded = tf.keras.backend.ctc_decode(yhat, input_length=[75,75], greedy=True)[0][0].numpy()"
   ]
  },
  {
   "cell_type": "code",
   "execution_count": 64,
   "id": "5d68ac46-c90b-4eab-a709-f19aee569ff5",
   "metadata": {
    "tags": []
   },
   "outputs": [
    {
     "name": "stdout",
     "output_type": "stream",
     "text": [
      "~~~~~~~~~~~~~~~~~~~~~~~~~~~~~~~~~~~~~~~~~~~~~~~~~~~~~~~~~~~~~~~~~~~~~~~~~~~~~~~~~~~~~~~~~~~~~~~~~~~~ PREDICTIONS\n"
     ]
    },
    {
     "data": {
      "text/plain": [
       "[<tf.Tensor: shape=(), dtype=string, numpy=b'set green with four please'>,\n",
       " <tf.Tensor: shape=(), dtype=string, numpy=b'place blue in five soon'>]"
      ]
     },
     "execution_count": 64,
     "metadata": {},
     "output_type": "execute_result"
    }
   ],
   "source": [
    "print('~'*100, 'PREDICTIONS')\n",
    "[tf.strings.reduce_join([num_to_char(word) for word in sentence]) for sentence in decoded]"
   ]
  },
  {
   "cell_type": "markdown",
   "id": "64622f98-e99b-4fed-a2cc-f0da82eb5431",
   "metadata": {},
   "source": [
    "# 6. Testing on a Video"
   ]
  },
  {
   "cell_type": "code",
   "execution_count": 65,
   "id": "a8b0c4d0-2031-4331-b91d-d87b1ae6f6e2",
   "metadata": {},
   "outputs": [],
   "source": [
    "# sample = load_data(tf.convert_to_tensor('.\\\\data\\\\s1\\\\bras9a.mpg'))\n",
    "sample = load_data(tf.convert_to_tensor('.\\\\data\\\\s1\\\\swwv9a.mpg'))"
   ]
  },
  {
   "cell_type": "code",
   "execution_count": 66,
   "id": "0cca60e4-47a9-4683-8a75-48f4684f723d",
   "metadata": {},
   "outputs": [
    {
     "name": "stdout",
     "output_type": "stream",
     "text": [
      "~~~~~~~~~~~~~~~~~~~~~~~~~~~~~~~~~~~~~~~~~~~~~~~~~~~~~~~~~~~~~~~~~~~~~~~~~~~~~~~~~~~~~~~~~~~~~~~~~~~~ REAL TEXT\n"
     ]
    },
    {
     "data": {
      "text/plain": [
       "[<tf.Tensor: shape=(), dtype=string, numpy=b'set white with sp v nine again'>]"
      ]
     },
     "execution_count": 66,
     "metadata": {},
     "output_type": "execute_result"
    }
   ],
   "source": [
    "print('~'*100, 'REAL TEXT')\n",
    "[tf.strings.reduce_join([num_to_char(word) for word in sentence]) for sentence in [sample[1]]]"
   ]
  },
  {
   "cell_type": "code",
   "execution_count": 67,
   "id": "8cc5037c-1e32-435c-b0cc-01e1fb3b863c",
   "metadata": {},
   "outputs": [
    {
     "name": "stdout",
     "output_type": "stream",
     "text": [
      "1/1 [==============================] - 1s 940ms/step\n"
     ]
    }
   ],
   "source": [
    "yhat = model.predict(tf.expand_dims(sample[0], axis=0))"
   ]
  },
  {
   "cell_type": "code",
   "execution_count": 68,
   "id": "22c4f77d-715d-409f-bc5e-3ebe48704e8f",
   "metadata": {},
   "outputs": [],
   "source": [
    "decoded = tf.keras.backend.ctc_decode(yhat, input_length=[75], greedy=True)[0][0].numpy()"
   ]
  },
  {
   "cell_type": "code",
   "execution_count": 69,
   "id": "e4d12ecc-b634-499e-a4bc-db9f010835fb",
   "metadata": {},
   "outputs": [
    {
     "name": "stdout",
     "output_type": "stream",
     "text": [
      "~~~~~~~~~~~~~~~~~~~~~~~~~~~~~~~~~~~~~~~~~~~~~~~~~~~~~~~~~~~~~~~~~~~~~~~~~~~~~~~~~~~~~~~~~~~~~~~~~~~~ PREDICTIONS\n"
     ]
    },
    {
     "data": {
      "text/plain": [
       "[<tf.Tensor: shape=(), dtype=string, numpy=b'set white with nine again'>]"
      ]
     },
     "execution_count": 69,
     "metadata": {},
     "output_type": "execute_result"
    }
   ],
   "source": [
    "print('~'*100, 'PREDICTIONS')\n",
    "[tf.strings.reduce_join([num_to_char(word) for word in sentence]) for sentence in decoded]"
   ]
  },
  {
   "cell_type": "markdown",
   "id": "e34f298b",
   "metadata": {},
   "source": [
    "# Evaluation Metrics"
   ]
  },
  {
   "cell_type": "code",
   "execution_count": 70,
   "id": "28419e72",
   "metadata": {},
   "outputs": [],
   "source": [
    "real_text = 'bin blue at f three soon'\n",
    "predicted_text = 'bin blue at t ree soon'\n"
   ]
  },
  {
   "cell_type": "markdown",
   "id": "e8b64c94",
   "metadata": {},
   "source": [
    "## 1. Word Error Rate"
   ]
  },
  {
   "cell_type": "code",
   "execution_count": 71,
   "id": "b526e180",
   "metadata": {},
   "outputs": [
    {
     "name": "stdout",
     "output_type": "stream",
     "text": [
      "Word Error Rate :  0.3333333333333333\n"
     ]
    }
   ],
   "source": [
    "def wer(reference, hypothesis):\n",
    "    reference_words = reference.split()\n",
    "    hypothesis_words = hypothesis.split()\n",
    "    \n",
    "    dp = [[0] * (len(hypothesis_words) + 1) for _ in range(len(reference_words) + 1)]\n",
    "    \n",
    "    for i in range(len(reference_words) + 1):\n",
    "        dp[i][0] = i\n",
    "        \n",
    "    for j in range(len(hypothesis_words) + 1):\n",
    "        dp[0][j] = j\n",
    "    \n",
    "    for i in range(1, len(reference_words) + 1):\n",
    "        for j in range(1, len(hypothesis_words) + 1):\n",
    "            if reference_words[i - 1] == hypothesis_words[j - 1]:\n",
    "                dp[i][j] = dp[i - 1][j - 1]\n",
    "            else:\n",
    "                dp[i][j] = min(dp[i - 1][j - 1], dp[i - 1][j], dp[i][j - 1]) + 1\n",
    "                \n",
    "    wer = dp[len(reference_words)][len(hypothesis_words)] / len(reference_words)\n",
    "    return wer\n",
    "print(\"Word Error Rate : \",wer(real_text, predicted_text))"
   ]
  },
  {
   "cell_type": "markdown",
   "id": "6ff3977b",
   "metadata": {},
   "source": [
    "## 2. Character Error Rate"
   ]
  },
  {
   "cell_type": "code",
   "execution_count": 72,
   "id": "0085e524",
   "metadata": {},
   "outputs": [
    {
     "name": "stdout",
     "output_type": "stream",
     "text": [
      "Character Error Rate :  0.125\n"
     ]
    }
   ],
   "source": [
    "def cer(reference, hypothesis):\n",
    "    reference_chars = list(reference)\n",
    "    hypothesis_chars = list(hypothesis)\n",
    "    \n",
    "    dp = [[0] * (len(hypothesis_chars) + 1) for _ in range(len(reference_chars) + 1)]\n",
    "    \n",
    "    for i in range(len(reference_chars) + 1):\n",
    "        dp[i][0] = i\n",
    "        \n",
    "    for j in range(len(hypothesis_chars) + 1):\n",
    "        dp[0][j] = j\n",
    "    \n",
    "    for i in range(1, len(reference_chars) + 1):\n",
    "        for j in range(1, len(hypothesis_chars) + 1):\n",
    "            if reference_chars[i - 1] == hypothesis_chars[j - 1]:\n",
    "                dp[i][j] = dp[i - 1][j - 1]\n",
    "            else:\n",
    "                dp[i][j] = min(dp[i - 1][j - 1], dp[i - 1][j], dp[i][j - 1]) + 1\n",
    "                \n",
    "    cer = dp[len(reference_chars)][len(hypothesis_chars)] / len(reference_chars)\n",
    "    return cer\n",
    "print(\"Character Error Rate : \",cer(real_text, predicted_text))"
   ]
  },
  {
   "cell_type": "markdown",
   "id": "36dcb460",
   "metadata": {},
   "source": [
    "## 3. Word Accuracy"
   ]
  },
  {
   "cell_type": "code",
   "execution_count": 73,
   "id": "94e481ae",
   "metadata": {},
   "outputs": [
    {
     "name": "stdout",
     "output_type": "stream",
     "text": [
      "66.66666666666666\n"
     ]
    }
   ],
   "source": [
    "def word_accuracy_percentage(reference, hypothesis):\n",
    "    reference_words = reference.split()\n",
    "    hypothesis_words = hypothesis.split()\n",
    "    correct_words = sum(1 for ref, hyp in zip(reference_words, hypothesis_words) if ref == hyp)\n",
    "    total_words = len(reference_words)\n",
    "    accuracy = (correct_words / total_words) * 100\n",
    "    return accuracy\n",
    "print(word_accuracy_percentage(real_text, predicted_text))"
   ]
  },
  {
   "cell_type": "markdown",
   "id": "3fb4ad0d",
   "metadata": {},
   "source": [
    "## 4.F1 Score"
   ]
  },
  {
   "cell_type": "code",
   "execution_count": 74,
   "id": "5b3c914f",
   "metadata": {},
   "outputs": [
    {
     "name": "stdout",
     "output_type": "stream",
     "text": [
      "0.6666666666666666\n"
     ]
    }
   ],
   "source": [
    "def precision(reference, hypothesis):\n",
    "    reference_words = set(reference.split())\n",
    "    hypothesis_words = set(hypothesis.split())\n",
    "    true_positives = len(reference_words.intersection(hypothesis_words))\n",
    "    predicted_positives = len(hypothesis_words)\n",
    "    precision = true_positives / predicted_positives if predicted_positives > 0 else 0\n",
    "    return precision\n",
    "\n",
    "def recall(reference, hypothesis):\n",
    "    reference_words = set(reference.split())\n",
    "    hypothesis_words = set(hypothesis.split())\n",
    "    true_positives = len(reference_words.intersection(hypothesis_words))\n",
    "    actual_positives = len(reference_words)\n",
    "    recall = true_positives / actual_positives if actual_positives > 0 else 0\n",
    "    return recall\n",
    "\n",
    "def f1_score(reference, hypothesis):\n",
    "    prec = precision(reference, hypothesis)\n",
    "    rec = recall(reference, hypothesis)\n",
    "    f1 = (2 * prec * rec) / (prec + rec) if (prec + rec) > 0 else 0\n",
    "    return f1\n",
    "print(precision(real_text, predicted_text))"
   ]
  },
  {
   "cell_type": "markdown",
   "id": "c03720ea",
   "metadata": {},
   "source": [
    "## 5. Bleu Score "
   ]
  },
  {
   "cell_type": "code",
   "execution_count": 76,
   "id": "6e8d8366",
   "metadata": {},
   "outputs": [
    {
     "name": "stdout",
     "output_type": "stream",
     "text": [
      "(6.206021746903507e-78, '0.000')\n"
     ]
    }
   ],
   "source": [
    "from nltk.translate.bleu_score import sentence_bleu\n",
    "\n",
    "def bleu_score(reference, hypothesis):\n",
    "    reference_tokens = [reference.split()]\n",
    "    hypothesis_tokens = hypothesis.split()\n",
    "    bleu = sentence_bleu(reference_tokens, hypothesis_tokens)\n",
    "    bleu_score_decimal = \"{:.3f}\".format(bleu)\n",
    "    return bleu,bleu_score_decimal\n",
    "print(bleu_score(real_text, predicted_text))"
   ]
  },
  {
   "cell_type": "code",
   "execution_count": null,
   "id": "c66878f1",
   "metadata": {},
   "outputs": [],
   "source": []
  }
 ],
 "metadata": {
  "kernelspec": {
   "display_name": "diff2lip",
   "language": "python",
   "name": "python3"
  },
  "language_info": {
   "codemirror_mode": {
    "name": "ipython",
    "version": 3
   },
   "file_extension": ".py",
   "mimetype": "text/x-python",
   "name": "python",
   "nbconvert_exporter": "python",
   "pygments_lexer": "ipython3",
   "version": "3.9.18"
  }
 },
 "nbformat": 4,
 "nbformat_minor": 5
}
